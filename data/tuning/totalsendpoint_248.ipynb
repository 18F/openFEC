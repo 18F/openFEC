{
 "metadata": {
  "name": "",
  "signature": "sha256:207326532567e87e646bb2b127c83dcb960abcbbefde7c9687db8731182a99da"
 },
 "nbformat": 3,
 "nbformat_minor": 0,
 "worksheets": [
  {
   "cells": [
    {
     "cell_type": "code",
     "collapsed": false,
     "input": [
      "from measure import run_tuning_tests"
     ],
     "language": "python",
     "metadata": {},
     "outputs": [],
     "prompt_number": 1
    },
    {
     "cell_type": "code",
     "collapsed": false,
     "input": [
      "%load_ext sql\n",
      "import os\n",
      "sqla_conn = os.getenv('SQLA_CONN')\n",
      "prod = os.getenv('PROXIED_SQLA_CONN')\n",
      "%sql {prod}"
     ],
     "language": "python",
     "metadata": {},
     "outputs": [
      {
       "output_type": "stream",
       "stream": "stdout",
       "text": [
        "The sql extension is already loaded. To reload it, use:\n",
        "  %reload_ext sql\n"
       ]
      },
      {
       "metadata": {},
       "output_type": "pyout",
       "prompt_number": 11,
       "text": [
        "'Connected: webro@cfdm'"
       ]
      }
     ],
     "prompt_number": 11
    },
    {
     "cell_type": "code",
     "collapsed": false,
     "input": [
      "%sql SELECT * FROM tuning_requirement WHERE ticket = '248'"
     ],
     "language": "python",
     "metadata": {},
     "outputs": [
      {
       "output_type": "stream",
       "stream": "stdout",
       "text": [
        "2 rows affected.\n"
       ]
      },
      {
       "html": [
        "<table>\n",
        "    <tr>\n",
        "        <th>id</th>\n",
        "        <th>txt</th>\n",
        "        <th>type</th>\n",
        "        <th>target_seconds</th>\n",
        "        <th>ticket</th>\n",
        "        <th>status</th>\n",
        "    </tr>\n",
        "    <tr>\n",
        "        <td>1</td>\n",
        "        <td>https://fec.18f.us/rest/total</td>\n",
        "        <td>url</td>\n",
        "        <td>None</td>\n",
        "        <td>248</td>\n",
        "        <td>untested</td>\n",
        "    </tr>\n",
        "    <tr>\n",
        "        <td>2</td>\n",
        "        <td>https://fec.18f.us/rest/total/C00000620</td>\n",
        "        <td>url</td>\n",
        "        <td>None</td>\n",
        "        <td>248</td>\n",
        "        <td>untested</td>\n",
        "    </tr>\n",
        "</table>"
       ],
       "metadata": {},
       "output_type": "pyout",
       "prompt_number": 9,
       "text": [
        "[(1, 'https://fec.18f.us/rest/total', 'url', None, '248', 'untested'),\n",
        " (2, 'https://fec.18f.us/rest/total/C00000620', 'url', None, '248', 'untested')]"
       ]
      }
     ],
     "prompt_number": 9
    },
    {
     "cell_type": "code",
     "collapsed": false,
     "input": [
      "# %sql INSERT INTO tuning_requirement (txt, type, ticket) VALUES ('https://fec.18f.us/rest/total', 'url', '248');"
     ],
     "language": "python",
     "metadata": {},
     "outputs": [
      {
       "output_type": "stream",
       "stream": "stdout",
       "text": [
        "1 rows affected.\n"
       ]
      },
      {
       "metadata": {},
       "output_type": "pyout",
       "prompt_number": 6,
       "text": [
        "[]"
       ]
      }
     ],
     "prompt_number": 6
    },
    {
     "cell_type": "code",
     "collapsed": false,
     "input": [
      "# %sql INSERT INTO tuning_requirement (txt, type, ticket) VALUES ('https://fec.18f.us/rest/total/C00000620', 'url', '248')"
     ],
     "language": "python",
     "metadata": {},
     "outputs": [],
     "prompt_number": 8
    },
    {
     "cell_type": "code",
     "collapsed": false,
     "input": [
      "resp = run_tuning_tests(prod, 1)"
     ],
     "language": "python",
     "metadata": {},
     "outputs": [
      {
       "output_type": "stream",
       "stream": "stdout",
       "text": [
        "<Response [200]>\n"
       ]
      }
     ],
     "prompt_number": 16
    },
    {
     "cell_type": "code",
     "collapsed": false,
     "input": [
      "print(resp.content)"
     ],
     "language": "python",
     "metadata": {},
     "outputs": []
    },
    {
     "cell_type": "code",
     "collapsed": false,
     "input": [
      "%%sql \n",
      "SELECT * FROM tuning_test WHERE requirement_id IN (SELECT id FROM tuning_requirement WHERE ticket = '248')"
     ],
     "language": "python",
     "metadata": {},
     "outputs": [
      {
       "output_type": "stream",
       "stream": "stdout",
       "text": [
        "2 rows affected.\n"
       ]
      },
      {
       "html": [
        "<table>\n",
        "    <tr>\n",
        "        <th>id</th>\n",
        "        <th>dt</th>\n",
        "        <th>requirement_id</th>\n",
        "        <th>initial</th>\n",
        "        <th>seconds</th>\n",
        "        <th>error_msg</th>\n",
        "    </tr>\n",
        "    <tr>\n",
        "        <td>1</td>\n",
        "        <td>2015-01-12 17:13:32.431260+00:00</td>\n",
        "        <td>2</td>\n",
        "        <td>True</td>\n",
        "        <td>12.047675499999968</td>\n",
        "        <td>NULL</td>\n",
        "    </tr>\n",
        "    <tr>\n",
        "        <td>2</td>\n",
        "        <td>2015-01-12 17:14:02.594752+00:00</td>\n",
        "        <td>1</td>\n",
        "        <td>True</td>\n",
        "        <td>30.48587956099982</td>\n",
        "        <td>NULL</td>\n",
        "    </tr>\n",
        "</table>"
       ],
       "metadata": {},
       "output_type": "pyout",
       "prompt_number": 17,
       "text": [
        "[(1, datetime.datetime(2015, 1, 12, 17, 13, 32, 431260, tzinfo=psycopg2.tz.FixedOffsetTimezone(offset=0, name=None)), 2, True, Decimal('12.047675499999968'), 'NULL'),\n",
        " (2, datetime.datetime(2015, 1, 12, 17, 14, 2, 594752, tzinfo=psycopg2.tz.FixedOffsetTimezone(offset=0, name=None)), 1, True, Decimal('30.48587956099982'), 'NULL')]"
       ]
      }
     ],
     "prompt_number": 17
    },
    {
     "cell_type": "code",
     "collapsed": false,
     "input": [
      "%%sql\n",
      "SELECT r.txt, t.dt, r.target_seconds, t.seconds, t.error_msg\n",
      "FROM   tuning_requirement r\n",
      "JOIN   tuning_Test t ON (r.id = t.requirement_id)\n",
      "WHERE  r.ticket = '248'\n",
      "ORDER BY r.id, t.dt"
     ],
     "language": "python",
     "metadata": {},
     "outputs": [
      {
       "output_type": "stream",
       "stream": "stdout",
       "text": [
        "2 rows affected.\n"
       ]
      },
      {
       "html": [
        "<table>\n",
        "    <tr>\n",
        "        <th>txt</th>\n",
        "        <th>dt</th>\n",
        "        <th>target_seconds</th>\n",
        "        <th>seconds</th>\n",
        "        <th>error_msg</th>\n",
        "    </tr>\n",
        "    <tr>\n",
        "        <td>https://fec.18f.us/rest/total</td>\n",
        "        <td>2015-01-12 17:14:02.594752+00:00</td>\n",
        "        <td>None</td>\n",
        "        <td>30.48587956099982</td>\n",
        "        <td>NULL</td>\n",
        "    </tr>\n",
        "    <tr>\n",
        "        <td>https://fec.18f.us/rest/total/C00000620</td>\n",
        "        <td>2015-01-12 17:13:32.431260+00:00</td>\n",
        "        <td>None</td>\n",
        "        <td>12.047675499999968</td>\n",
        "        <td>NULL</td>\n",
        "    </tr>\n",
        "</table>"
       ],
       "metadata": {},
       "output_type": "pyout",
       "prompt_number": 18,
       "text": [
        "[('https://fec.18f.us/rest/total', datetime.datetime(2015, 1, 12, 17, 14, 2, 594752, tzinfo=psycopg2.tz.FixedOffsetTimezone(offset=0, name=None)), None, Decimal('30.48587956099982'), 'NULL'),\n",
        " ('https://fec.18f.us/rest/total/C00000620', datetime.datetime(2015, 1, 12, 17, 13, 32, 431260, tzinfo=psycopg2.tz.FixedOffsetTimezone(offset=0, name=None)), None, Decimal('12.047675499999968'), 'NULL')]"
       ]
      }
     ],
     "prompt_number": 18
    },
    {
     "cell_type": "code",
     "collapsed": false,
     "input": [
      "! ../../webservices/to_webservices.sh \"sudo tail /var/log/upstart/rest_server.log\""
     ],
     "language": "python",
     "metadata": {},
     "outputs": [
      {
       "output_type": "stream",
       "stream": "stdout",
       "text": [
        "sudo: unable to resolve host ip-10-0-100-80\r\n",
        "/(dimcmte?exists(facthousesenate_f3)|exists(factpresidential_f3p)|exists(factpacsandparties_f3x)){cmte_id,*, /facthousesenate_f3{*, /dimreporttype}, /facthousesenate_f3^{two_yr_period_sk, dimcmte.cmte_id}{*, sum(^.ref_indv_contb_per) :as ref_indv_contb_per,  sum(^.tranf_from_other_auth_cmte_per) :as tranf_from_other_auth_cmte_per,  sum(^.ref_pol_pty_cmte_contb_per) :as ref_pol_pty_cmte_contb_per,  sum(^.tranf_to_other_auth_cmte_per) :as tranf_to_other_auth_cmte_per,  sum(^.cand_contb_per) :as cand_contb_per,  sum(^.op_exp_per) :as op_exp_per,  sum(^.ttl_loan_repymts_per) :as ttl_loan_repymts_per,  sum(^.ttl_disb_per_ii) :as ttl_disb_per_ii,  sum(^.indv_item_contb_per) :as indv_item_contb_per,  sum(^.indv_unitem_contb_per) :as indv_unitem_contb_per,  sum(^.ttl_receipts_per_i) :as ttl_receipts_per_i,  sum(^.other_pol_cmte_contb_per) :as other_pol_cmte_contb_per,  sum(^.ttl_contb_per) :as ttl_contb_per,  sum(^.pol_pty_cmte_contb_per) :as pol_pty_cmte_contb_per,  sum(^.other_receipts_per) :as other_receipts_per,  sum(^.ttl_loans_per) :as ttl_loans_per,  sum(^.ttl_disb_per_i) :as ttl_disb_per_i,  sum(^.ttl_indv_contb_per) :as ttl_indv_contb_per,  sum(^.ttl_op_exp_per) :as ttl_op_exp_per,  sum(^.loans_made_by_cand_per) :as loans_made_by_cand_per, } :as hs_sums, /factpresidential_f3p{*, /dimreporttype},/factpresidential_f3p^{two_yr_period_sk, dimcmte.cmte_id}{*, sum(^.cand_contb_per) :as cand_contb_per,  sum(^.fed_funds_per) :as fed_funds_per,  sum(^.fndrsg_disb_per) :as fndrsg_disb_per,  sum(^.indv_contb_per) :as indv_contb_per,  sum(^.loans_received_from_cand_per) :as loans_received_from_cand_per,  sum(^.op_exp_per) :as op_exp_per,  sum(^.pol_pty_cmte_contb_per) :as pol_pty_cmte_contb_per,  sum(^.repymts_loans_made_by_cand_per) :as repymts_loans_made_by_cand_per,  sum(^.tranf_from_affilated_cmte_per) :as tranf_from_affilated_cmte_per,  sum(^.tranf_to_other_auth_cmte_per) :as tranf_to_other_auth_cmte_per,  sum(^.ttl_contb_per) :as ttl_contb_per,  sum(^.ttl_contb_ref_per) :as ttl_contb_ref_per,  sum(^.ttl_disb_per) :as ttl_disb_per,  sum(^.ttl_loan_repymts_made_per) :as ttl_loan_repymts_made_per,  sum(^.ttl_loans_received_per) :as ttl_loans_received_per,  sum(^.ttl_offsets_to_op_exp_per) :as ttl_offsets_to_op_exp_per,  sum(^.ttl_receipts_per) :as ttl_receipts_per, } :as p_sums, /factpacsandparties_f3x{*, /dimreporttype},/factpacsandparties_f3x^{two_yr_period_sk, dimcmte.cmte_id}{*, sum(^.ttl_receipts_per) :as ttl_receipts_per,  sum(^.ttl_contb_ref_per_i) :as ttl_contb_ref_per_i,  sum(^.ttl_fed_receipts_per) :as ttl_fed_receipts_per,  sum(^.ttl_fed_elect_actvy_per) :as ttl_fed_elect_actvy_per,  sum(^.ttl_receipts_per) :as ttl_receipts_per,  sum(^.ttl_nonfed_tranf_per) :as ttl_nonfed_tranf_per,  sum(^.ttl_fed_disb_per) :as ttl_fed_disb_per,  sum(^.ttl_disb_per) :as ttl_disb_per,  sum(^.ttl_receipts_sum_page_per) :as ttl_receipts_sum_page_per,  sum(^.ttl_indv_contb) :as ttl_indv_contb,  sum(^.ttl_contb_per) :as ttl_contb_per,  sum(^.ttl_contb_ref_per_ii) :as ttl_contb_ref_per_ii,  sum(^.ttl_fed_op_exp_per) :as ttl_fed_op_exp_per,  sum(^.ttl_op_exp_per) :as ttl_op_exp_per,  sum(^.ttl_disb_sum_page_per) :as ttl_disb_sum_page_per, } :as pp_sums,}?cmte_id='C00000620'\r",
        "\r\n",
        "127.0.0.1 - - [12/Jan/2015 17:12:24] \"GET /total/C00000620 HTTP/1.0\" 200 -\r",
        "\r\n",
        "{'house_senate_totals': 'ref_indv_contb_per,tranf_from_other_auth_cmte_per,ref_pol_pty_cmte_contb_per,tranf_to_other_auth_cmte_per,cand_contb_per,op_exp_per,ttl_loan_repymts_per,ttl_disb_per_ii,indv_item_contb_per,indv_unitem_contb_per,ttl_receipts_per_i,other_pol_cmte_contb_per,ttl_contb_per,pol_pty_cmte_contb_per,other_receipts_per,ttl_loans_per,ttl_disb_per_i,ttl_indv_contb_per,ttl_op_exp_per,loans_made_by_cand_per,', 'dimcmte_fields': '*,', 'house_senate_fields': '*,', 'presidential_fields': '*,', 'pac_party_totals': 'ttl_receipts_per,ttl_contb_ref_per_i,ttl_fed_receipts_per,ttl_fed_elect_actvy_per,ttl_receipts_per,ttl_nonfed_tranf_per,ttl_fed_disb_per,ttl_disb_per,ttl_receipts_sum_page_per,ttl_indv_contb,ttl_contb_per,ttl_contb_ref_per_ii,ttl_fed_op_exp_per,ttl_op_exp_per,ttl_disb_sum_page_p"
       ]
      },
      {
       "output_type": "stream",
       "stream": "stdout",
       "text": [
        "er,', 'presidential_totals': 'cand_contb_per,fed_funds_per,fndrsg_disb_per,indv_contb_per,loans_received_from_cand_per,op_exp_per,pol_pty_cmte_contb_per,repymts_loans_made_by_cand_per,tranf_from_affilated_cmte_per,tranf_to_other_auth_cmte_per,ttl_contb_per,ttl_contb_ref_per,ttl_disb_per,ttl_loan_repymts_made_per,ttl_loans_received_per,ttl_offsets_to_op_exp_per,ttl_receipts_per,', 'pac_party_fields': '*,'}\r",
        "\r\n",
        "/(dimcmte?exists(facthousesenate_f3)|exists(factpresidential_f3p)|exists(factpacsandparties_f3x)){cmte_id,*, /facthousesenate_f3{*, /dimreporttype}, /facthousesenate_f3^{two_yr_period_sk, dimcmte.cmte_id}{*, sum(^.ref_indv_contb_per) :as ref_indv_contb_per,  sum(^.tranf_from_other_auth_cmte_per) :as tranf_from_other_auth_cmte_per,  sum(^.ref_pol_pty_cmte_contb_per) :as ref_pol_pty_cmte_contb_per,  sum(^.tranf_to_other_auth_cmte_per) :as tranf_to_other_auth_cmte_per,  sum(^.cand_contb_per) :as cand_contb_per,  sum(^.op_exp_per) :as op_exp_per,  sum(^.ttl_loan_repymts_per) :as ttl_loan_repymts_per,  sum(^.ttl_disb_per_ii) :as ttl_disb_per_ii,  sum(^.indv_item_contb_per) :as indv_item_contb_per,  sum(^.indv_unitem_contb_per) :as indv_unitem_contb_per,  sum(^.ttl_receipts_per_i) :as ttl_receipts_per_i,  sum(^.other_pol_cmte_contb_per) :as other_pol_cmte_contb_per,  sum(^.ttl_contb_per) :as ttl_contb_per,  sum(^.pol_pty_cmte_contb_per) :as pol_pty_cmte_contb_per,  sum(^.other_receipts_per) :as other_receipts_per,  sum(^.ttl_loans_per) :as ttl_loans_per,  sum(^.ttl_disb_per_i) :as ttl_disb_per_i,  sum(^.ttl_indv_contb_per) :as ttl_indv_contb_per,  sum(^.ttl_op_exp_per) :as ttl_op_exp_per,  sum(^.loans_made_by_cand_per) :as loans_made_by_cand_per, } :as hs_sums, /factpresidential_f3p{*, /dimreporttype},/factpresidential_f3p^{two_yr_period_sk, dimcmte.cmte_id}{*, sum(^.cand_contb_per) :as cand_contb_per,  sum(^.fed_funds_per) :as fed_funds_per,  sum(^.fndrsg_disb_per) :as fndrsg_disb_per,  sum(^.indv_contb_per) :as indv_contb_per,  sum(^.loans_received_from_cand_per) :as loans_received_from_cand_per,  sum(^.op_exp_per) :as op_exp_per,  sum(^.pol_pty_cmte_contb_per) :as pol_pty_cmte_contb_per,  sum(^.repymts_loans_made_by_cand_per) :as repymts_loans_made_by_cand_per,  sum(^.tranf_from_affilated_cmte_per) :as tranf_from_affilated_cmte_per,  sum(^.tranf_to_other_auth_cmte_per) :as tranf_to_other_auth_cmte_per,  sum(^.ttl_contb_per) :as ttl_contb_per,  sum(^.ttl_contb_ref_per) :as ttl_contb_ref_per,  sum(^.ttl_disb_per) :as ttl_disb_per,  sum(^.ttl_loan_repymts_made_per) :as ttl_loan_repymts_made_per,  sum(^.ttl_loans_received_per) :as ttl_loans_received_per,  sum(^.ttl_offsets_to_op_exp_per) :as ttl_offsets_to_op_exp_per,  sum(^.ttl_receipts_per) :as ttl_receipts_per, } :as p_sums, /factpacsandparties_f3x{*, /dimreporttype},/factpacsandparties_f3x^{two_yr_period_sk, dimcmte.cmte_id}{*, sum(^.ttl_receipts_per) :as ttl_receipts_per,  sum(^.ttl_contb_ref_per_i) :as ttl_contb_ref_per_i,  sum(^.ttl_fed_receipts_per) :as ttl_fed_receipts_per,  sum(^.ttl_fed_elect_actvy_per) :as ttl_fed_elect_actvy_per,  sum(^.ttl_receipts_per) :as ttl_receipts_per,  sum(^.ttl_nonfed_tranf_per) :as ttl_nonfed_tranf_per,  sum(^.ttl_fed_disb_per) :as ttl_fed_disb_per,  sum(^.ttl_disb_per) :as ttl_disb_per,  sum(^.ttl_receipts_sum_page_per) :as ttl_receipts_sum_page_per,  sum(^.ttl_indv_contb) :as ttl_indv_contb,  sum(^.ttl_contb_per) :as ttl_contb_per,  sum(^.ttl_contb_ref_per_ii) :as ttl_contb_ref_per_ii,  sum(^.ttl_fed_op_exp_per) :as ttl_fed_op_exp_per,  sum(^.ttl_op_exp_per) :as ttl_op_exp_per,  sum(^.ttl_disb_sum_page_per) :as ttl_disb_sum_page_per, } :as pp_sums,}?cmte_id='C00000620'\r",
        "\r\n",
        "127.0.0.1 - - [12/Jan/2015 17:13:44] \"GET /total/C00000620 HTTP/1.0\" 200 -\r",
        "\r\n",
        "{'house_senate_totals': 'ref_indv_contb_per,tranf_from_other_auth_cmte_per,ref_pol_pty_cmte_contb_per,tranf_to_other_auth_cmte_per,cand_contb_per,op_exp_per,ttl_loan_repymts_per,ttl_disb_per_ii,indv_item_contb_per,indv_unitem_contb_per,ttl_receipts_per_i,other_pol_cmte_contb_per,ttl_contb_per,pol_pty_cmte_contb_per,other_receipts_per,ttl_loans_per,ttl_disb_per_i,ttl_indv_contb_per,ttl_op_exp_pe"
       ]
      },
      {
       "output_type": "stream",
       "stream": "stdout",
       "text": [
        "r,loans_made_by_cand_per,', 'dimcmte_fields': '*,', 'house_senate_fields': '*,', 'presidential_fields': '*,', 'pac_party_totals': 'ttl_receipts_per,ttl_contb_ref_per_i,ttl_fed_receipts_per,ttl_fed_elect_actvy_per,ttl_receipts_per,ttl_nonfed_tranf_per,ttl_fed_disb_per,ttl_disb_per,ttl_receipts_sum_page_per,ttl_indv_contb,ttl_contb_per,ttl_contb_ref_per_ii,ttl_fed_op_exp_per,ttl_op_exp_per,ttl_disb_sum_page_per,', 'presidential_totals': 'cand_contb_per,fed_funds_per,fndrsg_disb_per,indv_contb_per,loans_received_from_cand_per,op_exp_per,pol_pty_cmte_contb_per,repymts_loans_made_by_cand_per,tranf_from_affilated_cmte_per,tranf_to_other_auth_cmte_per,ttl_contb_per,ttl_contb_ref_per,ttl_disb_per,ttl_loan_repymts_made_per,ttl_loans_received_per,ttl_offsets_to_op_exp_per,ttl_receipts_per,', 'pac_party_fields': '*,'}\r",
        "\r\n",
        "\r",
        "\r\n",
        "/((dimcmte?exists(facthousesenate_f3)|exists(factpresidential_f3p)|exists(factpacsandparties_f3x)){cmte_id,*, /facthousesenate_f3{*, /dimreporttype}, /facthousesenate_f3^{two_yr_period_sk, dimcmte.cmte_id}{*, sum(^.ref_indv_contb_per) :as ref_indv_contb_per,  sum(^.tranf_from_other_auth_cmte_per) :as tranf_from_other_auth_cmte_per,  sum(^.ref_pol_pty_cmte_contb_per) :as ref_pol_pty_cmte_contb_per,  sum(^.tranf_to_other_auth_cmte_per) :as tranf_to_other_auth_cmte_per,  sum(^.cand_contb_per) :as cand_contb_per,  sum(^.op_exp_per) :as op_exp_per,  sum(^.ttl_loan_repymts_per) :as ttl_loan_repymts_per,  sum(^.ttl_disb_per_ii) :as ttl_disb_per_ii,  sum(^.indv_item_contb_per) :as indv_item_contb_per,  sum(^.indv_unitem_contb_per) :as indv_unitem_contb_per,  sum(^.ttl_receipts_per_i) :as ttl_receipts_per_i,  sum(^.other_pol_cmte_contb_per) :as other_pol_cmte_contb_per,  sum(^.ttl_contb_per) :as ttl_contb_per,  sum(^.pol_pty_cmte_contb_per) :as pol_pty_cmte_contb_per,  sum(^.other_receipts_per) :as other_receipts_per,  sum(^.ttl_loans_per) :as ttl_loans_per,  sum(^.ttl_disb_per_i) :as ttl_disb_per_i,  sum(^.ttl_indv_contb_per) :as ttl_indv_contb_per,  sum(^.ttl_op_exp_per) :as ttl_op_exp_per,  sum(^.loans_made_by_cand_per) :as loans_made_by_cand_per, } :as hs_sums, /factpresidential_f3p{*, /dimreporttype},/factpresidential_f3p^{two_yr_period_sk, dimcmte.cmte_id}{*, sum(^.cand_contb_per) :as cand_contb_per,  sum(^.fed_funds_per) :as fed_funds_per,  sum(^.fndrsg_disb_per) :as fndrsg_disb_per,  sum(^.indv_contb_per) :as indv_contb_per,  sum(^.loans_received_from_cand_per) :as loans_received_from_cand_per,  sum(^.op_exp_per) :as op_exp_per,  sum(^.pol_pty_cmte_contb_per) :as pol_pty_cmte_contb_per,  sum(^.repymts_loans_made_by_cand_per) :as repymts_loans_made_by_cand_per,  sum(^.tranf_from_affilated_cmte_per) :as tranf_from_affilated_cmte_per,  sum(^.tranf_to_other_auth_cmte_per) :as tranf_to_other_auth_cmte_per,  sum(^.ttl_contb_per) :as ttl_contb_per,  sum(^.ttl_contb_ref_per) :as ttl_contb_ref_per,  sum(^.ttl_disb_per) :as ttl_disb_per,  sum(^.ttl_loan_repymts_made_per) :as ttl_loan_repymts_made_per,  sum(^.ttl_loans_received_per) :as ttl_loans_received_per,  sum(^.ttl_offsets_to_op_exp_per) :as ttl_offsets_to_op_exp_per,  sum(^.ttl_receipts_per) :as ttl_receipts_per, } :as p_sums, /factpacsandparties_f3x{*, /dimreporttype},/factpacsandparties_f3x^{two_yr_period_sk, dimcmte.cmte_id}{*, sum(^.ttl_receipts_per) :as ttl_receipts_per,  sum(^.ttl_contb_ref_per_i) :as ttl_contb_ref_per_i,  sum(^.ttl_fed_receipts_per) :as ttl_fed_receipts_per,  sum(^.ttl_fed_elect_actvy_per) :as ttl_fed_elect_actvy_per,  sum(^.ttl_receipts_per) :as ttl_receipts_per,  sum(^.ttl_nonfed_tranf_per) :as ttl_nonfed_tranf_per,  sum(^.ttl_fed_disb_per) :as ttl_fed_disb_per,  sum(^.ttl_disb_per) :as ttl_disb_per,  sum(^.ttl_receipts_sum_page_per) :as ttl_receipts_sum_page_per,  sum(^.ttl_indv_contb) :as ttl_indv_contb,  sum(^.ttl_contb_per) :as ttl_contb_per,  sum(^.ttl_contb_ref_per_ii) :as ttl_contb_ref_per_ii,  sum(^.ttl_fed_op_exp_per) :as ttl_fed_op_exp_per,  sum(^.ttl_op_exp_per) :as ttl_op_exp_per,  sum(^.ttl_disb_sum_page_per) :as ttl_disb_sum_page_per, } :as pp_sums,}).limit(20,0)\r",
        "\r\n",
        "\r",
        "\r\n",
        "127.0.0.1 - - [12/Jan/2015 17:14:17] \"GET /total HTTP/1.0\" 200 -\r",
        "\r\n"
       ]
      }
     ],
     "prompt_number": 19
    },
    {
     "cell_type": "code",
     "collapsed": false,
     "input": [
      "qry_stem = \"https://fec.18f.us/htsql/\"\n",
      "filtered_qry = \"\"\"/((dimcmte?exists(facthousesenate_f3)|exists(factpresidential_f3p)|exists(factpacsandparties_f3x)){cmte_id,*, /facthousesenate_f3{*, /dimreporttype}, /facthousesenate_f3^{two_yr_period_sk, dimcmte.cmte_id}{*, sum(^.ref_indv_contb_per) :as ref_indv_contb_per,  sum(^.tranf_from_other_auth_cmte_per) :as tranf_from_other_auth_cmte_per,  sum(^.ref_pol_pty_cmte_contb_per) :as ref_pol_pty_cmte_contb_per,  sum(^.tranf_to_other_auth_cmte_per) :as tranf_to_other_auth_cmte_per,  sum(^.cand_contb_per) :as cand_contb_per,  sum(^.op_exp_per) :as op_exp_per,  sum(^.ttl_loan_repymts_per) :as ttl_loan_repymts_per,  sum(^.ttl_disb_per_ii) :as ttl_disb_per_ii,  sum(^.indv_item_contb_per) :as indv_item_contb_per,  sum(^.indv_unitem_contb_per) :as indv_unitem_contb_per,  sum(^.ttl_receipts_per_i) :as ttl_receipts_per_i,  sum(^.other_pol_cmte_contb_per) :as other_pol_cmte_contb_per,  sum(^.ttl_contb_per) :as ttl_contb_per,  sum(^.pol_pty_cmte_contb_per) :as pol_pty_cmte_contb_per,  sum(^.other_receipts_per) :as other_receipts_per,  sum(^.ttl_loans_per) :as ttl_loans_per,  sum(^.ttl_disb_per_i) :as ttl_disb_per_i,  sum(^.ttl_indv_contb_per) :as ttl_indv_contb_per,  sum(^.ttl_op_exp_per) :as ttl_op_exp_per,  sum(^.loans_made_by_cand_per) :as loans_made_by_cand_per, } :as hs_sums, /factpresidential_f3p{*, /dimreporttype},/factpresidential_f3p^{two_yr_period_sk, dimcmte.cmte_id}{*, sum(^.cand_contb_per) :as cand_contb_per,  sum(^.fed_funds_per) :as fed_funds_per,  sum(^.fndrsg_disb_per) :as fndrsg_disb_per,  sum(^.indv_contb_per) :as indv_contb_per,  sum(^.loans_received_from_cand_per) :as loans_received_from_cand_per,  sum(^.op_exp_per) :as op_exp_per,  sum(^.pol_pty_cmte_contb_per) :as pol_pty_cmte_contb_per,  sum(^.repymts_loans_made_by_cand_per) :as repymts_loans_made_by_cand_per,  sum(^.tranf_from_affilated_cmte_per) :as tranf_from_affilated_cmte_per,  sum(^.tranf_to_other_auth_cmte_per) :as tranf_to_other_auth_cmte_per,  sum(^.ttl_contb_per) :as ttl_contb_per,  sum(^.ttl_contb_ref_per) :as ttl_contb_ref_per,  sum(^.ttl_disb_per) :as ttl_disb_per,  sum(^.ttl_loan_repymts_made_per) :as ttl_loan_repymts_made_per,  sum(^.ttl_loans_received_per) :as ttl_loans_received_per,  sum(^.ttl_offsets_to_op_exp_per) :as ttl_offsets_to_op_exp_per,  sum(^.ttl_receipts_per) :as ttl_receipts_per, } :as p_sums, /factpacsandparties_f3x{*, /dimreporttype},/factpacsandparties_f3x^{two_yr_period_sk, dimcmte.cmte_id}{*, sum(^.ttl_receipts_per) :as ttl_receipts_per,  sum(^.ttl_contb_ref_per_i) :as ttl_contb_ref_per_i,  sum(^.ttl_fed_receipts_per) :as ttl_fed_receipts_per,  sum(^.ttl_fed_elect_actvy_per) :as ttl_fed_elect_actvy_per,  sum(^.ttl_receipts_per) :as ttl_receipts_per,  sum(^.ttl_nonfed_tranf_per) :as ttl_nonfed_tranf_per,  sum(^.ttl_fed_disb_per) :as ttl_fed_disb_per,  sum(^.ttl_disb_per) :as ttl_disb_per,  sum(^.ttl_receipts_sum_page_per) :as ttl_receipts_sum_page_per,  sum(^.ttl_indv_contb) :as ttl_indv_contb,  sum(^.ttl_contb_per) :as ttl_contb_per,  sum(^.ttl_contb_ref_per_ii) :as ttl_contb_ref_per_ii,  sum(^.ttl_fed_op_exp_per) :as ttl_fed_op_exp_per,  sum(^.ttl_op_exp_per) :as ttl_op_exp_per,  sum(^.ttl_disb_sum_page_per) :as ttl_disb_sum_page_per, } :as pp_sums,}).limit(20,0)\"\"\"\n",
      "filtered_url = qry_stem + filtered_qry + \"/:sql\""
     ],
     "language": "python",
     "metadata": {},
     "outputs": [],
     "prompt_number": 20
    },
    {
     "cell_type": "code",
     "collapsed": false,
     "input": [
      "-- %sql INSERT INTO tuning_requirement (txt, type, target_seconds, ticket) VALUES ('{(qry_stem + cand_qry).replace(\"'\",\"''\").replace(\"\\n\",\" \")}', 'url', 0.25, '249')"
     ],
     "language": "python",
     "metadata": {},
     "outputs": [
      {
       "ename": "SyntaxError",
       "evalue": "invalid syntax (<ipython-input-9-b64aa3ceb066>, line 1)",
       "output_type": "pyerr",
       "traceback": [
        "\u001b[1;36m  File \u001b[1;32m\"<ipython-input-9-b64aa3ceb066>\"\u001b[1;36m, line \u001b[1;32m1\u001b[0m\n\u001b[1;33m    -- %sql INSERT INTO tuning_requirement (txt, type, target_seconds, ticket) VALUES ('{(qry_stem + cand_qry).replace(\"'\",\"''\").replace(\"\\n\",\" \")}', 'url', 0.25, '249')\u001b[0m\n\u001b[1;37m       ^\u001b[0m\n\u001b[1;31mSyntaxError\u001b[0m\u001b[1;31m:\u001b[0m invalid syntax\n"
       ]
      }
     ],
     "prompt_number": 9
    },
    {
     "cell_type": "code",
     "collapsed": false,
     "input": [
      "import requests\n",
      "import os\n",
      "response = requests.get(filtered_url, auth=(os.getenv('NGINX_USERNAME'), os.getenv('NGINX_PASSWORD')))"
     ],
     "language": "python",
     "metadata": {},
     "outputs": [],
     "prompt_number": 21
    },
    {
     "cell_type": "code",
     "collapsed": false,
     "input": [
      "filtered_sql = response.content.decode('utf8')"
     ],
     "language": "python",
     "metadata": {},
     "outputs": [],
     "prompt_number": 22
    },
    {
     "cell_type": "code",
     "collapsed": false,
     "input": [
      "filtered_selects = filtered_sql.split('\\n\\n')"
     ],
     "language": "python",
     "metadata": {},
     "outputs": [],
     "prompt_number": 23
    },
    {
     "cell_type": "code",
     "collapsed": false,
     "input": [
      "print(filtered_selects[2])"
     ],
     "language": "python",
     "metadata": {},
     "outputs": [
      {
       "output_type": "stream",
       "stream": "stdout",
       "text": [
        "SELECT \"facthousesenate_f3\".\"two_yr_period_sk\",\n",
        "       \"facthousesenate_f3\".\"cmte_id\",\n",
        "       COALESCE(\"facthousesenate_f3\".\"sum_1\", 0::NUMERIC),\n",
        "       COALESCE(\"facthousesenate_f3\".\"sum_2\", 0::NUMERIC),\n",
        "       COALESCE(\"facthousesenate_f3\".\"sum_3\", 0::NUMERIC),\n",
        "       COALESCE(\"facthousesenate_f3\".\"sum_4\", 0::NUMERIC),\n",
        "       COALESCE(\"facthousesenate_f3\".\"sum_5\", 0::NUMERIC),\n",
        "       COALESCE(\"facthousesenate_f3\".\"sum_6\", 0::NUMERIC),\n",
        "       COALESCE(\"facthousesenate_f3\".\"sum_7\", 0::NUMERIC),\n",
        "       COALESCE(\"facthousesenate_f3\".\"sum_8\", 0::NUMERIC),\n",
        "       COALESCE(\"facthousesenate_f3\".\"sum_9\", 0::NUMERIC),\n",
        "       COALESCE(\"facthousesenate_f3\".\"sum_10\", 0::NUMERIC),\n",
        "       COALESCE(\"facthousesenate_f3\".\"sum_11\", 0::NUMERIC),\n",
        "       COALESCE(\"facthousesenate_f3\".\"sum_12\", 0::NUMERIC),\n",
        "       COALESCE(\"facthousesenate_f3\".\"sum_13\", 0::NUMERIC),\n",
        "       COALESCE(\"facthousesenate_f3\".\"sum_14\", 0::NUMERIC),\n",
        "       COALESCE(\"facthousesenate_f3\".\"sum_15\", 0::NUMERIC),\n",
        "       COALESCE(\"facthousesenate_f3\".\"sum_16\", 0::NUMERIC),\n",
        "       COALESCE(\"facthousesenate_f3\".\"sum_17\", 0::NUMERIC),\n",
        "       COALESCE(\"facthousesenate_f3\".\"sum_18\", 0::NUMERIC),\n",
        "       COALESCE(\"facthousesenate_f3\".\"sum_19\", 0::NUMERIC),\n",
        "       COALESCE(\"facthousesenate_f3\".\"sum_20\", 0::NUMERIC),\n",
        "       \"dimcmte\".\"cmte_sk\"\n",
        "FROM (SELECT \"dimcmte\".\"cmte_sk\"\n",
        "      FROM \"dimcmte\"\n",
        "      WHERE (EXISTS(SELECT TRUE\n",
        "                    FROM \"facthousesenate_f3\"\n",
        "                    WHERE (\"dimcmte\".\"cmte_sk\" = \"facthousesenate_f3\".\"cmte_sk\")) OR EXISTS(SELECT TRUE\n",
        "                                                                                            FROM \"factpresidential_f3p\"\n",
        "                                                                                            WHERE (\"dimcmte\".\"cmte_sk\" = \"factpresidential_f3p\".\"cmte_sk\")) OR EXISTS(SELECT TRUE\n",
        "                                                                                                                                                                      FROM \"factpacsandparties_f3x\"\n",
        "                                                                                                                                                                      WHERE (\"dimcmte\".\"cmte_sk\" = \"factpacsandparties_f3x\".\"cmte_sk\")))\n",
        "      ORDER BY 1 ASC\n",
        "      LIMIT 20\n",
        "      OFFSET 0) AS \"dimcmte\"\n",
        "     INNER JOIN (SELECT \"facthousesenate_f3\".\"two_yr_period_sk\",\n",
        "                        \"dimcmte\".\"cmte_id\",\n",
        "                        SUM(\"facthousesenate_f3\".\"ref_indv_contb_per\") AS \"sum_1\",\n",
        "                        SUM(\"facthousesenate_f3\".\"tranf_from_other_auth_cmte_per\") AS \"sum_2\",\n",
        "                        SUM(\"facthousesenate_f3\".\"ref_pol_pty_cmte_contb_per\") AS \"sum_3\",\n",
        "                        SUM(\"facthousesenate_f3\".\"tranf_to_other_auth_cmte_per\") AS \"sum_4\",\n",
        "                        SUM(\"facthousesenate_f3\".\"cand_contb_per\") AS \"sum_5\",\n",
        "                        SUM(\"facthousesenate_f3\".\"op_exp_per\") AS \"sum_6\",\n",
        "                        SUM(\"facthousesenate_f3\".\"ttl_loan_repymts_per\") AS \"sum_7\",\n",
        "                        SUM(\"facthousesenate_f3\".\"ttl_disb_per_ii\") AS \"sum_8\",\n",
        "                        SUM(\"facthousesenate_f3\".\"indv_item_contb_per\") AS \"sum_9\",\n",
        "                        SUM(\"facthousesenate_f3\".\"indv_unitem_contb_per\") AS \"sum_10\",\n",
        "                        SUM(\"facthousesenate_f3\".\"ttl_receipts_per_i\") AS \"sum_11\",\n",
        "                        SUM(\"facthousesenate_f3\".\"other_pol_cmte_contb_per\") AS \"sum_12\",\n",
        "                        SUM(\"facthousesenate_f3\".\"ttl_contb_per\") AS \"sum_13\",\n",
        "                        SUM(\"facthousesenate_f3\".\"pol_pty_cmte_contb_per\") AS \"sum_14\",\n",
        "                        SUM(\"facthousesenate_f3\".\"other_receipts_per\") AS \"sum_15\",\n",
        "                        SUM(\"facthousesenate_f3\".\"ttl_loans_per\") AS \"sum_16\",\n",
        "                        SUM(\"facthousesenate_f3\".\"ttl_disb_per_i\") AS \"sum_17\",\n",
        "                        SUM(\"facthousesenate_f3\".\"ttl_indv_contb_per\") AS \"sum_18\",\n",
        "                        SUM(\"facthousesenate_f3\".\"ttl_op_exp_per\") AS \"sum_19\",\n",
        "                        SUM(\"facthousesenate_f3\".\"loans_made_by_cand_per\") AS \"sum_20\",\n",
        "                        \"facthousesenate_f3\".\"cmte_sk\"\n",
        "                 FROM \"facthousesenate_f3\"\n",
        "                      LEFT OUTER JOIN \"dimcmte\"\n",
        "                                      ON (\"facthousesenate_f3\".\"cmte_sk\" = \"dimcmte\".\"cmte_sk\")\n",
        "                 WHERE (\"facthousesenate_f3\".\"two_yr_period_sk\" IS NOT NULL)\n",
        "                       AND (\"dimcmte\".\"cmte_id\" IS NOT NULL)\n",
        "                 GROUP BY 23, 1, 2) AS \"facthousesenate_f3\"\n",
        "                ON (\"dimcmte\".\"cmte_sk\" = \"facthousesenate_f3\".\"cmte_sk\")\n",
        "ORDER BY 23 ASC, 1 ASC NULLS FIRST, 2 ASC NULLS FIRST\n"
       ]
      }
     ],
     "prompt_number": 28
    },
    {
     "cell_type": "code",
     "collapsed": false,
     "input": [
      "%sql EXPLAIN {filtered_selects[2]}"
     ],
     "language": "python",
     "metadata": {},
     "outputs": [
      {
       "output_type": "stream",
       "stream": "stdout",
       "text": [
        "29 rows affected.\n"
       ]
      },
      {
       "html": [
        "<table>\n",
        "    <tr>\n",
        "        <th>QUERY PLAN</th>\n",
        "    </tr>\n",
        "    <tr>\n",
        "        <td>Sort  (cost=505227.27..505460.43 rows=93264 width=666)</td>\n",
        "    </tr>\n",
        "    <tr>\n",
        "        <td>&nbsp;&nbsp;Sort Key: dimcmte_1.cmte_sk, facthousesenate_f3.two_yr_period_sk, dimcmte.cmte_id</td>\n",
        "    </tr>\n",
        "    <tr>\n",
        "        <td>&nbsp;&nbsp;-&gt;  Merge Join  (cost=363500.51..442060.78 rows=93264 width=666)</td>\n",
        "    </tr>\n",
        "    <tr>\n",
        "        <td>&nbsp;&nbsp;&nbsp;&nbsp;&nbsp;&nbsp;&nbsp;&nbsp;Merge Cond: (facthousesenate_f3.cmte_sk = dimcmte_1.cmte_sk)</td>\n",
        "    </tr>\n",
        "    <tr>\n",
        "        <td>&nbsp;&nbsp;&nbsp;&nbsp;&nbsp;&nbsp;&nbsp;&nbsp;-&gt;  GroupAggregate  (cost=363500.22..428784.74 rows=932636 width=115)</td>\n",
        "    </tr>\n",
        "    <tr>\n",
        "        <td>&nbsp;&nbsp;&nbsp;&nbsp;&nbsp;&nbsp;&nbsp;&nbsp;&nbsp;&nbsp;&nbsp;&nbsp;&nbsp;&nbsp;-&gt;  Sort  (cost=363500.22..365831.81 rows=932636 width=115)</td>\n",
        "    </tr>\n",
        "    <tr>\n",
        "        <td>&nbsp;&nbsp;&nbsp;&nbsp;&nbsp;&nbsp;&nbsp;&nbsp;&nbsp;&nbsp;&nbsp;&nbsp;&nbsp;&nbsp;&nbsp;&nbsp;&nbsp;&nbsp;&nbsp;&nbsp;Sort Key: facthousesenate_f3.cmte_sk, facthousesenate_f3.two_yr_period_sk, dimcmte.cmte_id</td>\n",
        "    </tr>\n",
        "    <tr>\n",
        "        <td>&nbsp;&nbsp;&nbsp;&nbsp;&nbsp;&nbsp;&nbsp;&nbsp;&nbsp;&nbsp;&nbsp;&nbsp;&nbsp;&nbsp;&nbsp;&nbsp;&nbsp;&nbsp;&nbsp;&nbsp;-&gt;  Hash Join  (cost=2724.03..98887.90 rows=932636 width=115)</td>\n",
        "    </tr>\n",
        "    <tr>\n",
        "        <td>&nbsp;&nbsp;&nbsp;&nbsp;&nbsp;&nbsp;&nbsp;&nbsp;&nbsp;&nbsp;&nbsp;&nbsp;&nbsp;&nbsp;&nbsp;&nbsp;&nbsp;&nbsp;&nbsp;&nbsp;&nbsp;&nbsp;&nbsp;&nbsp;&nbsp;&nbsp;Hash Cond: (facthousesenate_f3.cmte_sk = dimcmte.cmte_sk)</td>\n",
        "    </tr>\n",
        "    <tr>\n",
        "        <td>&nbsp;&nbsp;&nbsp;&nbsp;&nbsp;&nbsp;&nbsp;&nbsp;&nbsp;&nbsp;&nbsp;&nbsp;&nbsp;&nbsp;&nbsp;&nbsp;&nbsp;&nbsp;&nbsp;&nbsp;&nbsp;&nbsp;&nbsp;&nbsp;&nbsp;&nbsp;-&gt;  Seq Scan on facthousesenate_f3  (cost=0.00..45037.36 rows=932636 width=105)</td>\n",
        "    </tr>\n",
        "    <tr>\n",
        "        <td>&nbsp;&nbsp;&nbsp;&nbsp;&nbsp;&nbsp;&nbsp;&nbsp;&nbsp;&nbsp;&nbsp;&nbsp;&nbsp;&nbsp;&nbsp;&nbsp;&nbsp;&nbsp;&nbsp;&nbsp;&nbsp;&nbsp;&nbsp;&nbsp;&nbsp;&nbsp;&nbsp;&nbsp;&nbsp;&nbsp;&nbsp;&nbsp;Filter: (two_yr_period_sk IS NOT NULL)</td>\n",
        "    </tr>\n",
        "    <tr>\n",
        "        <td>&nbsp;&nbsp;&nbsp;&nbsp;&nbsp;&nbsp;&nbsp;&nbsp;&nbsp;&nbsp;&nbsp;&nbsp;&nbsp;&nbsp;&nbsp;&nbsp;&nbsp;&nbsp;&nbsp;&nbsp;&nbsp;&nbsp;&nbsp;&nbsp;&nbsp;&nbsp;-&gt;  Hash  (cost=1660.68..1660.68 rows=57868 width=18)</td>\n",
        "    </tr>\n",
        "    <tr>\n",
        "        <td>&nbsp;&nbsp;&nbsp;&nbsp;&nbsp;&nbsp;&nbsp;&nbsp;&nbsp;&nbsp;&nbsp;&nbsp;&nbsp;&nbsp;&nbsp;&nbsp;&nbsp;&nbsp;&nbsp;&nbsp;&nbsp;&nbsp;&nbsp;&nbsp;&nbsp;&nbsp;&nbsp;&nbsp;&nbsp;&nbsp;&nbsp;&nbsp;-&gt;  Seq Scan on dimcmte  (cost=0.00..1660.68 rows=57868 width=18)</td>\n",
        "    </tr>\n",
        "    <tr>\n",
        "        <td>&nbsp;&nbsp;&nbsp;&nbsp;&nbsp;&nbsp;&nbsp;&nbsp;&nbsp;&nbsp;&nbsp;&nbsp;&nbsp;&nbsp;&nbsp;&nbsp;&nbsp;&nbsp;&nbsp;&nbsp;&nbsp;&nbsp;&nbsp;&nbsp;&nbsp;&nbsp;&nbsp;&nbsp;&nbsp;&nbsp;&nbsp;&nbsp;&nbsp;&nbsp;&nbsp;&nbsp;&nbsp;&nbsp;Filter: (cmte_id IS NOT NULL)</td>\n",
        "    </tr>\n",
        "    <tr>\n",
        "        <td>&nbsp;&nbsp;&nbsp;&nbsp;&nbsp;&nbsp;&nbsp;&nbsp;-&gt;  Materialize  (cost=0.29..219.18 rows=20 width=8)</td>\n",
        "    </tr>\n",
        "    <tr>\n",
        "        <td>&nbsp;&nbsp;&nbsp;&nbsp;&nbsp;&nbsp;&nbsp;&nbsp;&nbsp;&nbsp;&nbsp;&nbsp;&nbsp;&nbsp;-&gt;  Limit  (cost=0.29..218.93 rows=20 width=8)</td>\n",
        "    </tr>\n",
        "    <tr>\n",
        "        <td>&nbsp;&nbsp;&nbsp;&nbsp;&nbsp;&nbsp;&nbsp;&nbsp;&nbsp;&nbsp;&nbsp;&nbsp;&nbsp;&nbsp;&nbsp;&nbsp;&nbsp;&nbsp;&nbsp;&nbsp;-&gt;  Index Only Scan using dimcmte_pkey on dimcmte dimcmte_1  (cost=0.29..553529.10 rows=50634 width=8)</td>\n",
        "    </tr>\n",
        "    <tr>\n",
        "        <td>&nbsp;&nbsp;&nbsp;&nbsp;&nbsp;&nbsp;&nbsp;&nbsp;&nbsp;&nbsp;&nbsp;&nbsp;&nbsp;&nbsp;&nbsp;&nbsp;&nbsp;&nbsp;&nbsp;&nbsp;&nbsp;&nbsp;&nbsp;&nbsp;&nbsp;&nbsp;Filter: ((SubPlan 1) OR (alternatives: SubPlan 2 or hashed SubPlan 3) OR (SubPlan 4))</td>\n",
        "    </tr>\n",
        "    <tr>\n",
        "        <td>&nbsp;&nbsp;&nbsp;&nbsp;&nbsp;&nbsp;&nbsp;&nbsp;&nbsp;&nbsp;&nbsp;&nbsp;&nbsp;&nbsp;&nbsp;&nbsp;&nbsp;&nbsp;&nbsp;&nbsp;&nbsp;&nbsp;&nbsp;&nbsp;&nbsp;&nbsp;SubPlan 1</td>\n",
        "    </tr>\n",
        "    <tr>\n",
        "        <td>&nbsp;&nbsp;&nbsp;&nbsp;&nbsp;&nbsp;&nbsp;&nbsp;&nbsp;&nbsp;&nbsp;&nbsp;&nbsp;&nbsp;&nbsp;&nbsp;&nbsp;&nbsp;&nbsp;&nbsp;&nbsp;&nbsp;&nbsp;&nbsp;&nbsp;&nbsp;&nbsp;&nbsp;-&gt;  Index Only Scan using facthousesenate_f3_cmte_sk_idx on facthousesenate_f3 facthousesenate_f3_1  (cost=0.42..253.51 rows=62 width=0)</td>\n",
        "    </tr>\n",
        "    <tr>\n",
        "        <td>&nbsp;&nbsp;&nbsp;&nbsp;&nbsp;&nbsp;&nbsp;&nbsp;&nbsp;&nbsp;&nbsp;&nbsp;&nbsp;&nbsp;&nbsp;&nbsp;&nbsp;&nbsp;&nbsp;&nbsp;&nbsp;&nbsp;&nbsp;&nbsp;&nbsp;&nbsp;&nbsp;&nbsp;&nbsp;&nbsp;&nbsp;&nbsp;&nbsp;&nbsp;Index Cond: (cmte_sk = dimcmte_1.cmte_sk)</td>\n",
        "    </tr>\n",
        "    <tr>\n",
        "        <td>&nbsp;&nbsp;&nbsp;&nbsp;&nbsp;&nbsp;&nbsp;&nbsp;&nbsp;&nbsp;&nbsp;&nbsp;&nbsp;&nbsp;&nbsp;&nbsp;&nbsp;&nbsp;&nbsp;&nbsp;&nbsp;&nbsp;&nbsp;&nbsp;&nbsp;&nbsp;SubPlan 2</td>\n",
        "    </tr>\n",
        "    <tr>\n",
        "        <td>&nbsp;&nbsp;&nbsp;&nbsp;&nbsp;&nbsp;&nbsp;&nbsp;&nbsp;&nbsp;&nbsp;&nbsp;&nbsp;&nbsp;&nbsp;&nbsp;&nbsp;&nbsp;&nbsp;&nbsp;&nbsp;&nbsp;&nbsp;&nbsp;&nbsp;&nbsp;&nbsp;&nbsp;-&gt;  Index Only Scan using factpresidential_f3p_cmte_sk_idx on factpresidential_f3p  (cost=0.29..4.58 rows=17 width=0)</td>\n",
        "    </tr>\n",
        "    <tr>\n",
        "        <td>&nbsp;&nbsp;&nbsp;&nbsp;&nbsp;&nbsp;&nbsp;&nbsp;&nbsp;&nbsp;&nbsp;&nbsp;&nbsp;&nbsp;&nbsp;&nbsp;&nbsp;&nbsp;&nbsp;&nbsp;&nbsp;&nbsp;&nbsp;&nbsp;&nbsp;&nbsp;&nbsp;&nbsp;&nbsp;&nbsp;&nbsp;&nbsp;&nbsp;&nbsp;Index Cond: (cmte_sk = dimcmte_1.cmte_sk)</td>\n",
        "    </tr>\n",
        "    <tr>\n",
        "        <td>&nbsp;&nbsp;&nbsp;&nbsp;&nbsp;&nbsp;&nbsp;&nbsp;&nbsp;&nbsp;&nbsp;&nbsp;&nbsp;&nbsp;&nbsp;&nbsp;&nbsp;&nbsp;&nbsp;&nbsp;&nbsp;&nbsp;&nbsp;&nbsp;&nbsp;&nbsp;SubPlan 3</td>\n",
        "    </tr>\n",
        "    <tr>\n",
        "        <td>&nbsp;&nbsp;&nbsp;&nbsp;&nbsp;&nbsp;&nbsp;&nbsp;&nbsp;&nbsp;&nbsp;&nbsp;&nbsp;&nbsp;&nbsp;&nbsp;&nbsp;&nbsp;&nbsp;&nbsp;&nbsp;&nbsp;&nbsp;&nbsp;&nbsp;&nbsp;&nbsp;&nbsp;-&gt;  Index Only Scan using factpresidential_f3p_cmte_sk_idx on factpresidential_f3p factpresidential_f3p_1  (cost=0.29..565.11 rows=21388 width=8)</td>\n",
        "    </tr>\n",
        "    <tr>\n",
        "        <td>&nbsp;&nbsp;&nbsp;&nbsp;&nbsp;&nbsp;&nbsp;&nbsp;&nbsp;&nbsp;&nbsp;&nbsp;&nbsp;&nbsp;&nbsp;&nbsp;&nbsp;&nbsp;&nbsp;&nbsp;&nbsp;&nbsp;&nbsp;&nbsp;&nbsp;&nbsp;SubPlan 4</td>\n",
        "    </tr>\n",
        "    <tr>\n",
        "        <td>&nbsp;&nbsp;&nbsp;&nbsp;&nbsp;&nbsp;&nbsp;&nbsp;&nbsp;&nbsp;&nbsp;&nbsp;&nbsp;&nbsp;&nbsp;&nbsp;&nbsp;&nbsp;&nbsp;&nbsp;&nbsp;&nbsp;&nbsp;&nbsp;&nbsp;&nbsp;&nbsp;&nbsp;-&gt;  Index Only Scan using factpacsandparties_f3x_cmte_sk_idx on factpacsandparties_f3x  (cost=0.43..430.10 rows=106 width=0)</td>\n",
        "    </tr>\n",
        "    <tr>\n",
        "        <td>&nbsp;&nbsp;&nbsp;&nbsp;&nbsp;&nbsp;&nbsp;&nbsp;&nbsp;&nbsp;&nbsp;&nbsp;&nbsp;&nbsp;&nbsp;&nbsp;&nbsp;&nbsp;&nbsp;&nbsp;&nbsp;&nbsp;&nbsp;&nbsp;&nbsp;&nbsp;&nbsp;&nbsp;&nbsp;&nbsp;&nbsp;&nbsp;&nbsp;&nbsp;Index Cond: (cmte_sk = dimcmte_1.cmte_sk)</td>\n",
        "    </tr>\n",
        "</table>"
       ],
       "metadata": {},
       "output_type": "pyout",
       "prompt_number": 29,
       "text": [
        "[('Sort  (cost=505227.27..505460.43 rows=93264 width=666)',),\n",
        " ('  Sort Key: dimcmte_1.cmte_sk, facthousesenate_f3.two_yr_period_sk, dimcmte.cmte_id',),\n",
        " ('  ->  Merge Join  (cost=363500.51..442060.78 rows=93264 width=666)',),\n",
        " ('        Merge Cond: (facthousesenate_f3.cmte_sk = dimcmte_1.cmte_sk)',),\n",
        " ('        ->  GroupAggregate  (cost=363500.22..428784.74 rows=932636 width=115)',),\n",
        " ('              ->  Sort  (cost=363500.22..365831.81 rows=932636 width=115)',),\n",
        " ('                    Sort Key: facthousesenate_f3.cmte_sk, facthousesenate_f3.two_yr_period_sk, dimcmte.cmte_id',),\n",
        " ('                    ->  Hash Join  (cost=2724.03..98887.90 rows=932636 width=115)',),\n",
        " ('                          Hash Cond: (facthousesenate_f3.cmte_sk = dimcmte.cmte_sk)',),\n",
        " ('                          ->  Seq Scan on facthousesenate_f3  (cost=0.00..45037.36 rows=932636 width=105)',),\n",
        " ('                                Filter: (two_yr_period_sk IS NOT NULL)',),\n",
        " ('                          ->  Hash  (cost=1660.68..1660.68 rows=57868 width=18)',),\n",
        " ('                                ->  Seq Scan on dimcmte  (cost=0.00..1660.68 rows=57868 width=18)',),\n",
        " ('                                      Filter: (cmte_id IS NOT NULL)',),\n",
        " ('        ->  Materialize  (cost=0.29..219.18 rows=20 width=8)',),\n",
        " ('              ->  Limit  (cost=0.29..218.93 rows=20 width=8)',),\n",
        " ('                    ->  Index Only Scan using dimcmte_pkey on dimcmte dimcmte_1  (cost=0.29..553529.10 rows=50634 width=8)',),\n",
        " ('                          Filter: ((SubPlan 1) OR (alternatives: SubPlan 2 or hashed SubPlan 3) OR (SubPlan 4))',),\n",
        " ('                          SubPlan 1',),\n",
        " ('                            ->  Index Only Scan using facthousesenate_f3_cmte_sk_idx on facthousesenate_f3 facthousesenate_f3_1  (cost=0.42..253.51 rows=62 width=0)',),\n",
        " ('                                  Index Cond: (cmte_sk = dimcmte_1.cmte_sk)',),\n",
        " ('                          SubPlan 2',),\n",
        " ('                            ->  Index Only Scan using factpresidential_f3p_cmte_sk_idx on factpresidential_f3p  (cost=0.29..4.58 rows=17 width=0)',),\n",
        " ('                                  Index Cond: (cmte_sk = dimcmte_1.cmte_sk)',),\n",
        " ('                          SubPlan 3',),\n",
        " ('                            ->  Index Only Scan using factpresidential_f3p_cmte_sk_idx on factpresidential_f3p factpresidential_f3p_1  (cost=0.29..565.11 rows=21388 width=8)',),\n",
        " ('                          SubPlan 4',),\n",
        " ('                            ->  Index Only Scan using factpacsandparties_f3x_cmte_sk_idx on factpacsandparties_f3x  (cost=0.43..430.10 rows=106 width=0)',),\n",
        " ('                                  Index Cond: (cmte_sk = dimcmte_1.cmte_sk)',)]"
       ]
      }
     ],
     "prompt_number": 29
    },
    {
     "cell_type": "code",
     "collapsed": false,
     "input": [
      "%sql select * from tuning_action"
     ],
     "language": "python",
     "metadata": {},
     "outputs": [
      {
       "output_type": "stream",
       "stream": "stdout",
       "text": [
        "0 rows affected.\n"
       ]
      },
      {
       "html": [
        "<table>\n",
        "    <tr>\n",
        "        <th>id</th>\n",
        "        <th>dt</th>\n",
        "        <th>domain</th>\n",
        "        <th>condition</th>\n",
        "        <th>measurement</th>\n",
        "        <th>previous</th>\n",
        "        <th>new</th>\n",
        "    </tr>\n",
        "</table>"
       ],
       "metadata": {},
       "output_type": "pyout",
       "prompt_number": 30,
       "text": [
        "[]"
       ]
      }
     ],
     "prompt_number": 30
    },
    {
     "cell_type": "code",
     "collapsed": false,
     "input": [
      "-- %sql INSERT INTO tuning_action(domain, new) VALUES ('ddl', 'CREATE INDEX ON facthousesenate_f3 (two_yr_period_sk);')"
     ],
     "language": "python",
     "metadata": {},
     "outputs": [
      {
       "ename": "SyntaxError",
       "evalue": "invalid syntax (<ipython-input-32-8c6285868cee>, line 1)",
       "output_type": "pyerr",
       "traceback": [
        "\u001b[1;36m  File \u001b[1;32m\"<ipython-input-32-8c6285868cee>\"\u001b[1;36m, line \u001b[1;32m1\u001b[0m\n\u001b[1;33m    -- %sql INSERT INTO tuning_action(domain, new) VALUES ('ddl', 'CREATE INDEX ON facthousesenate_f3 (two_yr_period_sk);')\u001b[0m\n\u001b[1;37m       ^\u001b[0m\n\u001b[1;31mSyntaxError\u001b[0m\u001b[1;31m:\u001b[0m invalid syntax\n"
       ]
      }
     ],
     "prompt_number": 32
    },
    {
     "cell_type": "code",
     "collapsed": false,
     "input": [
      "run_tuning_tests(prod, 2)"
     ],
     "language": "python",
     "metadata": {},
     "outputs": [
      {
       "output_type": "stream",
       "stream": "stdout",
       "text": [
        "<Response [200]>\n"
       ]
      },
      {
       "metadata": {},
       "output_type": "pyout",
       "prompt_number": 34,
       "text": [
        "<Response [200]>"
       ]
      }
     ],
     "prompt_number": 34
    },
    {
     "cell_type": "code",
     "collapsed": false,
     "input": [
      "%sql {prod} select * from tuning_test where requirement_id = 2"
     ],
     "language": "python",
     "metadata": {},
     "outputs": [
      {
       "output_type": "stream",
       "stream": "stdout",
       "text": [
        "2 rows affected.\n"
       ]
      },
      {
       "html": [
        "<table>\n",
        "    <tr>\n",
        "        <th>id</th>\n",
        "        <th>dt</th>\n",
        "        <th>requirement_id</th>\n",
        "        <th>initial</th>\n",
        "        <th>seconds</th>\n",
        "        <th>error_msg</th>\n",
        "    </tr>\n",
        "    <tr>\n",
        "        <td>1</td>\n",
        "        <td>2015-01-12 17:13:32.431260+00:00</td>\n",
        "        <td>2</td>\n",
        "        <td>True</td>\n",
        "        <td>12.047675499999968</td>\n",
        "        <td>NULL</td>\n",
        "    </tr>\n",
        "    <tr>\n",
        "        <td>3</td>\n",
        "        <td>2015-01-12 17:35:24.573856+00:00</td>\n",
        "        <td>2</td>\n",
        "        <td>False</td>\n",
        "        <td>11.359393985000224</td>\n",
        "        <td>NULL</td>\n",
        "    </tr>\n",
        "</table>"
       ],
       "metadata": {},
       "output_type": "pyout",
       "prompt_number": 36,
       "text": [
        "[(1, datetime.datetime(2015, 1, 12, 17, 13, 32, 431260, tzinfo=psycopg2.tz.FixedOffsetTimezone(offset=0, name=None)), 2, True, Decimal('12.047675499999968'), 'NULL'),\n",
        " (3, datetime.datetime(2015, 1, 12, 17, 35, 24, 573856, tzinfo=psycopg2.tz.FixedOffsetTimezone(offset=0, name=None)), 2, False, Decimal('11.359393985000224'), 'NULL')]"
       ]
      }
     ],
     "prompt_number": 36
    }
   ],
   "metadata": {}
  }
 ]
}