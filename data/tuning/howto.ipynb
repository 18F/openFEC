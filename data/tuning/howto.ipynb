{
 "metadata": {
  "name": "",
  "signature": "sha256:4b32a5591932e4eb0bde25241eb1b6f69dfcb1afc54eb235c1e704500fa7d221"
 },
 "nbformat": 3,
 "nbformat_minor": 0,
 "worksheets": [
  {
   "cells": [
    {
     "cell_type": "heading",
     "level": 1,
     "metadata": {},
     "source": [
      "A tuning workflow"
     ]
    },
    {
     "cell_type": "markdown",
     "metadata": {},
     "source": [
      "(absolutely and completely invented, feel free to ignore or modify)"
     ]
    },
    {
     "cell_type": "heading",
     "level": 2,
     "metadata": {},
     "source": [
      "Process overview"
     ]
    },
    {
     "cell_type": "markdown",
     "metadata": {},
     "source": [
      "1. Write a git ticket for desired improvement, with 1+ specific actions (SQL queries or URLs) and a desired elapsed time\n",
      "2. Record the desired goals in the database's `tuning_requirement` table\n",
      "3. Use `run_tuning_tests()` from `measure.py` to record the current speed in the `tuning_test` table\n",
      "4. Take a tuning action - create an index, change a PostgreSQL parameter, etc.\n",
      "5. Record the tuning action in the `tuning_action` table\n",
      "6. `run_tuning_tests` again\n",
      "7. Review the `tuning_history` view (filtered for the ticket number in question) for an overview of the tuning actions taken and their results\n",
      "8. Repeat until the tuning goal is reached\n",
      "9. Close the ticket and do a happy dance\n",
      "\n",
      "For extra documentability, the whole process can be done in an IPython Notebook, with Markdown cells musing on your reasoning and (if desired) cursing.  You can copy and rename this notebook as a starting point."
     ]
    },
    {
     "cell_type": "heading",
     "level": 2,
     "metadata": {},
     "source": [
      "Setup"
     ]
    },
    {
     "cell_type": "code",
     "collapsed": false,
     "input": [
      "!pip install ipython_sql psycopg2"
     ],
     "language": "python",
     "metadata": {},
     "outputs": []
    },
    {
     "cell_type": "code",
     "collapsed": false,
     "input": [
      "from measure import run_tuning_tests"
     ],
     "language": "python",
     "metadata": {},
     "outputs": [],
     "prompt_number": 11
    },
    {
     "cell_type": "code",
     "collapsed": false,
     "input": [
      "%load_ext sql\n",
      "import os\n",
      "local_sqla_conn = os.getenv('TEST_SQLA_CONN')\n",
      "prod_sqla_conn = os.getenv('PROXIED_SQLA_CONN')"
     ],
     "language": "python",
     "metadata": {},
     "outputs": [
      {
       "output_type": "stream",
       "stream": "stdout",
       "text": [
        "The sql extension is already loaded. To reload it, use:\n",
        "  %reload_ext sql\n"
       ]
      }
     ],
     "prompt_number": 12
    },
    {
     "cell_type": "code",
     "collapsed": false,
     "input": [
      "!psql -f ../ddl/tuning_framework.sql cfdm_test"
     ],
     "language": "python",
     "metadata": {},
     "outputs": []
    },
    {
     "cell_type": "heading",
     "level": 3,
     "metadata": {},
     "source": [
      "Connect to database"
     ]
    },
    {
     "cell_type": "markdown",
     "metadata": {},
     "source": [
      "Presumably you'll want to tune against `prod_sqla_conn` but you can play around with `test_sqla_conn` for fun.  That's what we'll do."
     ]
    },
    {
     "cell_type": "code",
     "collapsed": false,
     "input": [
      "%sql {local_sqla_conn}"
     ],
     "language": "python",
     "metadata": {},
     "outputs": [
      {
       "metadata": {},
       "output_type": "pyout",
       "prompt_number": 13,
       "text": [
        "'Connected: @cfdm_test'"
       ]
      }
     ],
     "prompt_number": 13
    },
    {
     "cell_type": "heading",
     "level": 2,
     "metadata": {},
     "source": [
      "Sample process"
     ]
    },
    {
     "cell_type": "heading",
     "level": 3,
     "metadata": {},
     "source": [
      "Write git ticket"
     ]
    },
    {
     "cell_type": "markdown",
     "metadata": {},
     "source": [
      "> \"Ticket #-1.  http://isitpyconyet.com should load in < 0.2 seconds.\n",
      "\n",
      "(this would be very hard to achieve by tuning the CFDM database.  Whatever.)"
     ]
    },
    {
     "cell_type": "heading",
     "level": 3,
     "metadata": {},
     "source": [
      "Record goal"
     ]
    },
    {
     "cell_type": "code",
     "collapsed": false,
     "input": [
      "%%sql \n",
      "INSERT INTO tuning_requirement (txt, type, target_seconds, ticket) \n",
      "VALUES ('http://isitpyconyet.com', 'url', 0.2, '-1')"
     ],
     "language": "python",
     "metadata": {},
     "outputs": [
      {
       "output_type": "stream",
       "stream": "stdout",
       "text": [
        "1 rows affected.\n"
       ]
      },
      {
       "metadata": {},
       "output_type": "pyout",
       "prompt_number": 15,
       "text": [
        "[]"
       ]
      }
     ],
     "prompt_number": 15
    },
    {
     "cell_type": "code",
     "collapsed": false,
     "input": [
      "%sql SELECT * FROM tuning_requirement"
     ],
     "language": "python",
     "metadata": {},
     "outputs": [
      {
       "output_type": "stream",
       "stream": "stdout",
       "text": [
        "1 rows affected.\n"
       ]
      },
      {
       "html": [
        "<table>\n",
        "    <tr>\n",
        "        <th>id</th>\n",
        "        <th>txt</th>\n",
        "        <th>type</th>\n",
        "        <th>target_seconds</th>\n",
        "        <th>ticket</th>\n",
        "        <th>status</th>\n",
        "    </tr>\n",
        "    <tr>\n",
        "        <td>12</td>\n",
        "        <td>http://isitpyconyet.com</td>\n",
        "        <td>url</td>\n",
        "        <td>0.2</td>\n",
        "        <td>-1</td>\n",
        "        <td>untested</td>\n",
        "    </tr>\n",
        "</table>"
       ],
       "metadata": {},
       "output_type": "pyout",
       "prompt_number": 16,
       "text": [
        "[(12, 'http://isitpyconyet.com', 'url', Decimal('0.2'), '-1', 'untested')]"
       ]
      }
     ],
     "prompt_number": 16
    },
    {
     "cell_type": "heading",
     "level": 3,
     "metadata": {},
     "source": [
      "Test current speed"
     ]
    },
    {
     "cell_type": "code",
     "collapsed": false,
     "input": [
      "run_tuning_tests(local_sqla_conn)"
     ],
     "language": "python",
     "metadata": {},
     "outputs": [
      {
       "output_type": "stream",
       "stream": "stdout",
       "text": [
        "<Response [200]>\n"
       ]
      },
      {
       "metadata": {},
       "output_type": "pyout",
       "prompt_number": 17,
       "text": [
        "<Response [200]>"
       ]
      }
     ],
     "prompt_number": 17
    },
    {
     "cell_type": "heading",
     "level": 3,
     "metadata": {},
     "source": [
      "Review results"
     ]
    },
    {
     "cell_type": "markdown",
     "metadata": {},
     "source": [
      "Filter the `tuning_history` view for your current ticket number OR null - that will intersperse relevant speed results with (all) tuning actions, ordered properly in time."
     ]
    },
    {
     "cell_type": "code",
     "collapsed": false,
     "input": [
      "%sql SELECT * FROM tuning_history WHERE ticket = '-1' OR ticket IS NULL"
     ],
     "language": "python",
     "metadata": {},
     "outputs": [
      {
       "output_type": "stream",
       "stream": "stdout",
       "text": [
        "1 rows affected.\n"
       ]
      },
      {
       "html": [
        "<table>\n",
        "    <tr>\n",
        "        <th>ticket</th>\n",
        "        <th>dt</th>\n",
        "        <th>txt</th>\n",
        "        <th>target_seconds</th>\n",
        "        <th>seconds</th>\n",
        "        <th>error_msg</th>\n",
        "    </tr>\n",
        "    <tr>\n",
        "        <td>-1</td>\n",
        "        <td>2015-01-30 14:55:18.451082-05:00</td>\n",
        "        <td>http://isitpyconyet.com</td>\n",
        "        <td>0.2</td>\n",
        "        <td>0.23988296200150216</td>\n",
        "        <td>NULL</td>\n",
        "    </tr>\n",
        "</table>"
       ],
       "metadata": {},
       "output_type": "pyout",
       "prompt_number": 18,
       "text": [
        "[('-1', datetime.datetime(2015, 1, 30, 14, 55, 18, 451082, tzinfo=psycopg2.tz.FixedOffsetTimezone(offset=-300, name=None)), 'http://isitpyconyet.com', Decimal('0.2'), Decimal('0.23988296200150216'), 'NULL')]"
       ]
      }
     ],
     "prompt_number": 18
    },
    {
     "cell_type": "heading",
     "level": 3,
     "metadata": {},
     "source": [
      "Take a tuning action"
     ]
    },
    {
     "cell_type": "markdown",
     "metadata": {},
     "source": [
      "Try rotating your socks."
     ]
    },
    {
     "cell_type": "heading",
     "level": 3,
     "metadata": {},
     "source": [
      "Record tuning action"
     ]
    },
    {
     "cell_type": "code",
     "collapsed": false,
     "input": [
      "%%sql \n",
      "INSERT INTO tuning_action (domain, condition, measurement, previous, new)\n",
      "VALUES ('clothing', NULL, NULL, NULL, 'rotated socks')"
     ],
     "language": "python",
     "metadata": {},
     "outputs": [
      {
       "output_type": "stream",
       "stream": "stdout",
       "text": [
        "1 rows affected.\n"
       ]
      },
      {
       "metadata": {},
       "output_type": "pyout",
       "prompt_number": 19,
       "text": [
        "[]"
       ]
      }
     ],
     "prompt_number": 19
    },
    {
     "cell_type": "markdown",
     "metadata": {},
     "source": [
      "I'm a little vague on how to use these columns.  Most are nullable.\n",
      "\n",
      "- For `domain`, I was expecting most changes to be \"ddl\", (Python) \"code\", or (PostgreSQL) \"parameters\".  \n",
      "- \"Condition\" might be the name of a PostgreSQL parameter\n",
      "- \"Previous\" might be a paremeter value before the tuning action, and \"new\" after.\n",
      "- I don't remember what I intended to do with \"measurement\".  Hmm.\n",
      "\n",
      "Tuning actions don't come with a ticket number because, in principle, they could affect any ticket and should be reported in any ticket's resolution history."
     ]
    },
    {
     "cell_type": "heading",
     "level": 3,
     "metadata": {},
     "source": [
      "Re-test speed"
     ]
    },
    {
     "cell_type": "code",
     "collapsed": false,
     "input": [
      "run_tuning_tests(local_sqla_conn)"
     ],
     "language": "python",
     "metadata": {},
     "outputs": [
      {
       "output_type": "stream",
       "stream": "stdout",
       "text": [
        "<Response [200]>\n"
       ]
      },
      {
       "metadata": {},
       "output_type": "pyout",
       "prompt_number": 20,
       "text": [
        "<Response [200]>"
       ]
      }
     ],
     "prompt_number": 20
    },
    {
     "cell_type": "heading",
     "level": 3,
     "metadata": {},
     "source": [
      "Review results"
     ]
    },
    {
     "cell_type": "code",
     "collapsed": false,
     "input": [
      "%sql SELECT * FROM tuning_history WHERE ticket = '-1' OR ticket IS NULL"
     ],
     "language": "python",
     "metadata": {},
     "outputs": [
      {
       "output_type": "stream",
       "stream": "stdout",
       "text": [
        "3 rows affected.\n"
       ]
      },
      {
       "html": [
        "<table>\n",
        "    <tr>\n",
        "        <th>ticket</th>\n",
        "        <th>dt</th>\n",
        "        <th>txt</th>\n",
        "        <th>target_seconds</th>\n",
        "        <th>seconds</th>\n",
        "        <th>error_msg</th>\n",
        "    </tr>\n",
        "    <tr>\n",
        "        <td>-1</td>\n",
        "        <td>2015-01-30 14:55:18.451082-05:00</td>\n",
        "        <td>http://isitpyconyet.com</td>\n",
        "        <td>0.2</td>\n",
        "        <td>0.23988296200150216</td>\n",
        "        <td>NULL</td>\n",
        "    </tr>\n",
        "    <tr>\n",
        "        <td>None</td>\n",
        "        <td>2015-01-30 14:55:28.317277-05:00</td>\n",
        "        <td>rotated socks</td>\n",
        "        <td>None</td>\n",
        "        <td>None</td>\n",
        "        <td>None</td>\n",
        "    </tr>\n",
        "    <tr>\n",
        "        <td>-1</td>\n",
        "        <td>2015-01-30 14:55:31.346001-05:00</td>\n",
        "        <td>http://isitpyconyet.com</td>\n",
        "        <td>0.2</td>\n",
        "        <td>0.11577707700052997</td>\n",
        "        <td>NULL</td>\n",
        "    </tr>\n",
        "</table>"
       ],
       "metadata": {},
       "output_type": "pyout",
       "prompt_number": 21,
       "text": [
        "[('-1', datetime.datetime(2015, 1, 30, 14, 55, 18, 451082, tzinfo=psycopg2.tz.FixedOffsetTimezone(offset=-300, name=None)), 'http://isitpyconyet.com', Decimal('0.2'), Decimal('0.23988296200150216'), 'NULL'),\n",
        " (None, datetime.datetime(2015, 1, 30, 14, 55, 28, 317277, tzinfo=psycopg2.tz.FixedOffsetTimezone(offset=-300, name=None)), 'rotated socks', None, None, None),\n",
        " ('-1', datetime.datetime(2015, 1, 30, 14, 55, 31, 346001, tzinfo=psycopg2.tz.FixedOffsetTimezone(offset=-300, name=None)), 'http://isitpyconyet.com', Decimal('0.2'), Decimal('0.11577707700052997'), 'NULL')]"
       ]
      }
     ],
     "prompt_number": 21
    },
    {
     "cell_type": "heading",
     "level": 3,
     "metadata": {},
     "source": [
      "Repeat until success!"
     ]
    },
    {
     "cell_type": "code",
     "collapsed": false,
     "input": [],
     "language": "python",
     "metadata": {},
     "outputs": []
    }
   ],
   "metadata": {}
  }
 ]
}