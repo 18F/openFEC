{
 "metadata": {
  "name": "",
  "signature": "sha256:702dc0be6baf278fa76783497297fd877be35f93f5ff5fca458113c39a2772b3"
 },
 "nbformat": 3,
 "nbformat_minor": 0,
 "worksheets": [
  {
   "cells": [
    {
     "cell_type": "code",
     "collapsed": false,
     "input": [
      "from measure import run_tuning_tests"
     ],
     "language": "python",
     "metadata": {},
     "outputs": [],
     "prompt_number": 1
    },
    {
     "cell_type": "code",
     "collapsed": false,
     "input": [
      "%load_ext sql\n",
      "import os\n",
      "sqla_conn = os.getenv('SQLA_CONN')\n",
      "prod = os.getenv('PROXIED_SQLA_CONN')\n",
      "%sql {sqla_conn}"
     ],
     "language": "python",
     "metadata": {},
     "outputs": [
      {
       "metadata": {},
       "output_type": "pyout",
       "prompt_number": 2,
       "text": [
        "'Connected: @cfdm_test'"
       ]
      }
     ],
     "prompt_number": 2
    },
    {
     "cell_type": "code",
     "collapsed": false,
     "input": [
      "%sql SELECT * FROM tuning_requirement WHERE ticket = '249'"
     ],
     "language": "python",
     "metadata": {},
     "outputs": [
      {
       "output_type": "stream",
       "stream": "stdout",
       "text": [
        "4 rows affected.\n"
       ]
      },
      {
       "html": [
        "<table>\n",
        "    <tr>\n",
        "        <th>id</th>\n",
        "        <th>txt</th>\n",
        "        <th>type</th>\n",
        "        <th>target_seconds</th>\n",
        "        <th>ticket</th>\n",
        "        <th>status</th>\n",
        "    </tr>\n",
        "    <tr>\n",
        "        <td>3</td>\n",
        "        <td>https://fec.18f.us/rest/candidate?name=jackson&amp;fields=name,candidate_id,office_sought</td>\n",
        "        <td>url</td>\n",
        "        <td>0.25</td>\n",
        "        <td>249</td>\n",
        "        <td>tested</td>\n",
        "    </tr>\n",
        "    <tr>\n",
        "        <td>7</td>\n",
        "        <td>https://fec.18f.us/htsql/(dimcand?exists(dimcandproperties)&amp;exists((dimcandoffice?cand_election_yr={2015,2014,2013,2012}))){{cand_id,},/dimcandproperties{cand_nm,},/(dimcandoffice?cand_election_yr={2015,2014,2013,2012}){cand_election_yr-,dimoffice{office_tp,},dimparty{}},                                         /dimcandstatusici{}}         ?top(dimcandproperties.sort(expire_date-)).cand_nm~&#x27;jackson&#x27;&amp;exists((dimcandoffice?cand_election_yr={2015,2014,2013,2012}))).limit(20,0)</td>\n",
        "        <td>url</td>\n",
        "        <td>0.25</td>\n",
        "        <td>249</td>\n",
        "        <td>tested</td>\n",
        "    </tr>\n",
        "    <tr>\n",
        "        <td>5</td>\n",
        "        <td>https://fec.18f.us/htsql/(((dimcmte?exists(dimcmteproperties)){{cmte_id,},/dimcmteproperties{expire_date,cmte_nm,}, /dimlinkages{cand_id,expire_date,}, /dimcmtetpdsgn{expire_date,}})?top(dimcmteproperties.sort(expire_date-)).cmte_nm~&#x27;minnesotans&#x27;).limit(20,0)</td>\n",
        "        <td>url</td>\n",
        "        <td>0.25</td>\n",
        "        <td>249</td>\n",
        "        <td>tested</td>\n",
        "    </tr>\n",
        "    <tr>\n",
        "        <td>4</td>\n",
        "        <td>https://fec.18f.us/rest/committee?name=minnesotans&amp;fields=name,committee_id</td>\n",
        "        <td>url</td>\n",
        "        <td>0.25</td>\n",
        "        <td>249</td>\n",
        "        <td>tested</td>\n",
        "    </tr>\n",
        "</table>"
       ],
       "metadata": {},
       "output_type": "pyout",
       "prompt_number": 3,
       "text": [
        "[(3, 'https://fec.18f.us/rest/candidate?name=jackson&fields=name,candidate_id,office_sought', 'url', Decimal('0.25'), '249', 'tested'),\n",
        " (7, \"https://fec.18f.us/htsql/(dimcand?exists(dimcandproperties)&exists((dimcandoffice?cand_election_yr={2015,2014,2013,2012}))){{cand_id,},/dimcandproperties{cand_nm,},/(dimcandoffice?cand_election_yr={2015,2014,2013,2012}){cand_election_yr-,dimoffice{office_tp,},dimparty{}},                                         /dimcandstatusici{}}         ?top(dimcandproperties.sort(expire_date-)).cand_nm~'jackson'&exists((dimcandoffice?cand_election_yr={2015,2014,2013,2012}))).limit(20,0)\", 'url', Decimal('0.25'), '249', 'tested'),\n",
        " (5, \"https://fec.18f.us/htsql/(((dimcmte?exists(dimcmteproperties)){{cmte_id,},/dimcmteproperties{expire_date,cmte_nm,}, /dimlinkages{cand_id,expire_date,}, /dimcmtetpdsgn{expire_date,}})?top(dimcmteproperties.sort(expire_date-)).cmte_nm~'minnesotans').limit(20,0)\", 'url', Decimal('0.25'), '249', 'tested'),\n",
        " (4, 'https://fec.18f.us/rest/committee?name=minnesotans&fields=name,committee_id', 'url', Decimal('0.25'), '249', 'tested')]"
       ]
      }
     ],
     "prompt_number": 3
    },
    {
     "cell_type": "code",
     "collapsed": false,
     "input": [
      "resp = run_tuning_tests(os.getenv('SQLA_CONN'), 7)"
     ],
     "language": "python",
     "metadata": {},
     "outputs": [
      {
       "output_type": "stream",
       "stream": "stdout",
       "text": [
        "<Response [400]>\n"
       ]
      }
     ],
     "prompt_number": 4
    },
    {
     "cell_type": "code",
     "collapsed": false,
     "input": [
      "print(resp.content)"
     ],
     "language": "python",
     "metadata": {},
     "outputs": [
      {
       "output_type": "stream",
       "stream": "stdout",
       "text": [
        "b\"Got unexpected input\\nWhile parsing:\\n    /(dimcand?exists(dimcandproperties)&exists((dimcandoffice?cand_election_yr={2015,2014,2013,2012}))){{cand_id,},/dimcandproperties{cand_nm,},/(dimcandoffice?cand_election_yr={2015,2014,2013,2012}){cand_election_yr-,dimoffice{office_tp,},dimparty{}},                                         /dimcandstatusici{}}         ?top(dimcandproperties.sort(expire_date-)).cand_nm~'jackson'&exists((dimcandoffice?cand_election_yr={2015,2014,2013,2012}))).limit(20,0)\\n                                                                                                                                                                                                                                                                                                                                                                                                                                                             ^\\n\"\n"
       ]
      }
     ],
     "prompt_number": 5
    },
    {
     "cell_type": "code",
     "collapsed": false,
     "input": [
      "%%sql \n",
      "SELECT * FROM tuning_test WHERE requirement_id IN (SELECT id FROM tuning_requirement WHERE ticket = '249')"
     ],
     "language": "python",
     "metadata": {},
     "outputs": [
      {
       "output_type": "stream",
       "stream": "stdout",
       "text": [
        "14 rows affected.\n"
       ]
      },
      {
       "html": [
        "<table>\n",
        "    <tr>\n",
        "        <th>id</th>\n",
        "        <th>dt</th>\n",
        "        <th>requirement_id</th>\n",
        "        <th>initial</th>\n",
        "        <th>seconds</th>\n",
        "        <th>error_msg</th>\n",
        "    </tr>\n",
        "    <tr>\n",
        "        <td>1</td>\n",
        "        <td>2015-01-06 16:21:41.881063-05:00</td>\n",
        "        <td>3</td>\n",
        "        <td>True</td>\n",
        "        <td>2.5560274999988906</td>\n",
        "        <td>NULL</td>\n",
        "    </tr>\n",
        "    <tr>\n",
        "        <td>2</td>\n",
        "        <td>2015-01-06 16:21:47.601774-05:00</td>\n",
        "        <td>4</td>\n",
        "        <td>True</td>\n",
        "        <td>3.153095363999455</td>\n",
        "        <td>NULL</td>\n",
        "    </tr>\n",
        "    <tr>\n",
        "        <td>3</td>\n",
        "        <td>2015-01-06 17:12:43.390103-05:00</td>\n",
        "        <td>3</td>\n",
        "        <td>False</td>\n",
        "        <td>2.5666366839977854</td>\n",
        "        <td>NULL</td>\n",
        "    </tr>\n",
        "    <tr>\n",
        "        <td>4</td>\n",
        "        <td>2015-01-06 17:12:49.101990-05:00</td>\n",
        "        <td>4</td>\n",
        "        <td>False</td>\n",
        "        <td>3.13446509500136</td>\n",
        "        <td>NULL</td>\n",
        "    </tr>\n",
        "    <tr>\n",
        "        <td>5</td>\n",
        "        <td>2015-01-07 10:21:32.281347-05:00</td>\n",
        "        <td>5</td>\n",
        "        <td>True</td>\n",
        "        <td>2.662361353999586</td>\n",
        "        <td>NULL</td>\n",
        "    </tr>\n",
        "    <tr>\n",
        "        <td>7</td>\n",
        "        <td>2015-01-07 15:04:53.860821-05:00</td>\n",
        "        <td>7</td>\n",
        "        <td>True</td>\n",
        "        <td>0.6822740060006254</td>\n",
        "        <td>NULL</td>\n",
        "    </tr>\n",
        "    <tr>\n",
        "        <td>8</td>\n",
        "        <td>2015-01-07 15:05:05.438389-05:00</td>\n",
        "        <td>7</td>\n",
        "        <td>False</td>\n",
        "        <td>0.6697756909998134</td>\n",
        "        <td>NULL</td>\n",
        "    </tr>\n",
        "    <tr>\n",
        "        <td>9</td>\n",
        "        <td>2015-01-07 16:22:08.124343-05:00</td>\n",
        "        <td>5</td>\n",
        "        <td>False</td>\n",
        "        <td>2.8623173479991237</td>\n",
        "        <td>NULL</td>\n",
        "    </tr>\n",
        "    <tr>\n",
        "        <td>10</td>\n",
        "        <td>2015-01-07 17:16:36.678422-05:00</td>\n",
        "        <td>5</td>\n",
        "        <td>False</td>\n",
        "        <td>2.9030347669995535</td>\n",
        "        <td>NULL</td>\n",
        "    </tr>\n",
        "    <tr>\n",
        "        <td>11</td>\n",
        "        <td>2015-01-07 17:36:12.287373-05:00</td>\n",
        "        <td>5</td>\n",
        "        <td>False</td>\n",
        "        <td>2.92873771000086</td>\n",
        "        <td>NULL</td>\n",
        "    </tr>\n",
        "    <tr>\n",
        "        <td>12</td>\n",
        "        <td>2015-01-07 17:48:18.664010-05:00</td>\n",
        "        <td>5</td>\n",
        "        <td>False</td>\n",
        "        <td>2.936189362000732</td>\n",
        "        <td>NULL</td>\n",
        "    </tr>\n",
        "    <tr>\n",
        "        <td>13</td>\n",
        "        <td>2015-01-07 17:59:28.917512-05:00</td>\n",
        "        <td>4</td>\n",
        "        <td>False</td>\n",
        "        <td>3.7758687410005223</td>\n",
        "        <td>NULL</td>\n",
        "    </tr>\n",
        "    <tr>\n",
        "        <td>14</td>\n",
        "        <td>2015-01-07 23:16:09.187959-05:00</td>\n",
        "        <td>4</td>\n",
        "        <td>False</td>\n",
        "        <td>2.6797393359993293</td>\n",
        "        <td>NULL</td>\n",
        "    </tr>\n",
        "    <tr>\n",
        "        <td>15</td>\n",
        "        <td>2015-01-08 10:03:10.312230-05:00</td>\n",
        "        <td>7</td>\n",
        "        <td>False</td>\n",
        "        <td>0.5590960530025768</td>\n",
        "        <td>NULL</td>\n",
        "    </tr>\n",
        "</table>"
       ],
       "metadata": {},
       "output_type": "pyout",
       "prompt_number": 6,
       "text": [
        "[(1, datetime.datetime(2015, 1, 6, 16, 21, 41, 881063, tzinfo=psycopg2.tz.FixedOffsetTimezone(offset=-300, name=None)), 3, True, Decimal('2.5560274999988906'), 'NULL'),\n",
        " (2, datetime.datetime(2015, 1, 6, 16, 21, 47, 601774, tzinfo=psycopg2.tz.FixedOffsetTimezone(offset=-300, name=None)), 4, True, Decimal('3.153095363999455'), 'NULL'),\n",
        " (3, datetime.datetime(2015, 1, 6, 17, 12, 43, 390103, tzinfo=psycopg2.tz.FixedOffsetTimezone(offset=-300, name=None)), 3, False, Decimal('2.5666366839977854'), 'NULL'),\n",
        " (4, datetime.datetime(2015, 1, 6, 17, 12, 49, 101990, tzinfo=psycopg2.tz.FixedOffsetTimezone(offset=-300, name=None)), 4, False, Decimal('3.13446509500136'), 'NULL'),\n",
        " (5, datetime.datetime(2015, 1, 7, 10, 21, 32, 281347, tzinfo=psycopg2.tz.FixedOffsetTimezone(offset=-300, name=None)), 5, True, Decimal('2.662361353999586'), 'NULL'),\n",
        " (7, datetime.datetime(2015, 1, 7, 15, 4, 53, 860821, tzinfo=psycopg2.tz.FixedOffsetTimezone(offset=-300, name=None)), 7, True, Decimal('0.6822740060006254'), 'NULL'),\n",
        " (8, datetime.datetime(2015, 1, 7, 15, 5, 5, 438389, tzinfo=psycopg2.tz.FixedOffsetTimezone(offset=-300, name=None)), 7, False, Decimal('0.6697756909998134'), 'NULL'),\n",
        " (9, datetime.datetime(2015, 1, 7, 16, 22, 8, 124343, tzinfo=psycopg2.tz.FixedOffsetTimezone(offset=-300, name=None)), 5, False, Decimal('2.8623173479991237'), 'NULL'),\n",
        " (10, datetime.datetime(2015, 1, 7, 17, 16, 36, 678422, tzinfo=psycopg2.tz.FixedOffsetTimezone(offset=-300, name=None)), 5, False, Decimal('2.9030347669995535'), 'NULL'),\n",
        " (11, datetime.datetime(2015, 1, 7, 17, 36, 12, 287373, tzinfo=psycopg2.tz.FixedOffsetTimezone(offset=-300, name=None)), 5, False, Decimal('2.92873771000086'), 'NULL'),\n",
        " (12, datetime.datetime(2015, 1, 7, 17, 48, 18, 664010, tzinfo=psycopg2.tz.FixedOffsetTimezone(offset=-300, name=None)), 5, False, Decimal('2.936189362000732'), 'NULL'),\n",
        " (13, datetime.datetime(2015, 1, 7, 17, 59, 28, 917512, tzinfo=psycopg2.tz.FixedOffsetTimezone(offset=-300, name=None)), 4, False, Decimal('3.7758687410005223'), 'NULL'),\n",
        " (14, datetime.datetime(2015, 1, 7, 23, 16, 9, 187959, tzinfo=psycopg2.tz.FixedOffsetTimezone(offset=-300, name=None)), 4, False, Decimal('2.6797393359993293'), 'NULL'),\n",
        " (15, datetime.datetime(2015, 1, 8, 10, 3, 10, 312230, tzinfo=psycopg2.tz.FixedOffsetTimezone(offset=-300, name=None)), 7, False, Decimal('0.5590960530025768'), 'NULL')]"
       ]
      }
     ],
     "prompt_number": 6
    },
    {
     "cell_type": "code",
     "collapsed": false,
     "input": [
      "%%sql\n",
      "SELECT r.txt, t.dt, r.target_seconds, t.seconds, t.error_msg\n",
      "FROM   tuning_requirement r\n",
      "JOIN   tuning_Test t ON (r.id = t.requirement_id)\n",
      "WHERE  r.ticket = '249'\n",
      "ORDER BY r.id, t.dt"
     ],
     "language": "python",
     "metadata": {},
     "outputs": [
      {
       "output_type": "stream",
       "stream": "stdout",
       "text": [
        "14 rows affected.\n"
       ]
      },
      {
       "html": [
        "<table>\n",
        "    <tr>\n",
        "        <th>txt</th>\n",
        "        <th>dt</th>\n",
        "        <th>target_seconds</th>\n",
        "        <th>seconds</th>\n",
        "        <th>error_msg</th>\n",
        "    </tr>\n",
        "    <tr>\n",
        "        <td>https://fec.18f.us/rest/candidate?name=jackson&amp;fields=name,candidate_id,office_sought</td>\n",
        "        <td>2015-01-06 16:21:41.881063-05:00</td>\n",
        "        <td>0.25</td>\n",
        "        <td>2.5560274999988906</td>\n",
        "        <td>NULL</td>\n",
        "    </tr>\n",
        "    <tr>\n",
        "        <td>https://fec.18f.us/rest/candidate?name=jackson&amp;fields=name,candidate_id,office_sought</td>\n",
        "        <td>2015-01-06 17:12:43.390103-05:00</td>\n",
        "        <td>0.25</td>\n",
        "        <td>2.5666366839977854</td>\n",
        "        <td>NULL</td>\n",
        "    </tr>\n",
        "    <tr>\n",
        "        <td>https://fec.18f.us/rest/committee?name=minnesotans&amp;fields=name,committee_id</td>\n",
        "        <td>2015-01-06 16:21:47.601774-05:00</td>\n",
        "        <td>0.25</td>\n",
        "        <td>3.153095363999455</td>\n",
        "        <td>NULL</td>\n",
        "    </tr>\n",
        "    <tr>\n",
        "        <td>https://fec.18f.us/rest/committee?name=minnesotans&amp;fields=name,committee_id</td>\n",
        "        <td>2015-01-06 17:12:49.101990-05:00</td>\n",
        "        <td>0.25</td>\n",
        "        <td>3.13446509500136</td>\n",
        "        <td>NULL</td>\n",
        "    </tr>\n",
        "    <tr>\n",
        "        <td>https://fec.18f.us/rest/committee?name=minnesotans&amp;fields=name,committee_id</td>\n",
        "        <td>2015-01-07 17:59:28.917512-05:00</td>\n",
        "        <td>0.25</td>\n",
        "        <td>3.7758687410005223</td>\n",
        "        <td>NULL</td>\n",
        "    </tr>\n",
        "    <tr>\n",
        "        <td>https://fec.18f.us/rest/committee?name=minnesotans&amp;fields=name,committee_id</td>\n",
        "        <td>2015-01-07 23:16:09.187959-05:00</td>\n",
        "        <td>0.25</td>\n",
        "        <td>2.6797393359993293</td>\n",
        "        <td>NULL</td>\n",
        "    </tr>\n",
        "    <tr>\n",
        "        <td>https://fec.18f.us/htsql/(((dimcmte?exists(dimcmteproperties)){{cmte_id,},/dimcmteproperties{expire_date,cmte_nm,}, /dimlinkages{cand_id,expire_date,}, /dimcmtetpdsgn{expire_date,}})?top(dimcmteproperties.sort(expire_date-)).cmte_nm~&#x27;minnesotans&#x27;).limit(20,0)</td>\n",
        "        <td>2015-01-07 10:21:32.281347-05:00</td>\n",
        "        <td>0.25</td>\n",
        "        <td>2.662361353999586</td>\n",
        "        <td>NULL</td>\n",
        "    </tr>\n",
        "    <tr>\n",
        "        <td>https://fec.18f.us/htsql/(((dimcmte?exists(dimcmteproperties)){{cmte_id,},/dimcmteproperties{expire_date,cmte_nm,}, /dimlinkages{cand_id,expire_date,}, /dimcmtetpdsgn{expire_date,}})?top(dimcmteproperties.sort(expire_date-)).cmte_nm~&#x27;minnesotans&#x27;).limit(20,0)</td>\n",
        "        <td>2015-01-07 16:22:08.124343-05:00</td>\n",
        "        <td>0.25</td>\n",
        "        <td>2.8623173479991237</td>\n",
        "        <td>NULL</td>\n",
        "    </tr>\n",
        "    <tr>\n",
        "        <td>https://fec.18f.us/htsql/(((dimcmte?exists(dimcmteproperties)){{cmte_id,},/dimcmteproperties{expire_date,cmte_nm,}, /dimlinkages{cand_id,expire_date,}, /dimcmtetpdsgn{expire_date,}})?top(dimcmteproperties.sort(expire_date-)).cmte_nm~&#x27;minnesotans&#x27;).limit(20,0)</td>\n",
        "        <td>2015-01-07 17:16:36.678422-05:00</td>\n",
        "        <td>0.25</td>\n",
        "        <td>2.9030347669995535</td>\n",
        "        <td>NULL</td>\n",
        "    </tr>\n",
        "    <tr>\n",
        "        <td>https://fec.18f.us/htsql/(((dimcmte?exists(dimcmteproperties)){{cmte_id,},/dimcmteproperties{expire_date,cmte_nm,}, /dimlinkages{cand_id,expire_date,}, /dimcmtetpdsgn{expire_date,}})?top(dimcmteproperties.sort(expire_date-)).cmte_nm~&#x27;minnesotans&#x27;).limit(20,0)</td>\n",
        "        <td>2015-01-07 17:36:12.287373-05:00</td>\n",
        "        <td>0.25</td>\n",
        "        <td>2.92873771000086</td>\n",
        "        <td>NULL</td>\n",
        "    </tr>\n",
        "    <tr>\n",
        "        <td>https://fec.18f.us/htsql/(((dimcmte?exists(dimcmteproperties)){{cmte_id,},/dimcmteproperties{expire_date,cmte_nm,}, /dimlinkages{cand_id,expire_date,}, /dimcmtetpdsgn{expire_date,}})?top(dimcmteproperties.sort(expire_date-)).cmte_nm~&#x27;minnesotans&#x27;).limit(20,0)</td>\n",
        "        <td>2015-01-07 17:48:18.664010-05:00</td>\n",
        "        <td>0.25</td>\n",
        "        <td>2.936189362000732</td>\n",
        "        <td>NULL</td>\n",
        "    </tr>\n",
        "    <tr>\n",
        "        <td>https://fec.18f.us/htsql/(dimcand?exists(dimcandproperties)&amp;exists((dimcandoffice?cand_election_yr={2015,2014,2013,2012}))){{cand_id,},/dimcandproperties{cand_nm,},/(dimcandoffice?cand_election_yr={2015,2014,2013,2012}){cand_election_yr-,dimoffice{office_tp,},dimparty{}},                                         /dimcandstatusici{}}         ?top(dimcandproperties.sort(expire_date-)).cand_nm~&#x27;jackson&#x27;&amp;exists((dimcandoffice?cand_election_yr={2015,2014,2013,2012}))).limit(20,0)</td>\n",
        "        <td>2015-01-07 15:04:53.860821-05:00</td>\n",
        "        <td>0.25</td>\n",
        "        <td>0.6822740060006254</td>\n",
        "        <td>NULL</td>\n",
        "    </tr>\n",
        "    <tr>\n",
        "        <td>https://fec.18f.us/htsql/(dimcand?exists(dimcandproperties)&amp;exists((dimcandoffice?cand_election_yr={2015,2014,2013,2012}))){{cand_id,},/dimcandproperties{cand_nm,},/(dimcandoffice?cand_election_yr={2015,2014,2013,2012}){cand_election_yr-,dimoffice{office_tp,},dimparty{}},                                         /dimcandstatusici{}}         ?top(dimcandproperties.sort(expire_date-)).cand_nm~&#x27;jackson&#x27;&amp;exists((dimcandoffice?cand_election_yr={2015,2014,2013,2012}))).limit(20,0)</td>\n",
        "        <td>2015-01-07 15:05:05.438389-05:00</td>\n",
        "        <td>0.25</td>\n",
        "        <td>0.6697756909998134</td>\n",
        "        <td>NULL</td>\n",
        "    </tr>\n",
        "    <tr>\n",
        "        <td>https://fec.18f.us/htsql/(dimcand?exists(dimcandproperties)&amp;exists((dimcandoffice?cand_election_yr={2015,2014,2013,2012}))){{cand_id,},/dimcandproperties{cand_nm,},/(dimcandoffice?cand_election_yr={2015,2014,2013,2012}){cand_election_yr-,dimoffice{office_tp,},dimparty{}},                                         /dimcandstatusici{}}         ?top(dimcandproperties.sort(expire_date-)).cand_nm~&#x27;jackson&#x27;&amp;exists((dimcandoffice?cand_election_yr={2015,2014,2013,2012}))).limit(20,0)</td>\n",
        "        <td>2015-01-08 10:03:10.312230-05:00</td>\n",
        "        <td>0.25</td>\n",
        "        <td>0.5590960530025768</td>\n",
        "        <td>NULL</td>\n",
        "    </tr>\n",
        "</table>"
       ],
       "metadata": {},
       "output_type": "pyout",
       "prompt_number": 7,
       "text": [
        "[('https://fec.18f.us/rest/candidate?name=jackson&fields=name,candidate_id,office_sought', datetime.datetime(2015, 1, 6, 16, 21, 41, 881063, tzinfo=psycopg2.tz.FixedOffsetTimezone(offset=-300, name=None)), Decimal('0.25'), Decimal('2.5560274999988906'), 'NULL'),\n",
        " ('https://fec.18f.us/rest/candidate?name=jackson&fields=name,candidate_id,office_sought', datetime.datetime(2015, 1, 6, 17, 12, 43, 390103, tzinfo=psycopg2.tz.FixedOffsetTimezone(offset=-300, name=None)), Decimal('0.25'), Decimal('2.5666366839977854'), 'NULL'),\n",
        " ('https://fec.18f.us/rest/committee?name=minnesotans&fields=name,committee_id', datetime.datetime(2015, 1, 6, 16, 21, 47, 601774, tzinfo=psycopg2.tz.FixedOffsetTimezone(offset=-300, name=None)), Decimal('0.25'), Decimal('3.153095363999455'), 'NULL'),\n",
        " ('https://fec.18f.us/rest/committee?name=minnesotans&fields=name,committee_id', datetime.datetime(2015, 1, 6, 17, 12, 49, 101990, tzinfo=psycopg2.tz.FixedOffsetTimezone(offset=-300, name=None)), Decimal('0.25'), Decimal('3.13446509500136'), 'NULL'),\n",
        " ('https://fec.18f.us/rest/committee?name=minnesotans&fields=name,committee_id', datetime.datetime(2015, 1, 7, 17, 59, 28, 917512, tzinfo=psycopg2.tz.FixedOffsetTimezone(offset=-300, name=None)), Decimal('0.25'), Decimal('3.7758687410005223'), 'NULL'),\n",
        " ('https://fec.18f.us/rest/committee?name=minnesotans&fields=name,committee_id', datetime.datetime(2015, 1, 7, 23, 16, 9, 187959, tzinfo=psycopg2.tz.FixedOffsetTimezone(offset=-300, name=None)), Decimal('0.25'), Decimal('2.6797393359993293'), 'NULL'),\n",
        " (\"https://fec.18f.us/htsql/(((dimcmte?exists(dimcmteproperties)){{cmte_id,},/dimcmteproperties{expire_date,cmte_nm,}, /dimlinkages{cand_id,expire_date,}, /dimcmtetpdsgn{expire_date,}})?top(dimcmteproperties.sort(expire_date-)).cmte_nm~'minnesotans').limit(20,0)\", datetime.datetime(2015, 1, 7, 10, 21, 32, 281347, tzinfo=psycopg2.tz.FixedOffsetTimezone(offset=-300, name=None)), Decimal('0.25'), Decimal('2.662361353999586'), 'NULL'),\n",
        " (\"https://fec.18f.us/htsql/(((dimcmte?exists(dimcmteproperties)){{cmte_id,},/dimcmteproperties{expire_date,cmte_nm,}, /dimlinkages{cand_id,expire_date,}, /dimcmtetpdsgn{expire_date,}})?top(dimcmteproperties.sort(expire_date-)).cmte_nm~'minnesotans').limit(20,0)\", datetime.datetime(2015, 1, 7, 16, 22, 8, 124343, tzinfo=psycopg2.tz.FixedOffsetTimezone(offset=-300, name=None)), Decimal('0.25'), Decimal('2.8623173479991237'), 'NULL'),\n",
        " (\"https://fec.18f.us/htsql/(((dimcmte?exists(dimcmteproperties)){{cmte_id,},/dimcmteproperties{expire_date,cmte_nm,}, /dimlinkages{cand_id,expire_date,}, /dimcmtetpdsgn{expire_date,}})?top(dimcmteproperties.sort(expire_date-)).cmte_nm~'minnesotans').limit(20,0)\", datetime.datetime(2015, 1, 7, 17, 16, 36, 678422, tzinfo=psycopg2.tz.FixedOffsetTimezone(offset=-300, name=None)), Decimal('0.25'), Decimal('2.9030347669995535'), 'NULL'),\n",
        " (\"https://fec.18f.us/htsql/(((dimcmte?exists(dimcmteproperties)){{cmte_id,},/dimcmteproperties{expire_date,cmte_nm,}, /dimlinkages{cand_id,expire_date,}, /dimcmtetpdsgn{expire_date,}})?top(dimcmteproperties.sort(expire_date-)).cmte_nm~'minnesotans').limit(20,0)\", datetime.datetime(2015, 1, 7, 17, 36, 12, 287373, tzinfo=psycopg2.tz.FixedOffsetTimezone(offset=-300, name=None)), Decimal('0.25'), Decimal('2.92873771000086'), 'NULL'),\n",
        " (\"https://fec.18f.us/htsql/(((dimcmte?exists(dimcmteproperties)){{cmte_id,},/dimcmteproperties{expire_date,cmte_nm,}, /dimlinkages{cand_id,expire_date,}, /dimcmtetpdsgn{expire_date,}})?top(dimcmteproperties.sort(expire_date-)).cmte_nm~'minnesotans').limit(20,0)\", datetime.datetime(2015, 1, 7, 17, 48, 18, 664010, tzinfo=psycopg2.tz.FixedOffsetTimezone(offset=-300, name=None)), Decimal('0.25'), Decimal('2.936189362000732'), 'NULL'),\n",
        " (\"https://fec.18f.us/htsql/(dimcand?exists(dimcandproperties)&exists((dimcandoffice?cand_election_yr={2015,2014,2013,2012}))){{cand_id,},/dimcandproperties{cand_nm,},/(dimcandoffice?cand_election_yr={2015,2014,2013,2012}){cand_election_yr-,dimoffice{office_tp,},dimparty{}},                                         /dimcandstatusici{}}         ?top(dimcandproperties.sort(expire_date-)).cand_nm~'jackson'&exists((dimcandoffice?cand_election_yr={2015,2014,2013,2012}))).limit(20,0)\", datetime.datetime(2015, 1, 7, 15, 4, 53, 860821, tzinfo=psycopg2.tz.FixedOffsetTimezone(offset=-300, name=None)), Decimal('0.25'), Decimal('0.6822740060006254'), 'NULL'),\n",
        " (\"https://fec.18f.us/htsql/(dimcand?exists(dimcandproperties)&exists((dimcandoffice?cand_election_yr={2015,2014,2013,2012}))){{cand_id,},/dimcandproperties{cand_nm,},/(dimcandoffice?cand_election_yr={2015,2014,2013,2012}){cand_election_yr-,dimoffice{office_tp,},dimparty{}},                                         /dimcandstatusici{}}         ?top(dimcandproperties.sort(expire_date-)).cand_nm~'jackson'&exists((dimcandoffice?cand_election_yr={2015,2014,2013,2012}))).limit(20,0)\", datetime.datetime(2015, 1, 7, 15, 5, 5, 438389, tzinfo=psycopg2.tz.FixedOffsetTimezone(offset=-300, name=None)), Decimal('0.25'), Decimal('0.6697756909998134'), 'NULL'),\n",
        " (\"https://fec.18f.us/htsql/(dimcand?exists(dimcandproperties)&exists((dimcandoffice?cand_election_yr={2015,2014,2013,2012}))){{cand_id,},/dimcandproperties{cand_nm,},/(dimcandoffice?cand_election_yr={2015,2014,2013,2012}){cand_election_yr-,dimoffice{office_tp,},dimparty{}},                                         /dimcandstatusici{}}         ?top(dimcandproperties.sort(expire_date-)).cand_nm~'jackson'&exists((dimcandoffice?cand_election_yr={2015,2014,2013,2012}))).limit(20,0)\", datetime.datetime(2015, 1, 8, 10, 3, 10, 312230, tzinfo=psycopg2.tz.FixedOffsetTimezone(offset=-300, name=None)), Decimal('0.25'), Decimal('0.5590960530025768'), 'NULL')]"
       ]
      }
     ],
     "prompt_number": 7
    },
    {
     "cell_type": "code",
     "collapsed": false,
     "input": [
      "! ../../webservices/to_webservices.sh \"sudo tail /var/log/upstart/rest_server.log\""
     ],
     "language": "python",
     "metadata": {},
     "outputs": [
      {
       "output_type": "stream",
       "stream": "stdout",
       "text": [
        "sudo: unable to resolve host ip-10-0-100-80\r\n",
        "            (dimcand?exists(dimcandproperties)&exists((dimcandoffice?cand_election_yr={2015,2014,2013,2012}))){{cand_id,},/dimcandproperties{cand_nm,},/(dimcandoffice?cand_election_yr={2015,2014,2013,2012}){cand_election_yr-,dimoffice{office_tp,},dimparty{}},\r",
        "\r\n",
        "                              \r",
        "\r\n",
        "                              /dimcandstatusici{}}\r",
        "\r\n",
        "        ?top(dimcandproperties.sort(expire_date-)).cand_nm~'jackson'&exists((dimcandoffice?cand_election_yr={2015,2014,2013,2012}))).limit(20,0)\r",
        "\r\n",
        "\r",
        "\r\n",
        "127.0.0.1 - - [06/Jan/2015 22:12:46] \"GET /candidate?name=jackson&fields=name,candidate_id,office_sought HTTP/1.0\" 200 -\r",
        "\r\n",
        "\r",
        "\r\n",
        "/(((dimcmte?exists(dimcmteproperties)){{cmte_id,},/dimcmteproperties{expire_date,cmte_nm,}, /dimlinkages{cand_id,expire_date,}, /dimcmtetpdsgn{expire_date,}})?top(dimcmteproperties.sort(expire_date-)).cmte_nm~'minnesotans').limit(20,0)\r",
        "\r\n",
        "\r",
        "\r\n",
        "127.0.0.1 - - [06/Jan/2015 22:12:49] \"GET /committee?name=minnesotans&fields=name,committee_id HTTP/1.0\" 200 -\r",
        "\r\n"
       ]
      }
     ],
     "prompt_number": 11
    },
    {
     "cell_type": "code",
     "collapsed": false,
     "input": [
      "qry_stem = \"https://fec.18f.us/htsql/\"\n",
      "cmte_qry = \"\"\"(((dimcmte?exists(dimcmteproperties)){{cmte_id,},/dimcmteproperties{expire_date,cmte_nm,}, /dimlinkages{cand_id,expire_date,}, /dimcmtetpdsgn{expire_date,}})?top(dimcmteproperties.sort(expire_date-)).cmte_nm~'minnesotans').limit(20,0)\"\"\"\n",
      "cand_qry = \"\"\"(dimcand?exists(dimcandproperties)&exists((dimcandoffice?cand_election_yr={2015,2014,2013,2012}))){{cand_id,},/dimcandproperties{cand_nm,},/(dimcandoffice?cand_election_yr={2015,2014,2013,2012}){cand_election_yr-,dimoffice{office_tp,},dimparty{}},          \n",
      "                              /dimcandstatusici{}}\n",
      "        ?top(dimcandproperties.sort(expire_date-)).cand_nm~'jackson'&exists((dimcandoffice?cand_election_yr={2015,2014,2013,2012}))).limit(20,0)\"\"\"\n",
      "cmte_url = qry_stem + cmte_qry + \"/:sql\"\n",
      "cand_url = qry_stem + cand_qry + \"/:sql\""
     ],
     "language": "python",
     "metadata": {},
     "outputs": [],
     "prompt_number": 8
    },
    {
     "cell_type": "code",
     "collapsed": false,
     "input": [
      "-- %sql INSERT INTO tuning_requirement (txt, type, target_seconds, ticket) VALUES ('{(qry_stem + cand_qry).replace(\"'\",\"''\").replace(\"\\n\",\" \")}', 'url', 0.25, '249')"
     ],
     "language": "python",
     "metadata": {},
     "outputs": [
      {
       "ename": "SyntaxError",
       "evalue": "invalid syntax (<ipython-input-9-b64aa3ceb066>, line 1)",
       "output_type": "pyerr",
       "traceback": [
        "\u001b[1;36m  File \u001b[1;32m\"<ipython-input-9-b64aa3ceb066>\"\u001b[1;36m, line \u001b[1;32m1\u001b[0m\n\u001b[1;33m    -- %sql INSERT INTO tuning_requirement (txt, type, target_seconds, ticket) VALUES ('{(qry_stem + cand_qry).replace(\"'\",\"''\").replace(\"\\n\",\" \")}', 'url', 0.25, '249')\u001b[0m\n\u001b[1;37m       ^\u001b[0m\n\u001b[1;31mSyntaxError\u001b[0m\u001b[1;31m:\u001b[0m invalid syntax\n"
       ]
      }
     ],
     "prompt_number": 9
    },
    {
     "cell_type": "code",
     "collapsed": false,
     "input": [
      "import requests\n",
      "import os\n",
      "response = requests.get(cmte_url, auth=(os.getenv('NGINX_USERNAME'), os.getenv('NGINX_PASSWORD')))"
     ],
     "language": "python",
     "metadata": {},
     "outputs": [],
     "prompt_number": 9
    },
    {
     "cell_type": "code",
     "collapsed": false,
     "input": [
      "cmte_sql = response.content.decode('utf8')"
     ],
     "language": "python",
     "metadata": {},
     "outputs": [],
     "prompt_number": 10
    },
    {
     "cell_type": "code",
     "collapsed": false,
     "input": [
      "cmte_selects = cmte_sql.split('\\n\\n')"
     ],
     "language": "python",
     "metadata": {},
     "outputs": [],
     "prompt_number": 11
    },
    {
     "cell_type": "code",
     "collapsed": false,
     "input": [
      "print(cmte_selects[0])"
     ],
     "language": "python",
     "metadata": {},
     "outputs": [
      {
       "output_type": "stream",
       "stream": "stdout",
       "text": [
        "SELECT \"dimcmte\".\"cmte_id\",\n",
        "       \"dimcmte\".\"cmte_sk\"\n",
        "FROM \"dimcmte\"\n",
        "     LEFT OUTER JOIN (SELECT \"dimcmteproperties\".\"cmte_nm\",\n",
        "                             \"dimcmteproperties\".\"cmte_sk\"\n",
        "                      FROM (SELECT \"dimcmteproperties\".\"cmte_nm\",\n",
        "                                   \"dimcmteproperties\".\"cmte_sk\",\n",
        "                                   ROW_NUMBER() OVER (PARTITION BY \"dimcmteproperties\".\"cmte_sk\" ORDER BY \"dimcmteproperties\".\"expire_date\" DESC NULLS LAST, \"dimcmteproperties\".\"cmteproperties_sk\" ASC) AS \"top\"\n",
        "                            FROM \"dimcmteproperties\") AS \"dimcmteproperties\"\n",
        "                      WHERE (\"dimcmteproperties\".\"top\" >= 1)\n",
        "                            AND (\"dimcmteproperties\".\"top\" < 2)) AS \"dimcmteproperties\"\n",
        "                     ON (\"dimcmte\".\"cmte_sk\" = \"dimcmteproperties\".\"cmte_sk\")\n",
        "WHERE (\"dimcmteproperties\".\"cmte_nm\" ILIKE '%minnesotans%')\n",
        "      AND EXISTS(SELECT TRUE\n",
        "                 FROM \"dimcmteproperties\" AS \"dimcmteproperties_1\"\n",
        "                 WHERE (\"dimcmte\".\"cmte_sk\" = \"dimcmteproperties_1\".\"cmte_sk\"))\n",
        "ORDER BY 2 ASC\n",
        "LIMIT 20\n",
        "OFFSET 0\n"
       ]
      }
     ],
     "prompt_number": 12
    },
    {
     "cell_type": "code",
     "collapsed": false,
     "input": [
      "%sql EXPLAIN {cmte_selects[0]}"
     ],
     "language": "python",
     "metadata": {},
     "outputs": [
      {
       "output_type": "stream",
       "stream": "stdout",
       "text": [
        "13 rows affected.\n"
       ]
      },
      {
       "html": [
        "<table>\n",
        "    <tr>\n",
        "        <th>QUERY PLAN</th>\n",
        "    </tr>\n",
        "    <tr>\n",
        "        <td>Limit  (cost=293.34..414.89 rows=1 width=18)</td>\n",
        "    </tr>\n",
        "    <tr>\n",
        "        <td>&nbsp;&nbsp;-&gt;  Nested Loop Semi Join  (cost=293.34..414.89 rows=1 width=18)</td>\n",
        "    </tr>\n",
        "    <tr>\n",
        "        <td>&nbsp;&nbsp;&nbsp;&nbsp;&nbsp;&nbsp;&nbsp;&nbsp;-&gt;  Nested Loop  (cost=293.06..414.41 rows=1 width=26)</td>\n",
        "    </tr>\n",
        "    <tr>\n",
        "        <td>&nbsp;&nbsp;&nbsp;&nbsp;&nbsp;&nbsp;&nbsp;&nbsp;&nbsp;&nbsp;&nbsp;&nbsp;&nbsp;&nbsp;-&gt;  Subquery Scan on dimcmteproperties  (cost=292.78..406.10 rows=1 width=8)</td>\n",
        "    </tr>\n",
        "    <tr>\n",
        "        <td>&nbsp;&nbsp;&nbsp;&nbsp;&nbsp;&nbsp;&nbsp;&nbsp;&nbsp;&nbsp;&nbsp;&nbsp;&nbsp;&nbsp;&nbsp;&nbsp;&nbsp;&nbsp;&nbsp;&nbsp;Filter: ((dimcmteproperties.top &gt;= 1) AND (dimcmteproperties.top &lt; 2) AND (dimcmteproperties.cmte_nm ~~* &#x27;%minnesotans%&#x27;::text))</td>\n",
        "    </tr>\n",
        "    <tr>\n",
        "        <td>&nbsp;&nbsp;&nbsp;&nbsp;&nbsp;&nbsp;&nbsp;&nbsp;&nbsp;&nbsp;&nbsp;&nbsp;&nbsp;&nbsp;&nbsp;&nbsp;&nbsp;&nbsp;&nbsp;&nbsp;-&gt;  WindowAgg  (cost=292.78..356.52 rows=2833 width=59)</td>\n",
        "    </tr>\n",
        "    <tr>\n",
        "        <td>&nbsp;&nbsp;&nbsp;&nbsp;&nbsp;&nbsp;&nbsp;&nbsp;&nbsp;&nbsp;&nbsp;&nbsp;&nbsp;&nbsp;&nbsp;&nbsp;&nbsp;&nbsp;&nbsp;&nbsp;&nbsp;&nbsp;&nbsp;&nbsp;&nbsp;&nbsp;-&gt;  Sort  (cost=292.78..299.86 rows=2833 width=59)</td>\n",
        "    </tr>\n",
        "    <tr>\n",
        "        <td>&nbsp;&nbsp;&nbsp;&nbsp;&nbsp;&nbsp;&nbsp;&nbsp;&nbsp;&nbsp;&nbsp;&nbsp;&nbsp;&nbsp;&nbsp;&nbsp;&nbsp;&nbsp;&nbsp;&nbsp;&nbsp;&nbsp;&nbsp;&nbsp;&nbsp;&nbsp;&nbsp;&nbsp;&nbsp;&nbsp;&nbsp;&nbsp;Sort Key: dimcmteproperties_2.cmte_sk, dimcmteproperties_2.expire_date, dimcmteproperties_2.cmteproperties_sk</td>\n",
        "    </tr>\n",
        "    <tr>\n",
        "        <td>&nbsp;&nbsp;&nbsp;&nbsp;&nbsp;&nbsp;&nbsp;&nbsp;&nbsp;&nbsp;&nbsp;&nbsp;&nbsp;&nbsp;&nbsp;&nbsp;&nbsp;&nbsp;&nbsp;&nbsp;&nbsp;&nbsp;&nbsp;&nbsp;&nbsp;&nbsp;&nbsp;&nbsp;&nbsp;&nbsp;&nbsp;&nbsp;-&gt;  Seq Scan on dimcmteproperties dimcmteproperties_2  (cost=0.00..130.33 rows=2833 width=59)</td>\n",
        "    </tr>\n",
        "    <tr>\n",
        "        <td>&nbsp;&nbsp;&nbsp;&nbsp;&nbsp;&nbsp;&nbsp;&nbsp;&nbsp;&nbsp;&nbsp;&nbsp;&nbsp;&nbsp;-&gt;  Index Scan using dimcmte_pkey on dimcmte  (cost=0.28..8.30 rows=1 width=18)</td>\n",
        "    </tr>\n",
        "    <tr>\n",
        "        <td>&nbsp;&nbsp;&nbsp;&nbsp;&nbsp;&nbsp;&nbsp;&nbsp;&nbsp;&nbsp;&nbsp;&nbsp;&nbsp;&nbsp;&nbsp;&nbsp;&nbsp;&nbsp;&nbsp;&nbsp;Index Cond: (cmte_sk = dimcmteproperties.cmte_sk)</td>\n",
        "    </tr>\n",
        "    <tr>\n",
        "        <td>&nbsp;&nbsp;&nbsp;&nbsp;&nbsp;&nbsp;&nbsp;&nbsp;-&gt;  Index Only Scan using dimcmteproperties_cmte_sk_idx on dimcmteproperties dimcmteproperties_1  (cost=0.28..0.48 rows=1 width=8)</td>\n",
        "    </tr>\n",
        "    <tr>\n",
        "        <td>&nbsp;&nbsp;&nbsp;&nbsp;&nbsp;&nbsp;&nbsp;&nbsp;&nbsp;&nbsp;&nbsp;&nbsp;&nbsp;&nbsp;Index Cond: (cmte_sk = dimcmte.cmte_sk)</td>\n",
        "    </tr>\n",
        "</table>"
       ],
       "metadata": {},
       "output_type": "pyout",
       "prompt_number": 14,
       "text": [
        "[('Limit  (cost=293.34..414.89 rows=1 width=18)',),\n",
        " ('  ->  Nested Loop Semi Join  (cost=293.34..414.89 rows=1 width=18)',),\n",
        " ('        ->  Nested Loop  (cost=293.06..414.41 rows=1 width=26)',),\n",
        " ('              ->  Subquery Scan on dimcmteproperties  (cost=292.78..406.10 rows=1 width=8)',),\n",
        " (\"                    Filter: ((dimcmteproperties.top >= 1) AND (dimcmteproperties.top < 2) AND (dimcmteproperties.cmte_nm ~~* '%minnesotans%'::text))\",),\n",
        " ('                    ->  WindowAgg  (cost=292.78..356.52 rows=2833 width=59)',),\n",
        " ('                          ->  Sort  (cost=292.78..299.86 rows=2833 width=59)',),\n",
        " ('                                Sort Key: dimcmteproperties_2.cmte_sk, dimcmteproperties_2.expire_date, dimcmteproperties_2.cmteproperties_sk',),\n",
        " ('                                ->  Seq Scan on dimcmteproperties dimcmteproperties_2  (cost=0.00..130.33 rows=2833 width=59)',),\n",
        " ('              ->  Index Scan using dimcmte_pkey on dimcmte  (cost=0.28..8.30 rows=1 width=18)',),\n",
        " ('                    Index Cond: (cmte_sk = dimcmteproperties.cmte_sk)',),\n",
        " ('        ->  Index Only Scan using dimcmteproperties_cmte_sk_idx on dimcmteproperties dimcmteproperties_1  (cost=0.28..0.48 rows=1 width=8)',),\n",
        " ('              Index Cond: (cmte_sk = dimcmte.cmte_sk)',)]"
       ]
      }
     ],
     "prompt_number": 14
    },
    {
     "cell_type": "code",
     "collapsed": false,
     "input": [
      "!psql -c \"\\d dimcmteproperties\" cfdm_test"
     ],
     "language": "python",
     "metadata": {},
     "outputs": [
      {
       "output_type": "stream",
       "stream": "stdout",
       "text": [
        "                   Table \"public.dimcmteproperties\"\r\n",
        "           Column            |            Type             | Modifiers \r\n",
        "-----------------------------+-----------------------------+-----------\r\n",
        " cmteproperties_sk           | bigint                      | not null\r\n",
        " cmte_sk                     | bigint                      | \r\n",
        " form_sk                     | bigint                      | \r\n",
        " form_tp                     | text                        | \r\n",
        " cmte_id                     | text                        | \r\n",
        " cmte_nm                     | text                        | \r\n",
        " cmte_st1                    | text                        | \r\n",
        " cmte_st2                    | text                        | \r\n",
        " cmte_city                   | text                        | \r\n",
        " cmte_st                     | text                        | \r\n",
        " cmte_st_desc                | text                        | \r\n",
        " cmte_zip                    | text                        | \r\n",
        " cmte_fax                    | text                        | \r\n",
        " cmte_email                  | text                        | \r\n",
        " cmte_web_url                | text                        | \r\n",
        " party_cmte_type             | text                        | \r\n",
        " party_cmte_type_desc        | text                        | \r\n",
        " cand_pty_affiliation        | text                        | \r\n",
        " filing_freq                 | text                        | \r\n",
        " qual_dt                     | timestamp without time zone | \r\n",
        " cand_id                     | text                        | \r\n",
        " org_tp                      | text                        | \r\n",
        " org_tp_desc                 | text                        | \r\n",
        " lobbyist_registrant_pac_flg | text                        | \r\n",
        " leadership_pac              | text                        | \r\n",
        " cmte_treasurer_nm           | text                        | \r\n",
        " cmte_treasurer_l_nm         | text                        | \r\n",
        " cmte_treasurer_f_nm         | text                        | \r\n",
        " cmte_treasurer_m_nm         | text                        | \r\n",
        " cmte_treasurer_prefix       | text                        | \r\n",
        " cmte_treasurer_suffix       | text                        | \r\n",
        " cmte_treasurer_st1          | text                        | \r\n",
        " cmte_treasurer_st2          | text                        | \r\n",
        " cmte_treasurer_city         | text                        | \r\n",
        " cmte_treasurer_st           | text                        | \r\n",
        " cmte_treasurer_zip          | text                        | \r\n",
        " cmte_treasurer_title        | text                        | \r\n",
        " cmte_treasurer_ph_num       | text                        | \r\n",
        " cmte_custodian_nm           | text                        | \r\n",
        " cmte_custodian_l_nm         | text                        | \r\n",
        " cmte_custodian_f_nm         | text                        | \r\n",
        " cmte_custodian_m_nm         | text                        | \r\n",
        " cmte_custodian_prefix       | text                        | \r\n",
        " cmte_custodian_suffix       | text                        | \r\n",
        " cmte_custodian_st1          | text                        | \r\n",
        " cmte_custodian_st2          | text                        | \r\n",
        " cmte_custodian_city         | text                        | \r\n",
        " cmte_custodian_st           | text                        | \r\n",
        " cmte_custodian_zip          | text                        | \r\n",
        " cmte_custodian_title        | text                        | \r\n",
        " cmte_custodian_ph_num       | text                        | \r\n",
        " orig_registration_dt        | timestamp without time zone | \r\n",
        " fiftyfirst_cand_contbr_dt   | timestamp without time zone | \r\n",
        " affiliation_dt              | timestamp without time zone | \r\n",
        " affiliated_cmte_id          | text                        | \r\n",
        " affiliated_cmte_nm          | text                        | \r\n",
        " fst_cand_id                 | text                        | \r\n",
        " fst_cand_nm                 | text                        | \r\n",
        " fst_cand_office             | text                        | \r\n",
        " fst_cand_office_st          | text                        | \r\n",
        " fst_cand_office_district    | text                        | \r\n",
        " fst_cand_contb_dt           | timestamp without time zone | \r\n",
        " sec_cand_id                 | text                        | \r\n",
        " sec_cand_nm                 | text                        | \r\n",
        " sec_cand_office             | text                        | \r\n",
        " sec_cand_office_st          | text                        | \r\n",
        " sec_cand_office_district    | text                        | \r\n",
        " sec_cand_contb_dt           | timestamp without time zone | \r\n",
        " trd_cand_id                 | text                        | \r\n",
        " trd_cand_nm                 | text                        | \r\n",
        " trd_cand_office             | text                        | \r\n",
        " trd_cand_office_st          | text                        | \r\n",
        " trd_cand_office_district    | text                        | \r\n",
        " trd_cand_contb_dt           | timestamp without time zone | \r\n",
        " frth_cand_id                | text                        | \r\n",
        " frth_cand_nm                | text                        | \r\n",
        " frth_cand_office            | text                        | \r\n",
        " frth_cand_office_st         | text                        | \r\n",
        " frth_cand_office_district   | text                        | \r\n",
        " frth_cand_contb_dt          | timestamp without time zone | \r\n",
        " fith_cand_id                | text                        | \r\n",
        " fith_cand_nm                | text                        | \r\n",
        " fith_cand_office            | text                        | \r\n",
        " fith_cand_office_st         | text                        | \r\n",
        " fith_cand_office_district   | text                        | \r\n",
        " fith_cand_contb_dt          | timestamp without time zone | \r\n",
        " load_date                   | timestamp without time zone | \r\n",
        " expire_date                 | timestamp without time zone | \r\n",
        "Indexes:\r\n",
        "    \"dimcmteproperties_pkey\" PRIMARY KEY, btree (cmteproperties_sk)\r\n",
        "    \"dimcmteproperties_cmte_sk_idx\" btree (cmte_sk)\r\n",
        "Foreign-key constraints:\r\n",
        "    \"dimcmteproperties_cand_id_fkey\" FOREIGN KEY (cand_id) REFERENCES dimcand(cand_id)\r\n",
        "    \"dimcmteproperties_cand_id_fkey1\" FOREIGN KEY (cand_id) REFERENCES dimcand(cand_id)\r\n",
        "    \"dimcmteproperties_cmte_sk_fkey\" FOREIGN KEY (cmte_sk) REFERENCES dimcmte(cmte_sk)\r\n",
        "    \"dimcmteproperties_cmte_sk_fkey1\" FOREIGN KEY (cmte_sk) REFERENCES dimcmte(cmte_sk)\r\n",
        "\r\n"
       ]
      }
     ],
     "prompt_number": 15
    },
    {
     "cell_type": "markdown",
     "metadata": {},
     "source": [
      "- Sorting dimcmteproperties by expire_dt, but no index\n",
      "- Filter on cmte_nm, no index - should index on lower(cmte_nm)\n",
      "- What other filters does API support?\n",
      "- Duplicate foreign keys"
     ]
    },
    {
     "cell_type": "code",
     "collapsed": false,
     "input": [
      "run_tuning_tests(os.getenv('SQLA_CONN'), 5)"
     ],
     "language": "python",
     "metadata": {},
     "outputs": [
      {
       "output_type": "stream",
       "stream": "stdout",
       "text": [
        "<Response [200]>\n"
       ]
      },
      {
       "metadata": {},
       "output_type": "pyout",
       "prompt_number": 22,
       "text": [
        "<Response [200]>"
       ]
      }
     ],
     "prompt_number": 22
    },
    {
     "cell_type": "code",
     "collapsed": false,
     "input": [
      "%sql select * from tuning_test where requirement_id = 5"
     ],
     "language": "python",
     "metadata": {},
     "outputs": [
      {
       "output_type": "stream",
       "stream": "stdout",
       "text": [
        "5 rows affected.\n"
       ]
      },
      {
       "html": [
        "<table>\n",
        "    <tr>\n",
        "        <th>id</th>\n",
        "        <th>dt</th>\n",
        "        <th>requirement_id</th>\n",
        "        <th>initial</th>\n",
        "        <th>seconds</th>\n",
        "        <th>error_msg</th>\n",
        "    </tr>\n",
        "    <tr>\n",
        "        <td>5</td>\n",
        "        <td>2015-01-07 10:21:32.281347-05:00</td>\n",
        "        <td>5</td>\n",
        "        <td>True</td>\n",
        "        <td>2.662361353999586</td>\n",
        "        <td>NULL</td>\n",
        "    </tr>\n",
        "    <tr>\n",
        "        <td>9</td>\n",
        "        <td>2015-01-07 16:22:08.124343-05:00</td>\n",
        "        <td>5</td>\n",
        "        <td>False</td>\n",
        "        <td>2.8623173479991237</td>\n",
        "        <td>NULL</td>\n",
        "    </tr>\n",
        "    <tr>\n",
        "        <td>10</td>\n",
        "        <td>2015-01-07 17:16:36.678422-05:00</td>\n",
        "        <td>5</td>\n",
        "        <td>False</td>\n",
        "        <td>2.9030347669995535</td>\n",
        "        <td>NULL</td>\n",
        "    </tr>\n",
        "    <tr>\n",
        "        <td>11</td>\n",
        "        <td>2015-01-07 17:36:12.287373-05:00</td>\n",
        "        <td>5</td>\n",
        "        <td>False</td>\n",
        "        <td>2.92873771000086</td>\n",
        "        <td>NULL</td>\n",
        "    </tr>\n",
        "    <tr>\n",
        "        <td>12</td>\n",
        "        <td>2015-01-07 17:48:18.664010-05:00</td>\n",
        "        <td>5</td>\n",
        "        <td>False</td>\n",
        "        <td>2.936189362000732</td>\n",
        "        <td>NULL</td>\n",
        "    </tr>\n",
        "</table>"
       ],
       "metadata": {},
       "output_type": "pyout",
       "prompt_number": 16,
       "text": [
        "[(5, datetime.datetime(2015, 1, 7, 10, 21, 32, 281347, tzinfo=psycopg2.tz.FixedOffsetTimezone(offset=-300, name=None)), 5, True, Decimal('2.662361353999586'), 'NULL'),\n",
        " (9, datetime.datetime(2015, 1, 7, 16, 22, 8, 124343, tzinfo=psycopg2.tz.FixedOffsetTimezone(offset=-300, name=None)), 5, False, Decimal('2.8623173479991237'), 'NULL'),\n",
        " (10, datetime.datetime(2015, 1, 7, 17, 16, 36, 678422, tzinfo=psycopg2.tz.FixedOffsetTimezone(offset=-300, name=None)), 5, False, Decimal('2.9030347669995535'), 'NULL'),\n",
        " (11, datetime.datetime(2015, 1, 7, 17, 36, 12, 287373, tzinfo=psycopg2.tz.FixedOffsetTimezone(offset=-300, name=None)), 5, False, Decimal('2.92873771000086'), 'NULL'),\n",
        " (12, datetime.datetime(2015, 1, 7, 17, 48, 18, 664010, tzinfo=psycopg2.tz.FixedOffsetTimezone(offset=-300, name=None)), 5, False, Decimal('2.936189362000732'), 'NULL')]"
       ]
      }
     ],
     "prompt_number": 16
    },
    {
     "cell_type": "code",
     "collapsed": false,
     "input": [
      "prod = os.getenv('PROXIED_SQLA_CONN')"
     ],
     "language": "python",
     "metadata": {},
     "outputs": [],
     "prompt_number": 17
    },
    {
     "cell_type": "code",
     "collapsed": false,
     "input": [
      "%sql {sqla_conn}"
     ],
     "language": "python",
     "metadata": {},
     "outputs": [
      {
       "metadata": {},
       "output_type": "pyout",
       "prompt_number": 18,
       "text": [
        "'Connected: @cfdm_test'"
       ]
      }
     ],
     "prompt_number": 18
    },
    {
     "cell_type": "code",
     "collapsed": false,
     "input": [
      "%sql select * from tuning_action"
     ],
     "language": "python",
     "metadata": {},
     "outputs": [
      {
       "output_type": "stream",
       "stream": "stdout",
       "text": [
        "4 rows affected.\n"
       ]
      },
      {
       "html": [
        "<table>\n",
        "    <tr>\n",
        "        <th>id</th>\n",
        "        <th>dt</th>\n",
        "        <th>domain</th>\n",
        "        <th>condition</th>\n",
        "        <th>measurement</th>\n",
        "        <th>previous</th>\n",
        "        <th>new</th>\n",
        "    </tr>\n",
        "    <tr>\n",
        "        <td>2</td>\n",
        "        <td>2015-01-07 17:16:18.026647-05:00</td>\n",
        "        <td>ddl</td>\n",
        "        <td>None</td>\n",
        "        <td>None</td>\n",
        "        <td>None</td>\n",
        "        <td>create index on dimcmteproperties (expire_date)</td>\n",
        "    </tr>\n",
        "    <tr>\n",
        "        <td>3</td>\n",
        "        <td>2015-01-07 17:47:47.965311-05:00</td>\n",
        "        <td>ddl</td>\n",
        "        <td>None</td>\n",
        "        <td>None</td>\n",
        "        <td>None</td>\n",
        "        <td>create index on dimcmteproperties (cmte_sk, expire_date, cmteproperties_sk)</td>\n",
        "    </tr>\n",
        "    <tr>\n",
        "        <td>4</td>\n",
        "        <td>2015-01-07 17:48:30.769646-05:00</td>\n",
        "        <td>ddl</td>\n",
        "        <td>None</td>\n",
        "        <td>None</td>\n",
        "        <td>None</td>\n",
        "        <td>drop index dimcmteproperties_cmte_sk_expire_date_cmteproperties_sk_idx</td>\n",
        "    </tr>\n",
        "    <tr>\n",
        "        <td>5</td>\n",
        "        <td>2015-01-07 23:14:11.447166-05:00</td>\n",
        "        <td>ddl</td>\n",
        "        <td>None</td>\n",
        "        <td>None</td>\n",
        "        <td>None</td>\n",
        "        <td>create index dimcmteproperties_cmte_sk_expire_date_cmteproperties_sk_idx on dimcmteproperties (cmte_sk, expire_date DESC NULLS LAST, cmteproperties_sk);<br>     cluster dimcmteproperties using dimcmteproperties_cmte_sk_expire_date_cmteproperties_sk_idx;</td>\n",
        "    </tr>\n",
        "</table>"
       ],
       "metadata": {},
       "output_type": "pyout",
       "prompt_number": 19,
       "text": [
        "[(2, datetime.datetime(2015, 1, 7, 17, 16, 18, 26647, tzinfo=psycopg2.tz.FixedOffsetTimezone(offset=-300, name=None)), 'ddl', None, None, None, 'create index on dimcmteproperties (expire_date)'),\n",
        " (3, datetime.datetime(2015, 1, 7, 17, 47, 47, 965311, tzinfo=psycopg2.tz.FixedOffsetTimezone(offset=-300, name=None)), 'ddl', None, None, None, 'create index on dimcmteproperties (cmte_sk, expire_date, cmteproperties_sk)'),\n",
        " (4, datetime.datetime(2015, 1, 7, 17, 48, 30, 769646, tzinfo=psycopg2.tz.FixedOffsetTimezone(offset=-300, name=None)), 'ddl', None, None, None, 'drop index dimcmteproperties_cmte_sk_expire_date_cmteproperties_sk_idx'),\n",
        " (5, datetime.datetime(2015, 1, 7, 23, 14, 11, 447166, tzinfo=psycopg2.tz.FixedOffsetTimezone(offset=-300, name=None)), 'ddl', None, None, None, 'create index dimcmteproperties_cmte_sk_expire_date_cmteproperties_sk_idx on dimcmteproperties (cmte_sk, expire_date DESC NULLS LAST, cmteproperties_sk);\\n     cluster dimcmteproperties using dimcmteproperties_cmte_sk_expire_date_cmteproperties_sk_idx;')]"
       ]
      }
     ],
     "prompt_number": 19
    },
    {
     "cell_type": "code",
     "collapsed": false,
     "input": [
      "-- %sql INSERT INTO tuning_action(domain, new) VALUES ('ddl', 'create index on dimcmteproperties (expire_date)')"
     ],
     "language": "python",
     "metadata": {},
     "outputs": [
      {
       "output_type": "stream",
       "stream": "stdout",
       "text": [
        "1 rows affected.\n"
       ]
      },
      {
       "metadata": {},
       "output_type": "pyout",
       "prompt_number": 34,
       "text": [
        "[]"
       ]
      }
     ],
     "prompt_number": 34
    },
    {
     "cell_type": "code",
     "collapsed": false,
     "input": [
      "run_tuning_tests(os.getenv('SQLA_CONN'), 5)"
     ],
     "language": "python",
     "metadata": {},
     "outputs": [
      {
       "output_type": "stream",
       "stream": "stdout",
       "text": [
        "<Response [200]>\n"
       ]
      },
      {
       "metadata": {},
       "output_type": "pyout",
       "prompt_number": 43,
       "text": [
        "<Response [200]>"
       ]
      }
     ],
     "prompt_number": 43
    },
    {
     "cell_type": "code",
     "collapsed": false,
     "input": [
      "%sql {sqla_conn} select * from tuning_test where requirement_id = 5"
     ],
     "language": "python",
     "metadata": {},
     "outputs": [
      {
       "output_type": "stream",
       "stream": "stdout",
       "text": [
        "5 rows affected.\n"
       ]
      },
      {
       "html": [
        "<table>\n",
        "    <tr>\n",
        "        <th>id</th>\n",
        "        <th>dt</th>\n",
        "        <th>requirement_id</th>\n",
        "        <th>initial</th>\n",
        "        <th>seconds</th>\n",
        "        <th>error_msg</th>\n",
        "    </tr>\n",
        "    <tr>\n",
        "        <td>5</td>\n",
        "        <td>2015-01-07 10:21:32.281347-05:00</td>\n",
        "        <td>5</td>\n",
        "        <td>True</td>\n",
        "        <td>2.662361353999586</td>\n",
        "        <td>NULL</td>\n",
        "    </tr>\n",
        "    <tr>\n",
        "        <td>9</td>\n",
        "        <td>2015-01-07 16:22:08.124343-05:00</td>\n",
        "        <td>5</td>\n",
        "        <td>False</td>\n",
        "        <td>2.8623173479991237</td>\n",
        "        <td>NULL</td>\n",
        "    </tr>\n",
        "    <tr>\n",
        "        <td>10</td>\n",
        "        <td>2015-01-07 17:16:36.678422-05:00</td>\n",
        "        <td>5</td>\n",
        "        <td>False</td>\n",
        "        <td>2.9030347669995535</td>\n",
        "        <td>NULL</td>\n",
        "    </tr>\n",
        "    <tr>\n",
        "        <td>11</td>\n",
        "        <td>2015-01-07 17:36:12.287373-05:00</td>\n",
        "        <td>5</td>\n",
        "        <td>False</td>\n",
        "        <td>2.92873771000086</td>\n",
        "        <td>NULL</td>\n",
        "    </tr>\n",
        "    <tr>\n",
        "        <td>12</td>\n",
        "        <td>2015-01-07 17:48:18.664010-05:00</td>\n",
        "        <td>5</td>\n",
        "        <td>False</td>\n",
        "        <td>2.936189362000732</td>\n",
        "        <td>NULL</td>\n",
        "    </tr>\n",
        "</table>"
       ],
       "metadata": {},
       "output_type": "pyout",
       "prompt_number": 20,
       "text": [
        "[(5, datetime.datetime(2015, 1, 7, 10, 21, 32, 281347, tzinfo=psycopg2.tz.FixedOffsetTimezone(offset=-300, name=None)), 5, True, Decimal('2.662361353999586'), 'NULL'),\n",
        " (9, datetime.datetime(2015, 1, 7, 16, 22, 8, 124343, tzinfo=psycopg2.tz.FixedOffsetTimezone(offset=-300, name=None)), 5, False, Decimal('2.8623173479991237'), 'NULL'),\n",
        " (10, datetime.datetime(2015, 1, 7, 17, 16, 36, 678422, tzinfo=psycopg2.tz.FixedOffsetTimezone(offset=-300, name=None)), 5, False, Decimal('2.9030347669995535'), 'NULL'),\n",
        " (11, datetime.datetime(2015, 1, 7, 17, 36, 12, 287373, tzinfo=psycopg2.tz.FixedOffsetTimezone(offset=-300, name=None)), 5, False, Decimal('2.92873771000086'), 'NULL'),\n",
        " (12, datetime.datetime(2015, 1, 7, 17, 48, 18, 664010, tzinfo=psycopg2.tz.FixedOffsetTimezone(offset=-300, name=None)), 5, False, Decimal('2.936189362000732'), 'NULL')]"
       ]
      }
     ],
     "prompt_number": 20
    },
    {
     "cell_type": "code",
     "collapsed": false,
     "input": [
      "print(cmte_selects[0])"
     ],
     "language": "python",
     "metadata": {},
     "outputs": [
      {
       "output_type": "stream",
       "stream": "stdout",
       "text": [
        "SELECT \"dimcmte\".\"cmte_id\",\n",
        "       \"dimcmte\".\"cmte_sk\"\n",
        "FROM \"dimcmte\"\n",
        "     LEFT OUTER JOIN (SELECT \"dimcmteproperties\".\"cmte_nm\",\n",
        "                             \"dimcmteproperties\".\"cmte_sk\"\n",
        "                      FROM (SELECT \"dimcmteproperties\".\"cmte_nm\",\n",
        "                                   \"dimcmteproperties\".\"cmte_sk\",\n",
        "                                   ROW_NUMBER() OVER (PARTITION BY \"dimcmteproperties\".\"cmte_sk\" ORDER BY \"dimcmteproperties\".\"expire_date\" DESC NULLS LAST, \"dimcmteproperties\".\"cmteproperties_sk\" ASC) AS \"top\"\n",
        "                            FROM \"dimcmteproperties\") AS \"dimcmteproperties\"\n",
        "                      WHERE (\"dimcmteproperties\".\"top\" >= 1)\n",
        "                            AND (\"dimcmteproperties\".\"top\" < 2)) AS \"dimcmteproperties\"\n",
        "                     ON (\"dimcmte\".\"cmte_sk\" = \"dimcmteproperties\".\"cmte_sk\")\n",
        "WHERE (\"dimcmteproperties\".\"cmte_nm\" ILIKE '%minnesotans%')\n",
        "      AND EXISTS(SELECT TRUE\n",
        "                 FROM \"dimcmteproperties\" AS \"dimcmteproperties_1\"\n",
        "                 WHERE (\"dimcmte\".\"cmte_sk\" = \"dimcmteproperties_1\".\"cmte_sk\"))\n",
        "ORDER BY 2 ASC\n",
        "LIMIT 20\n",
        "OFFSET 0\n"
       ]
      }
     ],
     "prompt_number": 42
    },
    {
     "cell_type": "code",
     "collapsed": false,
     "input": [
      "%sql {prod} EXPLAIN {cmte_selects[0]}"
     ],
     "language": "python",
     "metadata": {},
     "outputs": [
      {
       "output_type": "stream",
       "stream": "stdout",
       "text": [
        "11 rows affected.\n"
       ]
      },
      {
       "html": [
        "<table>\n",
        "    <tr>\n",
        "        <th>QUERY PLAN</th>\n",
        "    </tr>\n",
        "    <tr>\n",
        "        <td>Limit  (cost=1.13..26840.41 rows=1 width=18)</td>\n",
        "    </tr>\n",
        "    <tr>\n",
        "        <td>&nbsp;&nbsp;-&gt;  Nested Loop Semi Join  (cost=1.13..26840.41 rows=1 width=18)</td>\n",
        "    </tr>\n",
        "    <tr>\n",
        "        <td>&nbsp;&nbsp;&nbsp;&nbsp;&nbsp;&nbsp;&nbsp;&nbsp;-&gt;  Nested Loop  (cost=0.71..26839.45 rows=1 width=26)</td>\n",
        "    </tr>\n",
        "    <tr>\n",
        "        <td>&nbsp;&nbsp;&nbsp;&nbsp;&nbsp;&nbsp;&nbsp;&nbsp;&nbsp;&nbsp;&nbsp;&nbsp;&nbsp;&nbsp;-&gt;  Subquery Scan on dimcmteproperties  (cost=0.42..26831.13 rows=1 width=8)</td>\n",
        "    </tr>\n",
        "    <tr>\n",
        "        <td>&nbsp;&nbsp;&nbsp;&nbsp;&nbsp;&nbsp;&nbsp;&nbsp;&nbsp;&nbsp;&nbsp;&nbsp;&nbsp;&nbsp;&nbsp;&nbsp;&nbsp;&nbsp;&nbsp;&nbsp;Filter: ((dimcmteproperties.top &gt;= 1) AND (dimcmteproperties.top &lt; 2) AND (dimcmteproperties.cmte_nm ~~* &#x27;%minnesotans%&#x27;::text))</td>\n",
        "    </tr>\n",
        "    <tr>\n",
        "        <td>&nbsp;&nbsp;&nbsp;&nbsp;&nbsp;&nbsp;&nbsp;&nbsp;&nbsp;&nbsp;&nbsp;&nbsp;&nbsp;&nbsp;&nbsp;&nbsp;&nbsp;&nbsp;&nbsp;&nbsp;-&gt;  WindowAgg  (cost=0.42..23764.15 rows=175256 width=61)</td>\n",
        "    </tr>\n",
        "    <tr>\n",
        "        <td>&nbsp;&nbsp;&nbsp;&nbsp;&nbsp;&nbsp;&nbsp;&nbsp;&nbsp;&nbsp;&nbsp;&nbsp;&nbsp;&nbsp;&nbsp;&nbsp;&nbsp;&nbsp;&nbsp;&nbsp;&nbsp;&nbsp;&nbsp;&nbsp;&nbsp;&nbsp;-&gt;  Index Scan using dimcmteproperties_cmte_sk_expire_date_cmteproperties_sk_idx on dimcmteproperties dimcmteproperties_2  (cost=0.42..20259.03 rows=175256 width=61)</td>\n",
        "    </tr>\n",
        "    <tr>\n",
        "        <td>&nbsp;&nbsp;&nbsp;&nbsp;&nbsp;&nbsp;&nbsp;&nbsp;&nbsp;&nbsp;&nbsp;&nbsp;&nbsp;&nbsp;-&gt;  Index Scan using dimcmte_pkey on dimcmte  (cost=0.29..8.31 rows=1 width=18)</td>\n",
        "    </tr>\n",
        "    <tr>\n",
        "        <td>&nbsp;&nbsp;&nbsp;&nbsp;&nbsp;&nbsp;&nbsp;&nbsp;&nbsp;&nbsp;&nbsp;&nbsp;&nbsp;&nbsp;&nbsp;&nbsp;&nbsp;&nbsp;&nbsp;&nbsp;Index Cond: (cmte_sk = dimcmteproperties.cmte_sk)</td>\n",
        "    </tr>\n",
        "    <tr>\n",
        "        <td>&nbsp;&nbsp;&nbsp;&nbsp;&nbsp;&nbsp;&nbsp;&nbsp;-&gt;  Index Only Scan using dimcmteproperties_cmte_sk_idx on dimcmteproperties dimcmteproperties_1  (cost=0.42..0.95 rows=5 width=8)</td>\n",
        "    </tr>\n",
        "    <tr>\n",
        "        <td>&nbsp;&nbsp;&nbsp;&nbsp;&nbsp;&nbsp;&nbsp;&nbsp;&nbsp;&nbsp;&nbsp;&nbsp;&nbsp;&nbsp;Index Cond: (cmte_sk = dimcmte.cmte_sk)</td>\n",
        "    </tr>\n",
        "</table>"
       ],
       "metadata": {},
       "output_type": "pyout",
       "prompt_number": 21,
       "text": [
        "[('Limit  (cost=1.13..26840.41 rows=1 width=18)',),\n",
        " ('  ->  Nested Loop Semi Join  (cost=1.13..26840.41 rows=1 width=18)',),\n",
        " ('        ->  Nested Loop  (cost=0.71..26839.45 rows=1 width=26)',),\n",
        " ('              ->  Subquery Scan on dimcmteproperties  (cost=0.42..26831.13 rows=1 width=8)',),\n",
        " (\"                    Filter: ((dimcmteproperties.top >= 1) AND (dimcmteproperties.top < 2) AND (dimcmteproperties.cmte_nm ~~* '%minnesotans%'::text))\",),\n",
        " ('                    ->  WindowAgg  (cost=0.42..23764.15 rows=175256 width=61)',),\n",
        " ('                          ->  Index Scan using dimcmteproperties_cmte_sk_expire_date_cmteproperties_sk_idx on dimcmteproperties dimcmteproperties_2  (cost=0.42..20259.03 rows=175256 width=61)',),\n",
        " ('              ->  Index Scan using dimcmte_pkey on dimcmte  (cost=0.29..8.31 rows=1 width=18)',),\n",
        " ('                    Index Cond: (cmte_sk = dimcmteproperties.cmte_sk)',),\n",
        " ('        ->  Index Only Scan using dimcmteproperties_cmte_sk_idx on dimcmteproperties dimcmteproperties_1  (cost=0.42..0.95 rows=5 width=8)',),\n",
        " ('              Index Cond: (cmte_sk = dimcmte.cmte_sk)',)]"
       ]
      }
     ],
     "prompt_number": 21
    },
    {
     "cell_type": "markdown",
     "metadata": {},
     "source": [
      "Well, that was a depressing failure.  Let's move on to some of the others for now."
     ]
    },
    {
     "cell_type": "code",
     "collapsed": false,
     "input": [
      "print(cmte_selects[1])"
     ],
     "language": "python",
     "metadata": {},
     "outputs": [
      {
       "output_type": "stream",
       "stream": "stdout",
       "text": [
        "SELECT \"dimcmteproperties\".\"expire_date\",\n",
        "       \"dimcmteproperties\".\"cmte_nm\",\n",
        "       \"dimcmte\".\"cmte_sk\"\n",
        "FROM (SELECT \"dimcmte\".\"cmte_sk\"\n",
        "      FROM \"dimcmte\"\n",
        "           LEFT OUTER JOIN (SELECT \"dimcmteproperties\".\"cmte_nm\",\n",
        "                                   \"dimcmteproperties\".\"cmte_sk\"\n",
        "                            FROM (SELECT \"dimcmteproperties\".\"cmte_nm\",\n",
        "                                         \"dimcmteproperties\".\"cmte_sk\",\n",
        "                                         ROW_NUMBER() OVER (PARTITION BY \"dimcmteproperties\".\"cmte_sk\" ORDER BY \"dimcmteproperties\".\"expire_date\" DESC NULLS LAST, \"dimcmteproperties\".\"cmteproperties_sk\" ASC) AS \"top\"\n",
        "                                  FROM \"dimcmteproperties\") AS \"dimcmteproperties\"\n",
        "                            WHERE (\"dimcmteproperties\".\"top\" >= 1)\n",
        "                                  AND (\"dimcmteproperties\".\"top\" < 2)) AS \"dimcmteproperties\"\n",
        "                           ON (\"dimcmte\".\"cmte_sk\" = \"dimcmteproperties\".\"cmte_sk\")\n",
        "      WHERE (\"dimcmteproperties\".\"cmte_nm\" ILIKE '%minnesotans%')\n",
        "            AND EXISTS(SELECT TRUE\n",
        "                       FROM \"dimcmteproperties\" AS \"dimcmteproperties_1\"\n",
        "                       WHERE (\"dimcmte\".\"cmte_sk\" = \"dimcmteproperties_1\".\"cmte_sk\"))\n",
        "      ORDER BY 1 ASC\n",
        "      LIMIT 20\n",
        "      OFFSET 0) AS \"dimcmte\"\n",
        "     INNER JOIN \"dimcmteproperties\"\n",
        "                ON (\"dimcmte\".\"cmte_sk\" = \"dimcmteproperties\".\"cmte_sk\")\n",
        "ORDER BY 3 ASC, \"dimcmteproperties\".\"cmteproperties_sk\" ASC\n"
       ]
      }
     ],
     "prompt_number": 45
    },
    {
     "cell_type": "code",
     "collapsed": false,
     "input": [
      "%sql {prod} EXPLAIN {cmte_selects[1]}"
     ],
     "language": "python",
     "metadata": {},
     "outputs": [
      {
       "output_type": "stream",
       "stream": "stdout",
       "text": [
        "16 rows affected.\n"
       ]
      },
      {
       "html": [
        "<table>\n",
        "    <tr>\n",
        "        <th>QUERY PLAN</th>\n",
        "    </tr>\n",
        "    <tr>\n",
        "        <td>Sort  (cost=40792.44..40792.45 rows=5 width=61)</td>\n",
        "    </tr>\n",
        "    <tr>\n",
        "        <td>&nbsp;&nbsp;Sort Key: dimcmte.cmte_sk, dimcmteproperties.cmteproperties_sk</td>\n",
        "    </tr>\n",
        "    <tr>\n",
        "        <td>&nbsp;&nbsp;-&gt;  Nested Loop  (cost=1.55..40792.38 rows=5 width=61)</td>\n",
        "    </tr>\n",
        "    <tr>\n",
        "        <td>&nbsp;&nbsp;&nbsp;&nbsp;&nbsp;&nbsp;&nbsp;&nbsp;-&gt;  Limit  (cost=1.13..40782.12 rows=1 width=8)</td>\n",
        "    </tr>\n",
        "    <tr>\n",
        "        <td>&nbsp;&nbsp;&nbsp;&nbsp;&nbsp;&nbsp;&nbsp;&nbsp;&nbsp;&nbsp;&nbsp;&nbsp;&nbsp;&nbsp;-&gt;  Nested Loop Semi Join  (cost=1.13..40782.12 rows=1 width=8)</td>\n",
        "    </tr>\n",
        "    <tr>\n",
        "        <td>&nbsp;&nbsp;&nbsp;&nbsp;&nbsp;&nbsp;&nbsp;&nbsp;&nbsp;&nbsp;&nbsp;&nbsp;&nbsp;&nbsp;&nbsp;&nbsp;&nbsp;&nbsp;&nbsp;&nbsp;-&gt;  Nested Loop  (cost=0.71..40781.52 rows=1 width=16)</td>\n",
        "    </tr>\n",
        "    <tr>\n",
        "        <td>&nbsp;&nbsp;&nbsp;&nbsp;&nbsp;&nbsp;&nbsp;&nbsp;&nbsp;&nbsp;&nbsp;&nbsp;&nbsp;&nbsp;&nbsp;&nbsp;&nbsp;&nbsp;&nbsp;&nbsp;&nbsp;&nbsp;&nbsp;&nbsp;&nbsp;&nbsp;-&gt;  Subquery Scan on dimcmteproperties_2  (cost=0.42..40777.20 rows=1 width=8)</td>\n",
        "    </tr>\n",
        "    <tr>\n",
        "        <td>&nbsp;&nbsp;&nbsp;&nbsp;&nbsp;&nbsp;&nbsp;&nbsp;&nbsp;&nbsp;&nbsp;&nbsp;&nbsp;&nbsp;&nbsp;&nbsp;&nbsp;&nbsp;&nbsp;&nbsp;&nbsp;&nbsp;&nbsp;&nbsp;&nbsp;&nbsp;&nbsp;&nbsp;&nbsp;&nbsp;&nbsp;&nbsp;Filter: ((dimcmteproperties_2.top &gt;= 1) AND (dimcmteproperties_2.top &lt; 2) AND (dimcmteproperties_2.cmte_nm ~~* &#x27;%minnesotans%&#x27;::text))</td>\n",
        "    </tr>\n",
        "    <tr>\n",
        "        <td>&nbsp;&nbsp;&nbsp;&nbsp;&nbsp;&nbsp;&nbsp;&nbsp;&nbsp;&nbsp;&nbsp;&nbsp;&nbsp;&nbsp;&nbsp;&nbsp;&nbsp;&nbsp;&nbsp;&nbsp;&nbsp;&nbsp;&nbsp;&nbsp;&nbsp;&nbsp;&nbsp;&nbsp;&nbsp;&nbsp;&nbsp;&nbsp;-&gt;  WindowAgg  (cost=0.42..37710.22 rows=175256 width=61)</td>\n",
        "    </tr>\n",
        "    <tr>\n",
        "        <td>&nbsp;&nbsp;&nbsp;&nbsp;&nbsp;&nbsp;&nbsp;&nbsp;&nbsp;&nbsp;&nbsp;&nbsp;&nbsp;&nbsp;&nbsp;&nbsp;&nbsp;&nbsp;&nbsp;&nbsp;&nbsp;&nbsp;&nbsp;&nbsp;&nbsp;&nbsp;&nbsp;&nbsp;&nbsp;&nbsp;&nbsp;&nbsp;&nbsp;&nbsp;&nbsp;&nbsp;&nbsp;&nbsp;-&gt;  Index Scan using dimcmteproperties_cmte_sk_expire_date_cmteproperties_sk_idx1 on dimcmteproperties dimcmteproperties_3  (cost=0.42..34205.10 rows=175256 width=61)</td>\n",
        "    </tr>\n",
        "    <tr>\n",
        "        <td>&nbsp;&nbsp;&nbsp;&nbsp;&nbsp;&nbsp;&nbsp;&nbsp;&nbsp;&nbsp;&nbsp;&nbsp;&nbsp;&nbsp;&nbsp;&nbsp;&nbsp;&nbsp;&nbsp;&nbsp;&nbsp;&nbsp;&nbsp;&nbsp;&nbsp;&nbsp;-&gt;  Index Only Scan using dimcmte_pkey on dimcmte  (cost=0.29..4.31 rows=1 width=8)</td>\n",
        "    </tr>\n",
        "    <tr>\n",
        "        <td>&nbsp;&nbsp;&nbsp;&nbsp;&nbsp;&nbsp;&nbsp;&nbsp;&nbsp;&nbsp;&nbsp;&nbsp;&nbsp;&nbsp;&nbsp;&nbsp;&nbsp;&nbsp;&nbsp;&nbsp;&nbsp;&nbsp;&nbsp;&nbsp;&nbsp;&nbsp;&nbsp;&nbsp;&nbsp;&nbsp;&nbsp;&nbsp;Index Cond: (cmte_sk = dimcmteproperties_2.cmte_sk)</td>\n",
        "    </tr>\n",
        "    <tr>\n",
        "        <td>&nbsp;&nbsp;&nbsp;&nbsp;&nbsp;&nbsp;&nbsp;&nbsp;&nbsp;&nbsp;&nbsp;&nbsp;&nbsp;&nbsp;&nbsp;&nbsp;&nbsp;&nbsp;&nbsp;&nbsp;-&gt;  Index Only Scan using dimcmteproperties_cmte_sk_expire_date_cmteproperties_sk_idx1 on dimcmteproperties dimcmteproperties_1  (cost=0.42..0.58 rows=5 width=8)</td>\n",
        "    </tr>\n",
        "    <tr>\n",
        "        <td>&nbsp;&nbsp;&nbsp;&nbsp;&nbsp;&nbsp;&nbsp;&nbsp;&nbsp;&nbsp;&nbsp;&nbsp;&nbsp;&nbsp;&nbsp;&nbsp;&nbsp;&nbsp;&nbsp;&nbsp;&nbsp;&nbsp;&nbsp;&nbsp;&nbsp;&nbsp;Index Cond: (cmte_sk = dimcmte.cmte_sk)</td>\n",
        "    </tr>\n",
        "    <tr>\n",
        "        <td>&nbsp;&nbsp;&nbsp;&nbsp;&nbsp;&nbsp;&nbsp;&nbsp;-&gt;  Index Scan using dimcmteproperties_cmte_sk_idx on dimcmteproperties  (cost=0.42..10.20 rows=5 width=61)</td>\n",
        "    </tr>\n",
        "    <tr>\n",
        "        <td>&nbsp;&nbsp;&nbsp;&nbsp;&nbsp;&nbsp;&nbsp;&nbsp;&nbsp;&nbsp;&nbsp;&nbsp;&nbsp;&nbsp;Index Cond: (cmte_sk = dimcmte.cmte_sk)</td>\n",
        "    </tr>\n",
        "</table>"
       ],
       "metadata": {},
       "output_type": "pyout",
       "prompt_number": 57,
       "text": [
        "[('Sort  (cost=40792.44..40792.45 rows=5 width=61)',),\n",
        " ('  Sort Key: dimcmte.cmte_sk, dimcmteproperties.cmteproperties_sk',),\n",
        " ('  ->  Nested Loop  (cost=1.55..40792.38 rows=5 width=61)',),\n",
        " ('        ->  Limit  (cost=1.13..40782.12 rows=1 width=8)',),\n",
        " ('              ->  Nested Loop Semi Join  (cost=1.13..40782.12 rows=1 width=8)',),\n",
        " ('                    ->  Nested Loop  (cost=0.71..40781.52 rows=1 width=16)',),\n",
        " ('                          ->  Subquery Scan on dimcmteproperties_2  (cost=0.42..40777.20 rows=1 width=8)',),\n",
        " (\"                                Filter: ((dimcmteproperties_2.top >= 1) AND (dimcmteproperties_2.top < 2) AND (dimcmteproperties_2.cmte_nm ~~* '%minnesotans%'::text))\",),\n",
        " ('                                ->  WindowAgg  (cost=0.42..37710.22 rows=175256 width=61)',),\n",
        " ('                                      ->  Index Scan using dimcmteproperties_cmte_sk_expire_date_cmteproperties_sk_idx1 on dimcmteproperties dimcmteproperties_3  (cost=0.42..34205.10 rows=175256 width=61)',),\n",
        " ('                          ->  Index Only Scan using dimcmte_pkey on dimcmte  (cost=0.29..4.31 rows=1 width=8)',),\n",
        " ('                                Index Cond: (cmte_sk = dimcmteproperties_2.cmte_sk)',),\n",
        " ('                    ->  Index Only Scan using dimcmteproperties_cmte_sk_expire_date_cmteproperties_sk_idx1 on dimcmteproperties dimcmteproperties_1  (cost=0.42..0.58 rows=5 width=8)',),\n",
        " ('                          Index Cond: (cmte_sk = dimcmte.cmte_sk)',),\n",
        " ('        ->  Index Scan using dimcmteproperties_cmte_sk_idx on dimcmteproperties  (cost=0.42..10.20 rows=5 width=61)',),\n",
        " ('              Index Cond: (cmte_sk = dimcmte.cmte_sk)',)]"
       ]
      }
     ],
     "prompt_number": 57
    },
    {
     "cell_type": "code",
     "collapsed": false,
     "input": [
      "%sql {sqla_conn} INSERT INTO tuning_action(domain, new) VALUES ('ddl', 'create index on dimcmteproperties (cmte_sk, expire_date, cmteproperties_sk)')"
     ],
     "language": "python",
     "metadata": {},
     "outputs": [
      {
       "output_type": "stream",
       "stream": "stdout",
       "text": [
        "1 rows affected.\n"
       ]
      },
      {
       "metadata": {},
       "output_type": "pyout",
       "prompt_number": 48,
       "text": [
        "[]"
       ]
      }
     ],
     "prompt_number": 48
    },
    {
     "cell_type": "code",
     "collapsed": false,
     "input": [
      "run_tuning_tests(os.getenv('SQLA_CONN'), 5)"
     ],
     "language": "python",
     "metadata": {},
     "outputs": [
      {
       "output_type": "stream",
       "stream": "stdout",
       "text": [
        "<Response [200]>\n"
       ]
      },
      {
       "metadata": {},
       "output_type": "pyout",
       "prompt_number": 49,
       "text": [
        "<Response [200]>"
       ]
      }
     ],
     "prompt_number": 49
    },
    {
     "cell_type": "code",
     "collapsed": false,
     "input": [
      "%sql select * from tuning_test where requirement_id = 5"
     ],
     "language": "python",
     "metadata": {},
     "outputs": [
      {
       "output_type": "stream",
       "stream": "stdout",
       "text": [
        "5 rows affected.\n"
       ]
      },
      {
       "html": [
        "<table>\n",
        "    <tr>\n",
        "        <th>id</th>\n",
        "        <th>dt</th>\n",
        "        <th>requirement_id</th>\n",
        "        <th>initial</th>\n",
        "        <th>seconds</th>\n",
        "        <th>error_msg</th>\n",
        "    </tr>\n",
        "    <tr>\n",
        "        <td>5</td>\n",
        "        <td>2015-01-07 10:21:32.281347-05:00</td>\n",
        "        <td>5</td>\n",
        "        <td>True</td>\n",
        "        <td>2.662361353999586</td>\n",
        "        <td>NULL</td>\n",
        "    </tr>\n",
        "    <tr>\n",
        "        <td>9</td>\n",
        "        <td>2015-01-07 16:22:08.124343-05:00</td>\n",
        "        <td>5</td>\n",
        "        <td>False</td>\n",
        "        <td>2.8623173479991237</td>\n",
        "        <td>NULL</td>\n",
        "    </tr>\n",
        "    <tr>\n",
        "        <td>10</td>\n",
        "        <td>2015-01-07 17:16:36.678422-05:00</td>\n",
        "        <td>5</td>\n",
        "        <td>False</td>\n",
        "        <td>2.9030347669995535</td>\n",
        "        <td>NULL</td>\n",
        "    </tr>\n",
        "    <tr>\n",
        "        <td>11</td>\n",
        "        <td>2015-01-07 17:36:12.287373-05:00</td>\n",
        "        <td>5</td>\n",
        "        <td>False</td>\n",
        "        <td>2.92873771000086</td>\n",
        "        <td>NULL</td>\n",
        "    </tr>\n",
        "    <tr>\n",
        "        <td>12</td>\n",
        "        <td>2015-01-07 17:48:18.664010-05:00</td>\n",
        "        <td>5</td>\n",
        "        <td>False</td>\n",
        "        <td>2.936189362000732</td>\n",
        "        <td>NULL</td>\n",
        "    </tr>\n",
        "</table>"
       ],
       "metadata": {},
       "output_type": "pyout",
       "prompt_number": 50,
       "text": [
        "[(5, datetime.datetime(2015, 1, 7, 10, 21, 32, 281347, tzinfo=psycopg2.tz.FixedOffsetTimezone(offset=-300, name=None)), 5, True, Decimal('2.662361353999586'), 'NULL'),\n",
        " (9, datetime.datetime(2015, 1, 7, 16, 22, 8, 124343, tzinfo=psycopg2.tz.FixedOffsetTimezone(offset=-300, name=None)), 5, False, Decimal('2.8623173479991237'), 'NULL'),\n",
        " (10, datetime.datetime(2015, 1, 7, 17, 16, 36, 678422, tzinfo=psycopg2.tz.FixedOffsetTimezone(offset=-300, name=None)), 5, False, Decimal('2.9030347669995535'), 'NULL'),\n",
        " (11, datetime.datetime(2015, 1, 7, 17, 36, 12, 287373, tzinfo=psycopg2.tz.FixedOffsetTimezone(offset=-300, name=None)), 5, False, Decimal('2.92873771000086'), 'NULL'),\n",
        " (12, datetime.datetime(2015, 1, 7, 17, 48, 18, 664010, tzinfo=psycopg2.tz.FixedOffsetTimezone(offset=-300, name=None)), 5, False, Decimal('2.936189362000732'), 'NULL')]"
       ]
      }
     ],
     "prompt_number": 50
    },
    {
     "cell_type": "code",
     "collapsed": false,
     "input": [
      "# %sql {sqla_conn} INSERT INTO tuning_action(domain, new) VALUES ('ddl', 'drop index dimcmteproperties_cmte_sk_expire_date_cmteproperties_sk_idx')"
     ],
     "language": "python",
     "metadata": {},
     "outputs": [
      {
       "output_type": "stream",
       "stream": "stdout",
       "text": [
        "1 rows affected.\n"
       ]
      },
      {
       "metadata": {},
       "output_type": "pyout",
       "prompt_number": 51,
       "text": [
        "[]"
       ]
      }
     ],
     "prompt_number": 51
    },
    {
     "cell_type": "code",
     "collapsed": false,
     "input": [
      "%sql select * from tuning_action;"
     ],
     "language": "python",
     "metadata": {},
     "outputs": [
      {
       "output_type": "stream",
       "stream": "stdout",
       "text": [
        "3 rows affected.\n"
       ]
      },
      {
       "html": [
        "<table>\n",
        "    <tr>\n",
        "        <th>id</th>\n",
        "        <th>dt</th>\n",
        "        <th>domain</th>\n",
        "        <th>condition</th>\n",
        "        <th>measurement</th>\n",
        "        <th>previous</th>\n",
        "        <th>new</th>\n",
        "    </tr>\n",
        "    <tr>\n",
        "        <td>2</td>\n",
        "        <td>2015-01-07 17:16:18.026647-05:00</td>\n",
        "        <td>ddl</td>\n",
        "        <td>None</td>\n",
        "        <td>None</td>\n",
        "        <td>None</td>\n",
        "        <td>create index on dimcmteproperties (expire_date)</td>\n",
        "    </tr>\n",
        "    <tr>\n",
        "        <td>3</td>\n",
        "        <td>2015-01-07 17:47:47.965311-05:00</td>\n",
        "        <td>ddl</td>\n",
        "        <td>None</td>\n",
        "        <td>None</td>\n",
        "        <td>None</td>\n",
        "        <td>create index on dimcmteproperties (cmte_sk, expire_date, cmteproperties_sk)</td>\n",
        "    </tr>\n",
        "    <tr>\n",
        "        <td>4</td>\n",
        "        <td>2015-01-07 17:48:30.769646-05:00</td>\n",
        "        <td>ddl</td>\n",
        "        <td>None</td>\n",
        "        <td>None</td>\n",
        "        <td>None</td>\n",
        "        <td>drop index dimcmteproperties_cmte_sk_expire_date_cmteproperties_sk_idx</td>\n",
        "    </tr>\n",
        "</table>"
       ],
       "metadata": {},
       "output_type": "pyout",
       "prompt_number": 52,
       "text": [
        "[(2, datetime.datetime(2015, 1, 7, 17, 16, 18, 26647, tzinfo=psycopg2.tz.FixedOffsetTimezone(offset=-300, name=None)), 'ddl', None, None, None, 'create index on dimcmteproperties (expire_date)'),\n",
        " (3, datetime.datetime(2015, 1, 7, 17, 47, 47, 965311, tzinfo=psycopg2.tz.FixedOffsetTimezone(offset=-300, name=None)), 'ddl', None, None, None, 'create index on dimcmteproperties (cmte_sk, expire_date, cmteproperties_sk)'),\n",
        " (4, datetime.datetime(2015, 1, 7, 17, 48, 30, 769646, tzinfo=psycopg2.tz.FixedOffsetTimezone(offset=-300, name=None)), 'ddl', None, None, None, 'drop index dimcmteproperties_cmte_sk_expire_date_cmteproperties_sk_idx')]"
       ]
      }
     ],
     "prompt_number": 52
    },
    {
     "cell_type": "code",
     "collapsed": false,
     "input": [
      "%sql select * from tuning_requirement"
     ],
     "language": "python",
     "metadata": {},
     "outputs": [
      {
       "output_type": "stream",
       "stream": "stdout",
       "text": [
        "4 rows affected.\n"
       ]
      },
      {
       "html": [
        "<table>\n",
        "    <tr>\n",
        "        <th>id</th>\n",
        "        <th>txt</th>\n",
        "        <th>type</th>\n",
        "        <th>target_seconds</th>\n",
        "        <th>ticket</th>\n",
        "        <th>status</th>\n",
        "    </tr>\n",
        "    <tr>\n",
        "        <td>3</td>\n",
        "        <td>https://fec.18f.us/rest/candidate?name=jackson&amp;fields=name,candidate_id,office_sought</td>\n",
        "        <td>url</td>\n",
        "        <td>0.25</td>\n",
        "        <td>249</td>\n",
        "        <td>tested</td>\n",
        "    </tr>\n",
        "    <tr>\n",
        "        <td>4</td>\n",
        "        <td>https://fec.18f.us/rest/committee?name=minnesotans&amp;fields=name,committee_id</td>\n",
        "        <td>url</td>\n",
        "        <td>0.25</td>\n",
        "        <td>249</td>\n",
        "        <td>tested</td>\n",
        "    </tr>\n",
        "    <tr>\n",
        "        <td>7</td>\n",
        "        <td>https://fec.18f.us/htsql/(dimcand?exists(dimcandproperties)&amp;exists((dimcandoffice?cand_election_yr={2015,2014,2013,2012}))){{cand_id,},/dimcandproperties{cand_nm,},/(dimcandoffice?cand_election_yr={2015,2014,2013,2012}){cand_election_yr-,dimoffice{office_tp,},dimparty{}},                                         /dimcandstatusici{}}         ?top(dimcandproperties.sort(expire_date-)).cand_nm~&#x27;jackson&#x27;&amp;exists((dimcandoffice?cand_election_yr={2015,2014,2013,2012}))).limit(20,0)</td>\n",
        "        <td>url</td>\n",
        "        <td>0.25</td>\n",
        "        <td>249</td>\n",
        "        <td>tested</td>\n",
        "    </tr>\n",
        "    <tr>\n",
        "        <td>5</td>\n",
        "        <td>https://fec.18f.us/htsql/(((dimcmte?exists(dimcmteproperties)){{cmte_id,},/dimcmteproperties{expire_date,cmte_nm,}, /dimlinkages{cand_id,expire_date,}, /dimcmtetpdsgn{expire_date,}})?top(dimcmteproperties.sort(expire_date-)).cmte_nm~&#x27;minnesotans&#x27;).limit(20,0)</td>\n",
        "        <td>url</td>\n",
        "        <td>0.25</td>\n",
        "        <td>249</td>\n",
        "        <td>tested</td>\n",
        "    </tr>\n",
        "</table>"
       ],
       "metadata": {},
       "output_type": "pyout",
       "prompt_number": 54,
       "text": [
        "[(3, 'https://fec.18f.us/rest/candidate?name=jackson&fields=name,candidate_id,office_sought', 'url', Decimal('0.25'), '249', 'tested'),\n",
        " (4, 'https://fec.18f.us/rest/committee?name=minnesotans&fields=name,committee_id', 'url', Decimal('0.25'), '249', 'tested'),\n",
        " (7, \"https://fec.18f.us/htsql/(dimcand?exists(dimcandproperties)&exists((dimcandoffice?cand_election_yr={2015,2014,2013,2012}))){{cand_id,},/dimcandproperties{cand_nm,},/(dimcandoffice?cand_election_yr={2015,2014,2013,2012}){cand_election_yr-,dimoffice{office_tp,},dimparty{}},                                         /dimcandstatusici{}}         ?top(dimcandproperties.sort(expire_date-)).cand_nm~'jackson'&exists((dimcandoffice?cand_election_yr={2015,2014,2013,2012}))).limit(20,0)\", 'url', Decimal('0.25'), '249', 'tested'),\n",
        " (5, \"https://fec.18f.us/htsql/(((dimcmte?exists(dimcmteproperties)){{cmte_id,},/dimcmteproperties{expire_date,cmte_nm,}, /dimlinkages{cand_id,expire_date,}, /dimcmtetpdsgn{expire_date,}})?top(dimcmteproperties.sort(expire_date-)).cmte_nm~'minnesotans').limit(20,0)\", 'url', Decimal('0.25'), '249', 'tested')]"
       ]
      }
     ],
     "prompt_number": 54
    },
    {
     "cell_type": "code",
     "collapsed": false,
     "input": [
      "run_tuning_tests(os.getenv('SQLA_CONN'), 4)"
     ],
     "language": "python",
     "metadata": {},
     "outputs": [
      {
       "output_type": "stream",
       "stream": "stdout",
       "text": [
        "<Response [200]>\n"
       ]
      },
      {
       "metadata": {},
       "output_type": "pyout",
       "prompt_number": 55,
       "text": [
        "<Response [200]>"
       ]
      }
     ],
     "prompt_number": 55
    },
    {
     "cell_type": "code",
     "collapsed": false,
     "input": [
      "%sql select * from tuning_test where requirement_id = 4"
     ],
     "language": "python",
     "metadata": {},
     "outputs": [
      {
       "output_type": "stream",
       "stream": "stdout",
       "text": [
        "3 rows affected.\n"
       ]
      },
      {
       "html": [
        "<table>\n",
        "    <tr>\n",
        "        <th>id</th>\n",
        "        <th>dt</th>\n",
        "        <th>requirement_id</th>\n",
        "        <th>initial</th>\n",
        "        <th>seconds</th>\n",
        "        <th>error_msg</th>\n",
        "    </tr>\n",
        "    <tr>\n",
        "        <td>2</td>\n",
        "        <td>2015-01-06 16:21:47.601774-05:00</td>\n",
        "        <td>4</td>\n",
        "        <td>True</td>\n",
        "        <td>3.153095363999455</td>\n",
        "        <td>NULL</td>\n",
        "    </tr>\n",
        "    <tr>\n",
        "        <td>4</td>\n",
        "        <td>2015-01-06 17:12:49.101990-05:00</td>\n",
        "        <td>4</td>\n",
        "        <td>False</td>\n",
        "        <td>3.13446509500136</td>\n",
        "        <td>NULL</td>\n",
        "    </tr>\n",
        "    <tr>\n",
        "        <td>13</td>\n",
        "        <td>2015-01-07 17:59:28.917512-05:00</td>\n",
        "        <td>4</td>\n",
        "        <td>False</td>\n",
        "        <td>3.7758687410005223</td>\n",
        "        <td>NULL</td>\n",
        "    </tr>\n",
        "</table>"
       ],
       "metadata": {},
       "output_type": "pyout",
       "prompt_number": 56,
       "text": [
        "[(2, datetime.datetime(2015, 1, 6, 16, 21, 47, 601774, tzinfo=psycopg2.tz.FixedOffsetTimezone(offset=-300, name=None)), 4, True, Decimal('3.153095363999455'), 'NULL'),\n",
        " (4, datetime.datetime(2015, 1, 6, 17, 12, 49, 101990, tzinfo=psycopg2.tz.FixedOffsetTimezone(offset=-300, name=None)), 4, False, Decimal('3.13446509500136'), 'NULL'),\n",
        " (13, datetime.datetime(2015, 1, 7, 17, 59, 28, 917512, tzinfo=psycopg2.tz.FixedOffsetTimezone(offset=-300, name=None)), 4, False, Decimal('3.7758687410005223'), 'NULL')]"
       ]
      }
     ],
     "prompt_number": 56
    },
    {
     "cell_type": "code",
     "collapsed": false,
     "input": [
      "print(cmte_selects[3])"
     ],
     "language": "python",
     "metadata": {},
     "outputs": [
      {
       "output_type": "stream",
       "stream": "stdout",
       "text": [
        "SELECT \"dimcmtetpdsgn\".\"expire_date\",\n",
        "       \"dimcmte\".\"cmte_sk\"\n",
        "FROM (SELECT \"dimcmte\".\"cmte_sk\"\n",
        "      FROM \"dimcmte\"\n",
        "           LEFT OUTER JOIN (SELECT \"dimcmteproperties\".\"cmte_nm\",\n",
        "                                   \"dimcmteproperties\".\"cmte_sk\"\n",
        "                            FROM (SELECT \"dimcmteproperties\".\"cmte_nm\",\n",
        "                                         \"dimcmteproperties\".\"cmte_sk\",\n",
        "                                         ROW_NUMBER() OVER (PARTITION BY \"dimcmteproperties\".\"cmte_sk\" ORDER BY \"dimcmteproperties\".\"expire_date\" DESC NULLS LAST, \"dimcmteproperties\".\"cmteproperties_sk\" ASC) AS \"top\"\n",
        "                                  FROM \"dimcmteproperties\") AS \"dimcmteproperties\"\n",
        "                            WHERE (\"dimcmteproperties\".\"top\" >= 1)\n",
        "                                  AND (\"dimcmteproperties\".\"top\" < 2)) AS \"dimcmteproperties\"\n",
        "                           ON (\"dimcmte\".\"cmte_sk\" = \"dimcmteproperties\".\"cmte_sk\")\n",
        "      WHERE (\"dimcmteproperties\".\"cmte_nm\" ILIKE '%minnesotans%')\n",
        "            AND EXISTS(SELECT TRUE\n",
        "                       FROM \"dimcmteproperties\" AS \"dimcmteproperties_1\"\n",
        "                       WHERE (\"dimcmte\".\"cmte_sk\" = \"dimcmteproperties_1\".\"cmte_sk\"))\n",
        "      ORDER BY 1 ASC\n",
        "      LIMIT 20\n",
        "      OFFSET 0) AS \"dimcmte\"\n",
        "     INNER JOIN \"dimcmtetpdsgn\"\n",
        "                ON (\"dimcmte\".\"cmte_sk\" = \"dimcmtetpdsgn\".\"cmte_sk\")\n",
        "ORDER BY 2 ASC, \"dimcmtetpdsgn\".\"cmte_tpdgn_sk\" ASC\n",
        "\n"
       ]
      }
     ],
     "prompt_number": 22
    },
    {
     "cell_type": "code",
     "collapsed": false,
     "input": [
      "%sql {prod} EXPLAIN {cmte_selects[3]}"
     ],
     "language": "python",
     "metadata": {},
     "outputs": [
      {
       "output_type": "stream",
       "stream": "stdout",
       "text": [
        "17 rows affected.\n"
       ]
      },
      {
       "html": [
        "<table>\n",
        "    <tr>\n",
        "        <th>QUERY PLAN</th>\n",
        "    </tr>\n",
        "    <tr>\n",
        "        <td>Sort  (cost=28390.96..28390.96 rows=1 width=24)</td>\n",
        "    </tr>\n",
        "    <tr>\n",
        "        <td>&nbsp;&nbsp;Sort Key: dimcmte.cmte_sk, dimcmtetpdsgn.cmte_tpdgn_sk</td>\n",
        "    </tr>\n",
        "    <tr>\n",
        "        <td>&nbsp;&nbsp;-&gt;  Hash Join  (cost=26836.43..28390.95 rows=1 width=24)</td>\n",
        "    </tr>\n",
        "    <tr>\n",
        "        <td>&nbsp;&nbsp;&nbsp;&nbsp;&nbsp;&nbsp;&nbsp;&nbsp;Hash Cond: (dimcmtetpdsgn.cmte_sk = dimcmte.cmte_sk)</td>\n",
        "    </tr>\n",
        "    <tr>\n",
        "        <td>&nbsp;&nbsp;&nbsp;&nbsp;&nbsp;&nbsp;&nbsp;&nbsp;-&gt;  Seq Scan on dimcmtetpdsgn  (cost=0.00..1292.82 rows=69782 width=24)</td>\n",
        "    </tr>\n",
        "    <tr>\n",
        "        <td>&nbsp;&nbsp;&nbsp;&nbsp;&nbsp;&nbsp;&nbsp;&nbsp;-&gt;  Hash  (cost=26836.42..26836.42 rows=1 width=8)</td>\n",
        "    </tr>\n",
        "    <tr>\n",
        "        <td>&nbsp;&nbsp;&nbsp;&nbsp;&nbsp;&nbsp;&nbsp;&nbsp;&nbsp;&nbsp;&nbsp;&nbsp;&nbsp;&nbsp;-&gt;  Limit  (cost=1.13..26836.41 rows=1 width=8)</td>\n",
        "    </tr>\n",
        "    <tr>\n",
        "        <td>&nbsp;&nbsp;&nbsp;&nbsp;&nbsp;&nbsp;&nbsp;&nbsp;&nbsp;&nbsp;&nbsp;&nbsp;&nbsp;&nbsp;&nbsp;&nbsp;&nbsp;&nbsp;&nbsp;&nbsp;-&gt;  Nested Loop Semi Join  (cost=1.13..26836.41 rows=1 width=8)</td>\n",
        "    </tr>\n",
        "    <tr>\n",
        "        <td>&nbsp;&nbsp;&nbsp;&nbsp;&nbsp;&nbsp;&nbsp;&nbsp;&nbsp;&nbsp;&nbsp;&nbsp;&nbsp;&nbsp;&nbsp;&nbsp;&nbsp;&nbsp;&nbsp;&nbsp;&nbsp;&nbsp;&nbsp;&nbsp;&nbsp;&nbsp;-&gt;  Nested Loop  (cost=0.71..26835.45 rows=1 width=16)</td>\n",
        "    </tr>\n",
        "    <tr>\n",
        "        <td>&nbsp;&nbsp;&nbsp;&nbsp;&nbsp;&nbsp;&nbsp;&nbsp;&nbsp;&nbsp;&nbsp;&nbsp;&nbsp;&nbsp;&nbsp;&nbsp;&nbsp;&nbsp;&nbsp;&nbsp;&nbsp;&nbsp;&nbsp;&nbsp;&nbsp;&nbsp;&nbsp;&nbsp;&nbsp;&nbsp;&nbsp;&nbsp;-&gt;  Subquery Scan on dimcmteproperties  (cost=0.42..26831.13 rows=1 width=8)</td>\n",
        "    </tr>\n",
        "    <tr>\n",
        "        <td>&nbsp;&nbsp;&nbsp;&nbsp;&nbsp;&nbsp;&nbsp;&nbsp;&nbsp;&nbsp;&nbsp;&nbsp;&nbsp;&nbsp;&nbsp;&nbsp;&nbsp;&nbsp;&nbsp;&nbsp;&nbsp;&nbsp;&nbsp;&nbsp;&nbsp;&nbsp;&nbsp;&nbsp;&nbsp;&nbsp;&nbsp;&nbsp;&nbsp;&nbsp;&nbsp;&nbsp;&nbsp;&nbsp;Filter: ((dimcmteproperties.top &gt;= 1) AND (dimcmteproperties.top &lt; 2) AND (dimcmteproperties.cmte_nm ~~* &#x27;%minnesotans%&#x27;::text))</td>\n",
        "    </tr>\n",
        "    <tr>\n",
        "        <td>&nbsp;&nbsp;&nbsp;&nbsp;&nbsp;&nbsp;&nbsp;&nbsp;&nbsp;&nbsp;&nbsp;&nbsp;&nbsp;&nbsp;&nbsp;&nbsp;&nbsp;&nbsp;&nbsp;&nbsp;&nbsp;&nbsp;&nbsp;&nbsp;&nbsp;&nbsp;&nbsp;&nbsp;&nbsp;&nbsp;&nbsp;&nbsp;&nbsp;&nbsp;&nbsp;&nbsp;&nbsp;&nbsp;-&gt;  WindowAgg  (cost=0.42..23764.15 rows=175256 width=61)</td>\n",
        "    </tr>\n",
        "    <tr>\n",
        "        <td>&nbsp;&nbsp;&nbsp;&nbsp;&nbsp;&nbsp;&nbsp;&nbsp;&nbsp;&nbsp;&nbsp;&nbsp;&nbsp;&nbsp;&nbsp;&nbsp;&nbsp;&nbsp;&nbsp;&nbsp;&nbsp;&nbsp;&nbsp;&nbsp;&nbsp;&nbsp;&nbsp;&nbsp;&nbsp;&nbsp;&nbsp;&nbsp;&nbsp;&nbsp;&nbsp;&nbsp;&nbsp;&nbsp;&nbsp;&nbsp;&nbsp;&nbsp;&nbsp;&nbsp;-&gt;  Index Scan using dimcmteproperties_cmte_sk_expire_date_cmteproperties_sk_idx on dimcmteproperties dimcmteproperties_2  (cost=0.42..20259.03 rows=175256 width=61)</td>\n",
        "    </tr>\n",
        "    <tr>\n",
        "        <td>&nbsp;&nbsp;&nbsp;&nbsp;&nbsp;&nbsp;&nbsp;&nbsp;&nbsp;&nbsp;&nbsp;&nbsp;&nbsp;&nbsp;&nbsp;&nbsp;&nbsp;&nbsp;&nbsp;&nbsp;&nbsp;&nbsp;&nbsp;&nbsp;&nbsp;&nbsp;&nbsp;&nbsp;&nbsp;&nbsp;&nbsp;&nbsp;-&gt;  Index Only Scan using dimcmte_pkey on dimcmte  (cost=0.29..4.31 rows=1 width=8)</td>\n",
        "    </tr>\n",
        "    <tr>\n",
        "        <td>&nbsp;&nbsp;&nbsp;&nbsp;&nbsp;&nbsp;&nbsp;&nbsp;&nbsp;&nbsp;&nbsp;&nbsp;&nbsp;&nbsp;&nbsp;&nbsp;&nbsp;&nbsp;&nbsp;&nbsp;&nbsp;&nbsp;&nbsp;&nbsp;&nbsp;&nbsp;&nbsp;&nbsp;&nbsp;&nbsp;&nbsp;&nbsp;&nbsp;&nbsp;&nbsp;&nbsp;&nbsp;&nbsp;Index Cond: (cmte_sk = dimcmteproperties.cmte_sk)</td>\n",
        "    </tr>\n",
        "    <tr>\n",
        "        <td>&nbsp;&nbsp;&nbsp;&nbsp;&nbsp;&nbsp;&nbsp;&nbsp;&nbsp;&nbsp;&nbsp;&nbsp;&nbsp;&nbsp;&nbsp;&nbsp;&nbsp;&nbsp;&nbsp;&nbsp;&nbsp;&nbsp;&nbsp;&nbsp;&nbsp;&nbsp;-&gt;  Index Only Scan using dimcmteproperties_cmte_sk_idx on dimcmteproperties dimcmteproperties_1  (cost=0.42..0.95 rows=5 width=8)</td>\n",
        "    </tr>\n",
        "    <tr>\n",
        "        <td>&nbsp;&nbsp;&nbsp;&nbsp;&nbsp;&nbsp;&nbsp;&nbsp;&nbsp;&nbsp;&nbsp;&nbsp;&nbsp;&nbsp;&nbsp;&nbsp;&nbsp;&nbsp;&nbsp;&nbsp;&nbsp;&nbsp;&nbsp;&nbsp;&nbsp;&nbsp;&nbsp;&nbsp;&nbsp;&nbsp;&nbsp;&nbsp;Index Cond: (cmte_sk = dimcmte.cmte_sk)</td>\n",
        "    </tr>\n",
        "</table>"
       ],
       "metadata": {},
       "output_type": "pyout",
       "prompt_number": 23,
       "text": [
        "[('Sort  (cost=28390.96..28390.96 rows=1 width=24)',),\n",
        " ('  Sort Key: dimcmte.cmte_sk, dimcmtetpdsgn.cmte_tpdgn_sk',),\n",
        " ('  ->  Hash Join  (cost=26836.43..28390.95 rows=1 width=24)',),\n",
        " ('        Hash Cond: (dimcmtetpdsgn.cmte_sk = dimcmte.cmte_sk)',),\n",
        " ('        ->  Seq Scan on dimcmtetpdsgn  (cost=0.00..1292.82 rows=69782 width=24)',),\n",
        " ('        ->  Hash  (cost=26836.42..26836.42 rows=1 width=8)',),\n",
        " ('              ->  Limit  (cost=1.13..26836.41 rows=1 width=8)',),\n",
        " ('                    ->  Nested Loop Semi Join  (cost=1.13..26836.41 rows=1 width=8)',),\n",
        " ('                          ->  Nested Loop  (cost=0.71..26835.45 rows=1 width=16)',),\n",
        " ('                                ->  Subquery Scan on dimcmteproperties  (cost=0.42..26831.13 rows=1 width=8)',),\n",
        " (\"                                      Filter: ((dimcmteproperties.top >= 1) AND (dimcmteproperties.top < 2) AND (dimcmteproperties.cmte_nm ~~* '%minnesotans%'::text))\",),\n",
        " ('                                      ->  WindowAgg  (cost=0.42..23764.15 rows=175256 width=61)',),\n",
        " ('                                            ->  Index Scan using dimcmteproperties_cmte_sk_expire_date_cmteproperties_sk_idx on dimcmteproperties dimcmteproperties_2  (cost=0.42..20259.03 rows=175256 width=61)',),\n",
        " ('                                ->  Index Only Scan using dimcmte_pkey on dimcmte  (cost=0.29..4.31 rows=1 width=8)',),\n",
        " ('                                      Index Cond: (cmte_sk = dimcmteproperties.cmte_sk)',),\n",
        " ('                          ->  Index Only Scan using dimcmteproperties_cmte_sk_idx on dimcmteproperties dimcmteproperties_1  (cost=0.42..0.95 rows=5 width=8)',),\n",
        " ('                                Index Cond: (cmte_sk = dimcmte.cmte_sk)',)]"
       ]
      }
     ],
     "prompt_number": 23
    },
    {
     "cell_type": "code",
     "collapsed": false,
     "input": [
      "%%sql {sqla_conn} \n",
      "INSERT INTO tuning_action (domain, new) VALUES ('ddl',\n",
      "                                                'indexes on several missing foreign keys');"
     ],
     "language": "python",
     "metadata": {},
     "outputs": [
      {
       "output_type": "stream",
       "stream": "stdout",
       "text": [
        "1 rows affected.\n"
       ]
      },
      {
       "metadata": {},
       "output_type": "pyout",
       "prompt_number": 4,
       "text": [
        "[]"
       ]
      }
     ],
     "prompt_number": 4
    },
    {
     "cell_type": "code",
     "collapsed": false,
     "input": [
      "run_tuning_tests(os.getenv('SQLA_CONN'), 4)"
     ],
     "language": "python",
     "metadata": {},
     "outputs": [
      {
       "output_type": "stream",
       "stream": "stdout",
       "text": [
        "<Response [200]>\n"
       ]
      },
      {
       "metadata": {},
       "output_type": "pyout",
       "prompt_number": 5,
       "text": [
        "<Response [200]>"
       ]
      }
     ],
     "prompt_number": 5
    },
    {
     "cell_type": "code",
     "collapsed": false,
     "input": [
      "%sql select * from tuning_test where requirement_id = 4"
     ],
     "language": "python",
     "metadata": {},
     "outputs": [
      {
       "output_type": "stream",
       "stream": "stdout",
       "text": [
        "6 rows affected.\n"
       ]
      },
      {
       "html": [
        "<table>\n",
        "    <tr>\n",
        "        <th>id</th>\n",
        "        <th>dt</th>\n",
        "        <th>requirement_id</th>\n",
        "        <th>initial</th>\n",
        "        <th>seconds</th>\n",
        "        <th>error_msg</th>\n",
        "    </tr>\n",
        "    <tr>\n",
        "        <td>2</td>\n",
        "        <td>2015-01-06 16:21:47.601774-05:00</td>\n",
        "        <td>4</td>\n",
        "        <td>True</td>\n",
        "        <td>3.153095363999455</td>\n",
        "        <td>NULL</td>\n",
        "    </tr>\n",
        "    <tr>\n",
        "        <td>4</td>\n",
        "        <td>2015-01-06 17:12:49.101990-05:00</td>\n",
        "        <td>4</td>\n",
        "        <td>False</td>\n",
        "        <td>3.13446509500136</td>\n",
        "        <td>NULL</td>\n",
        "    </tr>\n",
        "    <tr>\n",
        "        <td>13</td>\n",
        "        <td>2015-01-07 17:59:28.917512-05:00</td>\n",
        "        <td>4</td>\n",
        "        <td>False</td>\n",
        "        <td>3.7758687410005223</td>\n",
        "        <td>NULL</td>\n",
        "    </tr>\n",
        "    <tr>\n",
        "        <td>14</td>\n",
        "        <td>2015-01-07 23:16:09.187959-05:00</td>\n",
        "        <td>4</td>\n",
        "        <td>False</td>\n",
        "        <td>2.6797393359993293</td>\n",
        "        <td>NULL</td>\n",
        "    </tr>\n",
        "    <tr>\n",
        "        <td>16</td>\n",
        "        <td>2015-01-08 10:09:52.405733-05:00</td>\n",
        "        <td>4</td>\n",
        "        <td>False</td>\n",
        "        <td>2.3702770140007487</td>\n",
        "        <td>NULL</td>\n",
        "    </tr>\n",
        "    <tr>\n",
        "        <td>17</td>\n",
        "        <td>2015-01-08 11:21:18.796746-05:00</td>\n",
        "        <td>4</td>\n",
        "        <td>False</td>\n",
        "        <td>2.3935997230000794</td>\n",
        "        <td>NULL</td>\n",
        "    </tr>\n",
        "</table>"
       ],
       "metadata": {},
       "output_type": "pyout",
       "prompt_number": 6,
       "text": [
        "[(2, datetime.datetime(2015, 1, 6, 16, 21, 47, 601774, tzinfo=psycopg2.tz.FixedOffsetTimezone(offset=-300, name=None)), 4, True, Decimal('3.153095363999455'), 'NULL'),\n",
        " (4, datetime.datetime(2015, 1, 6, 17, 12, 49, 101990, tzinfo=psycopg2.tz.FixedOffsetTimezone(offset=-300, name=None)), 4, False, Decimal('3.13446509500136'), 'NULL'),\n",
        " (13, datetime.datetime(2015, 1, 7, 17, 59, 28, 917512, tzinfo=psycopg2.tz.FixedOffsetTimezone(offset=-300, name=None)), 4, False, Decimal('3.7758687410005223'), 'NULL'),\n",
        " (14, datetime.datetime(2015, 1, 7, 23, 16, 9, 187959, tzinfo=psycopg2.tz.FixedOffsetTimezone(offset=-300, name=None)), 4, False, Decimal('2.6797393359993293'), 'NULL'),\n",
        " (16, datetime.datetime(2015, 1, 8, 10, 9, 52, 405733, tzinfo=psycopg2.tz.FixedOffsetTimezone(offset=-300, name=None)), 4, False, Decimal('2.3702770140007487'), 'NULL'),\n",
        " (17, datetime.datetime(2015, 1, 8, 11, 21, 18, 796746, tzinfo=psycopg2.tz.FixedOffsetTimezone(offset=-300, name=None)), 4, False, Decimal('2.3935997230000794'), 'NULL')]"
       ]
      }
     ],
     "prompt_number": 6
    },
    {
     "cell_type": "code",
     "collapsed": false,
     "input": [
      "print (cmte_selects[3])"
     ],
     "language": "python",
     "metadata": {},
     "outputs": [
      {
       "output_type": "stream",
       "stream": "stdout",
       "text": [
        "SELECT \"dimcmtetpdsgn\".\"expire_date\",\n",
        "       \"dimcmte\".\"cmte_sk\"\n",
        "FROM (SELECT \"dimcmte\".\"cmte_sk\"\n",
        "      FROM \"dimcmte\"\n",
        "           LEFT OUTER JOIN (SELECT \"dimcmteproperties\".\"cmte_nm\",\n",
        "                                   \"dimcmteproperties\".\"cmte_sk\"\n",
        "                            FROM (SELECT \"dimcmteproperties\".\"cmte_nm\",\n",
        "                                         \"dimcmteproperties\".\"cmte_sk\",\n",
        "                                         ROW_NUMBER() OVER (PARTITION BY \"dimcmteproperties\".\"cmte_sk\" ORDER BY \"dimcmteproperties\".\"expire_date\" DESC NULLS LAST, \"dimcmteproperties\".\"cmteproperties_sk\" ASC) AS \"top\"\n",
        "                                  FROM \"dimcmteproperties\") AS \"dimcmteproperties\"\n",
        "                            WHERE (\"dimcmteproperties\".\"top\" >= 1)\n",
        "                                  AND (\"dimcmteproperties\".\"top\" < 2)) AS \"dimcmteproperties\"\n",
        "                           ON (\"dimcmte\".\"cmte_sk\" = \"dimcmteproperties\".\"cmte_sk\")\n",
        "      WHERE (\"dimcmteproperties\".\"cmte_nm\" ILIKE '%minnesotans%')\n",
        "            AND EXISTS(SELECT TRUE\n",
        "                       FROM \"dimcmteproperties\" AS \"dimcmteproperties_1\"\n",
        "                       WHERE (\"dimcmte\".\"cmte_sk\" = \"dimcmteproperties_1\".\"cmte_sk\"))\n",
        "      ORDER BY 1 ASC\n",
        "      LIMIT 20\n",
        "      OFFSET 0) AS \"dimcmte\"\n",
        "     INNER JOIN \"dimcmtetpdsgn\"\n",
        "                ON (\"dimcmte\".\"cmte_sk\" = \"dimcmtetpdsgn\".\"cmte_sk\")\n",
        "ORDER BY 2 ASC, \"dimcmtetpdsgn\".\"cmte_tpdgn_sk\" ASC\n",
        "\n"
       ]
      }
     ],
     "prompt_number": 14
    },
    {
     "cell_type": "code",
     "collapsed": false,
     "input": [
      "%sql {prod} EXPLAIN {cmte_selects[3]}"
     ],
     "language": "python",
     "metadata": {},
     "outputs": [
      {
       "output_type": "stream",
       "stream": "stdout",
       "text": [
        "16 rows affected.\n"
       ]
      },
      {
       "html": [
        "<table>\n",
        "    <tr>\n",
        "        <th>QUERY PLAN</th>\n",
        "    </tr>\n",
        "    <tr>\n",
        "        <td>Sort  (cost=26844.75..26844.76 rows=1 width=24)</td>\n",
        "    </tr>\n",
        "    <tr>\n",
        "        <td>&nbsp;&nbsp;Sort Key: dimcmte.cmte_sk, dimcmtetpdsgn.cmte_tpdgn_sk</td>\n",
        "    </tr>\n",
        "    <tr>\n",
        "        <td>&nbsp;&nbsp;-&gt;  Nested Loop  (cost=1.42..26844.74 rows=1 width=24)</td>\n",
        "    </tr>\n",
        "    <tr>\n",
        "        <td>&nbsp;&nbsp;&nbsp;&nbsp;&nbsp;&nbsp;&nbsp;&nbsp;-&gt;  Limit  (cost=1.13..26836.41 rows=1 width=8)</td>\n",
        "    </tr>\n",
        "    <tr>\n",
        "        <td>&nbsp;&nbsp;&nbsp;&nbsp;&nbsp;&nbsp;&nbsp;&nbsp;&nbsp;&nbsp;&nbsp;&nbsp;&nbsp;&nbsp;-&gt;  Nested Loop Semi Join  (cost=1.13..26836.41 rows=1 width=8)</td>\n",
        "    </tr>\n",
        "    <tr>\n",
        "        <td>&nbsp;&nbsp;&nbsp;&nbsp;&nbsp;&nbsp;&nbsp;&nbsp;&nbsp;&nbsp;&nbsp;&nbsp;&nbsp;&nbsp;&nbsp;&nbsp;&nbsp;&nbsp;&nbsp;&nbsp;-&gt;  Nested Loop  (cost=0.71..26835.45 rows=1 width=16)</td>\n",
        "    </tr>\n",
        "    <tr>\n",
        "        <td>&nbsp;&nbsp;&nbsp;&nbsp;&nbsp;&nbsp;&nbsp;&nbsp;&nbsp;&nbsp;&nbsp;&nbsp;&nbsp;&nbsp;&nbsp;&nbsp;&nbsp;&nbsp;&nbsp;&nbsp;&nbsp;&nbsp;&nbsp;&nbsp;&nbsp;&nbsp;-&gt;  Subquery Scan on dimcmteproperties  (cost=0.42..26831.13 rows=1 width=8)</td>\n",
        "    </tr>\n",
        "    <tr>\n",
        "        <td>&nbsp;&nbsp;&nbsp;&nbsp;&nbsp;&nbsp;&nbsp;&nbsp;&nbsp;&nbsp;&nbsp;&nbsp;&nbsp;&nbsp;&nbsp;&nbsp;&nbsp;&nbsp;&nbsp;&nbsp;&nbsp;&nbsp;&nbsp;&nbsp;&nbsp;&nbsp;&nbsp;&nbsp;&nbsp;&nbsp;&nbsp;&nbsp;Filter: ((dimcmteproperties.top &gt;= 1) AND (dimcmteproperties.top &lt; 2) AND (dimcmteproperties.cmte_nm ~~* &#x27;%minnesotans%&#x27;::text))</td>\n",
        "    </tr>\n",
        "    <tr>\n",
        "        <td>&nbsp;&nbsp;&nbsp;&nbsp;&nbsp;&nbsp;&nbsp;&nbsp;&nbsp;&nbsp;&nbsp;&nbsp;&nbsp;&nbsp;&nbsp;&nbsp;&nbsp;&nbsp;&nbsp;&nbsp;&nbsp;&nbsp;&nbsp;&nbsp;&nbsp;&nbsp;&nbsp;&nbsp;&nbsp;&nbsp;&nbsp;&nbsp;-&gt;  WindowAgg  (cost=0.42..23764.15 rows=175256 width=61)</td>\n",
        "    </tr>\n",
        "    <tr>\n",
        "        <td>&nbsp;&nbsp;&nbsp;&nbsp;&nbsp;&nbsp;&nbsp;&nbsp;&nbsp;&nbsp;&nbsp;&nbsp;&nbsp;&nbsp;&nbsp;&nbsp;&nbsp;&nbsp;&nbsp;&nbsp;&nbsp;&nbsp;&nbsp;&nbsp;&nbsp;&nbsp;&nbsp;&nbsp;&nbsp;&nbsp;&nbsp;&nbsp;&nbsp;&nbsp;&nbsp;&nbsp;&nbsp;&nbsp;-&gt;  Index Scan using dimcmteproperties_cmte_sk_expire_date_cmteproperties_sk_idx on dimcmteproperties dimcmteproperties_2  (cost=0.42..20259.03 rows=175256 width=61)</td>\n",
        "    </tr>\n",
        "    <tr>\n",
        "        <td>&nbsp;&nbsp;&nbsp;&nbsp;&nbsp;&nbsp;&nbsp;&nbsp;&nbsp;&nbsp;&nbsp;&nbsp;&nbsp;&nbsp;&nbsp;&nbsp;&nbsp;&nbsp;&nbsp;&nbsp;&nbsp;&nbsp;&nbsp;&nbsp;&nbsp;&nbsp;-&gt;  Index Only Scan using dimcmte_pkey on dimcmte  (cost=0.29..4.31 rows=1 width=8)</td>\n",
        "    </tr>\n",
        "    <tr>\n",
        "        <td>&nbsp;&nbsp;&nbsp;&nbsp;&nbsp;&nbsp;&nbsp;&nbsp;&nbsp;&nbsp;&nbsp;&nbsp;&nbsp;&nbsp;&nbsp;&nbsp;&nbsp;&nbsp;&nbsp;&nbsp;&nbsp;&nbsp;&nbsp;&nbsp;&nbsp;&nbsp;&nbsp;&nbsp;&nbsp;&nbsp;&nbsp;&nbsp;Index Cond: (cmte_sk = dimcmteproperties.cmte_sk)</td>\n",
        "    </tr>\n",
        "    <tr>\n",
        "        <td>&nbsp;&nbsp;&nbsp;&nbsp;&nbsp;&nbsp;&nbsp;&nbsp;&nbsp;&nbsp;&nbsp;&nbsp;&nbsp;&nbsp;&nbsp;&nbsp;&nbsp;&nbsp;&nbsp;&nbsp;-&gt;  Index Only Scan using dimcmteproperties_cmte_sk_idx on dimcmteproperties dimcmteproperties_1  (cost=0.42..0.95 rows=5 width=8)</td>\n",
        "    </tr>\n",
        "    <tr>\n",
        "        <td>&nbsp;&nbsp;&nbsp;&nbsp;&nbsp;&nbsp;&nbsp;&nbsp;&nbsp;&nbsp;&nbsp;&nbsp;&nbsp;&nbsp;&nbsp;&nbsp;&nbsp;&nbsp;&nbsp;&nbsp;&nbsp;&nbsp;&nbsp;&nbsp;&nbsp;&nbsp;Index Cond: (cmte_sk = dimcmte.cmte_sk)</td>\n",
        "    </tr>\n",
        "    <tr>\n",
        "        <td>&nbsp;&nbsp;&nbsp;&nbsp;&nbsp;&nbsp;&nbsp;&nbsp;-&gt;  Index Scan using dimcmtetpdsgn_cmte_sk_idx on dimcmtetpdsgn  (cost=0.29..8.31 rows=1 width=24)</td>\n",
        "    </tr>\n",
        "    <tr>\n",
        "        <td>&nbsp;&nbsp;&nbsp;&nbsp;&nbsp;&nbsp;&nbsp;&nbsp;&nbsp;&nbsp;&nbsp;&nbsp;&nbsp;&nbsp;Index Cond: (cmte_sk = dimcmte.cmte_sk)</td>\n",
        "    </tr>\n",
        "</table>"
       ],
       "metadata": {},
       "output_type": "pyout",
       "prompt_number": 13,
       "text": [
        "[('Sort  (cost=26844.75..26844.76 rows=1 width=24)',),\n",
        " ('  Sort Key: dimcmte.cmte_sk, dimcmtetpdsgn.cmte_tpdgn_sk',),\n",
        " ('  ->  Nested Loop  (cost=1.42..26844.74 rows=1 width=24)',),\n",
        " ('        ->  Limit  (cost=1.13..26836.41 rows=1 width=8)',),\n",
        " ('              ->  Nested Loop Semi Join  (cost=1.13..26836.41 rows=1 width=8)',),\n",
        " ('                    ->  Nested Loop  (cost=0.71..26835.45 rows=1 width=16)',),\n",
        " ('                          ->  Subquery Scan on dimcmteproperties  (cost=0.42..26831.13 rows=1 width=8)',),\n",
        " (\"                                Filter: ((dimcmteproperties.top >= 1) AND (dimcmteproperties.top < 2) AND (dimcmteproperties.cmte_nm ~~* '%minnesotans%'::text))\",),\n",
        " ('                                ->  WindowAgg  (cost=0.42..23764.15 rows=175256 width=61)',),\n",
        " ('                                      ->  Index Scan using dimcmteproperties_cmte_sk_expire_date_cmteproperties_sk_idx on dimcmteproperties dimcmteproperties_2  (cost=0.42..20259.03 rows=175256 width=61)',),\n",
        " ('                          ->  Index Only Scan using dimcmte_pkey on dimcmte  (cost=0.29..4.31 rows=1 width=8)',),\n",
        " ('                                Index Cond: (cmte_sk = dimcmteproperties.cmte_sk)',),\n",
        " ('                    ->  Index Only Scan using dimcmteproperties_cmte_sk_idx on dimcmteproperties dimcmteproperties_1  (cost=0.42..0.95 rows=5 width=8)',),\n",
        " ('                          Index Cond: (cmte_sk = dimcmte.cmte_sk)',),\n",
        " ('        ->  Index Scan using dimcmtetpdsgn_cmte_sk_idx on dimcmtetpdsgn  (cost=0.29..8.31 rows=1 width=24)',),\n",
        " ('              Index Cond: (cmte_sk = dimcmte.cmte_sk)',)]"
       ]
      }
     ],
     "prompt_number": 13
    },
    {
     "cell_type": "markdown",
     "metadata": {},
     "source": [
      "Modest improvement.  Nowhere near the goal!"
     ]
    },
    {
     "cell_type": "markdown",
     "metadata": {},
     "source": [
      "Oh my - we have foreign keys without an index defined on the child side!"
     ]
    },
    {
     "cell_type": "markdown",
     "metadata": {},
     "source": [
      "far-fetched:\n",
      "- set up materialized views\n",
      "- full-text search for committee name & pl/sql function to access it & htsql to see function"
     ]
    },
    {
     "cell_type": "code",
     "collapsed": false,
     "input": [
      "%sql {sqla_conn} select * from tuning_requriments"
     ],
     "language": "python",
     "metadata": {},
     "outputs": [
      {
       "output_type": "stream",
       "stream": "stdout",
       "text": [
        "(ProgrammingError) relation \"tuning_requriments\" does not exist\n",
        "LINE 1: select * from tuning_requriments\n",
        "                      ^\n",
        " 'select * from tuning_requriments' {}\n"
       ]
      }
     ],
     "prompt_number": 17
    },
    {
     "cell_type": "code",
     "collapsed": false,
     "input": [],
     "language": "python",
     "metadata": {},
     "outputs": []
    }
   ],
   "metadata": {}
  }
 ]
}