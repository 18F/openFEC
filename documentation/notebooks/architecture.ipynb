{
 "metadata": {
  "name": "",
  "signature": "sha256:4a9ba1a40b59511c0d1b1d7cd3baaa9a4b4eab6754c479480fd8a27a76d940db"
 },
 "nbformat": 3,
 "nbformat_minor": 0,
 "worksheets": [
  {
   "cells": [
    {
     "cell_type": "heading",
     "level": 1,
     "metadata": {},
     "source": [
      "Meta"
     ]
    },
    {
     "cell_type": "markdown",
     "metadata": {},
     "source": [
      "This notebook depends on environment variables defined in `set_env_vars.real.sh`.  See [Getting Started with OpenFEC](https://docs.google.com/a/gsa.gov/document/d/1jJ7ZyixdBuQEAX_GwgVZHrX7z-6QH5tjSgoXqjOO8Zg/edit)"
     ]
    },
    {
     "cell_type": "heading",
     "level": 1,
     "metadata": {},
     "source": [
      "Machines"
     ]
    },
    {
     "cell_type": "markdown",
     "metadata": {},
     "source": [
      "![openFEC architecture](openFEC-architecture.svg)"
     ]
    },
    {
     "cell_type": "heading",
     "level": 2,
     "metadata": {},
     "source": [
      "FEC Data Warehouse"
     ]
    },
    {
     "cell_type": "markdown",
     "metadata": {},
     "source": [
      "Not part of our architecture, per se, but the original source of our data, FEC maintains an Oracle-based data warehouse called CFDM (Campaign Finance Data Mart).  It is not available from the public internet; instead, it is accessed from the Data Gateway machine (below)."
     ]
    },
    {
     "cell_type": "code",
     "collapsed": false,
     "input": [
      "!echo $ORACLE_SERVER_IP"
     ],
     "language": "python",
     "metadata": {},
     "outputs": []
    },
    {
     "cell_type": "heading",
     "level": 2,
     "metadata": {},
     "source": [
      "Data Gateway"
     ]
    },
    {
     "cell_type": "markdown",
     "metadata": {},
     "source": [
      "Hosts a simple PostgreSQL database instance whose only purpose is to run the scripts that transfer data from FEC's data warehouse to 18F's copy.  The database contains no production data directly, just Foreign Data Wrapper (FDW) table definitions - those to FEC's CFDM in the `frn` schema, those to 18F's copy in the `public` schema."
     ]
    },
    {
     "cell_type": "markdown",
     "metadata": {},
     "source": [
      "The data gateway machine is located in a VPN (so that it can access FEC's warehouse machine) and has no external IP address.  From the bridge machine (see below), it is `$FDW_HOST`:"
     ]
    },
    {
     "cell_type": "code",
     "collapsed": false,
     "input": [
      "!echo $FDW_HOST"
     ],
     "language": "python",
     "metadata": {},
     "outputs": []
    },
    {
     "cell_type": "heading",
     "level": 2,
     "metadata": {},
     "source": [
      "Bridge Machine"
     ]
    },
    {
     "cell_type": "markdown",
     "metadata": {},
     "source": [
      "The Data Gateway cannot be accessed directly from the public internet.  This machine can; it exists to allow us to access the Data Gateway from the public internet.  `ssh` to the Bridge Machine, then from there to the Data Gateway.  `/home/ec2-user/scripts/todbserver.sh` on the Bridge Machine logs onto the Data Gateway."
     ]
    },
    {
     "cell_type": "code",
     "collapsed": false,
     "input": [
      "!echo $BRIDGE_HOST"
     ],
     "language": "python",
     "metadata": {},
     "outputs": []
    },
    {
     "cell_type": "heading",
     "level": 2,
     "metadata": {},
     "source": [
      "RDS Instance"
     ]
    },
    {
     "cell_type": "markdown",
     "metadata": {},
     "source": [
      "All 18F's actual work with the data is against a copy hosted on Amazon's RDS service.  RDS instances aren't full-fledged machines, they're databases cloud-hosted by Amazon."
     ]
    },
    {
     "cell_type": "code",
     "collapsed": false,
     "input": [
      "!echo $RDS_HOST"
     ],
     "language": "python",
     "metadata": {},
     "outputs": []
    },
    {
     "cell_type": "heading",
     "level": 2,
     "metadata": {},
     "source": [
      "Webservices host"
     ]
    },
    {
     "cell_type": "markdown",
     "metadata": {},
     "source": [
      "Web services accessing the RDS instance are hosted on this EC2 micro instance.  The services include\n",
      "\n",
      "- A REST service written in Flask (openFEC/webservices/rest.py), accessible at https://fec.18f.us/rest/\n",
      "- An HTSQL service exposing the RDS data: https://fec.18f.us/htsql/\n",
      "- Our web app, https://fec.18f.us/\n",
      "\n",
      "An nginx server exposes the services.  "
     ]
    },
    {
     "cell_type": "code",
     "collapsed": false,
     "input": [
      "!echo $WEBSERVICES_HOST"
     ],
     "language": "python",
     "metadata": {},
     "outputs": []
    },
    {
     "cell_type": "heading",
     "level": 1,
     "metadata": {},
     "source": [
      "Connections"
     ]
    },
    {
     "cell_type": "heading",
     "level": 2,
     "metadata": {},
     "source": [
      "FEC to Data Gateway tunnel"
     ]
    },
    {
     "cell_type": "markdown",
     "metadata": {},
     "source": [
      "The data gateway's ability to access the FEC's database machine depends on a tunnel that will close off if it is not kept open from FEC's end.  FEC has set up a cron job to ping the data gateway at regular intervals.  If the connection breaks, contact FEC to reopen it (and troubleshoot)."
     ]
    },
    {
     "cell_type": "markdown",
     "metadata": {},
     "source": [
      "If the tunnel is healthy, the following command should query a dummy value \"X\" from the DUAL pseudo-table in FEC's Oracle instance."
     ]
    },
    {
     "cell_type": "code",
     "collapsed": false,
     "input": [
      "!ssh ec2-user@$BRIDGE_HOST \"ssh -i peered.pem ec2-user@$FDW_HOST \\\" ./oraping.sh  \\\"\""
     ],
     "language": "python",
     "metadata": {},
     "outputs": []
    },
    {
     "cell_type": "heading",
     "level": 2,
     "metadata": {},
     "source": [
      "Data Gateway to FEC"
     ]
    },
    {
     "cell_type": "markdown",
     "metadata": {},
     "source": [
      "Port 1521 (the standard SQL\\*Net port) on FEC's warehouse machine is open, and we've been given an account (`READONLY`) with read-only access to the CFDM and PROCESSED schemas in the production instance.  From a machine with network access, we can connect with"
     ]
    },
    {
     "cell_type": "code",
     "collapsed": false,
     "input": [
      "!echo \"sqlplus READONLY/$ORACLE_PASSWORD@$ORACLE_SERVER_IP/$ORACLE_INSTANCE_NAME\""
     ],
     "language": "python",
     "metadata": {},
     "outputs": []
    },
    {
     "cell_type": "heading",
     "level": 2,
     "metadata": {},
     "source": [
      "Bridge to Data Gateway"
     ]
    },
    {
     "cell_type": "markdown",
     "metadata": {},
     "source": [
      "The \"bridge machine\" is the only 18F machine that can access the Data Gateway.\n",
      "\n",
      "To login to the bridge machine from any other machine,"
     ]
    },
    {
     "cell_type": "code",
     "collapsed": false,
     "input": [
      "!echo \"ssh ec2-user@$BRIDGE_HOST\""
     ],
     "language": "python",
     "metadata": {},
     "outputs": []
    },
    {
     "cell_type": "markdown",
     "metadata": {},
     "source": [
      "Once on the bridge machine, `scripts/todbserver.sh` can be used to ssh to the Data Gateway."
     ]
    },
    {
     "cell_type": "heading",
     "level": 1,
     "metadata": {},
     "source": [
      "Services"
     ]
    },
    {
     "cell_type": "code",
     "collapsed": false,
     "input": [],
     "language": "python",
     "metadata": {},
     "outputs": []
    }
   ],
   "metadata": {}
  }
 ]
}