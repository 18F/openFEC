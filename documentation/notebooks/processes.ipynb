{
 "metadata": {
  "name": "",
  "signature": "sha256:33a52d384101914bb97e4a9512e6f721608766832e249a938f765f0f3c899689"
 },
 "nbformat": 3,
 "nbformat_minor": 0,
 "worksheets": [
  {
   "cells": [
    {
     "cell_type": "heading",
     "level": 1,
     "metadata": {},
     "source": [
      "Meta"
     ]
    },
    {
     "cell_type": "markdown",
     "metadata": {},
     "source": [
      "This notebook depends on environment variables defined in `set_env_vars.real.sh`.  See [Getting Started with OpenFEC](https://docs.google.com/a/gsa.gov/document/d/1jJ7ZyixdBuQEAX_GwgVZHrX7z-6QH5tjSgoXqjOO8Zg/edit)"
     ]
    },
    {
     "cell_type": "heading",
     "level": 2,
     "metadata": {},
     "source": [
      "Setup for queries"
     ]
    },
    {
     "cell_type": "code",
     "collapsed": false,
     "input": [
      "%load_ext sql"
     ],
     "language": "python",
     "metadata": {},
     "outputs": []
    },
    {
     "cell_type": "code",
     "collapsed": false,
     "input": [
      "import os; sqla_conn = os.getenv('SQLA_CONN'); print (sqla_conn)"
     ],
     "language": "python",
     "metadata": {},
     "outputs": []
    },
    {
     "cell_type": "heading",
     "level": 1,
     "metadata": {},
     "source": [
      "Processes"
     ]
    },
    {
     "cell_type": "heading",
     "level": 2,
     "metadata": {},
     "source": [
      "Initial data population"
     ]
    },
    {
     "cell_type": "markdown",
     "metadata": {},
     "source": [
      "1. openFEC/data/ddl/in_rds_ddl.sql creates tables in 18F's AWS instance.\n",
      "\n",
      "2. On the data gateway machine, openFEC/data/ddl/to_rds_ddl and openFEC/data/ddl/to_oracle_ddl.sql set up the foreign tables that let it connect to both the FEC origin and the AWS destination.\n",
      "\n",
      "3. On the data gateway machine, run openFEC/data/synch/bulk_push_from_oracle.sql to transfer (most) rows from FEC to AWS (a couple hours)\n",
      "\n",
      "4. On the data gateway machine, run openFEC/data/synch/push_in_chunks.py to transfer rows from the largest tables, `sched_a` and `sched_b` (one day or more)\n",
      "\n",
      "5. Against the AWS instance, run openFEC/data/ddl/fulltext.sql to update the full-text indexes\n"
     ]
    },
    {
     "cell_type": "heading",
     "level": 2,
     "metadata": {},
     "source": [
      "Complete data repopulation"
     ]
    },
    {
     "cell_type": "markdown",
     "metadata": {},
     "source": [
      "From the bridge machine, populating a fresh schema with all-new data can be done with the `public` and `processed` schemas in `cfdm`.  To access existing production data, use `live` and `processed_live`.\n",
      "\n",
      "In RDS\n",
      "\n",
      "    drop schema newdownload cascade;\n",
      "    create schema newdownload;\n",
      "    set search_path=newdownload;\n",
      "    \\f in_rds_ddl.sql\n",
      "    drop schema processed_newdownload cascade;\n",
      "    create schema processed_newdownload;\n",
      "    set search_path=processed_newdownload;\n",
      "    \\f processed_schema.in_rds.sql\n",
      "    \n",
      "on bridge machine\n",
      "\n",
      "    bin/set_env_vars.real.sh\n",
      "    cd ddl\n",
      "    ./psql_w_vars.sh cfdm\n",
      "    \\i to_rds_ddl.sql\n",
      "    \\i to_rds_ddl.live.sql\n",
      "    \\i processed_schema.to_rds.sql\n",
      "    \\i processed_schema.to_rds.live.sql    \n",
      "    cd ../synch\n",
      "    psql -f bulk_push_from_oracle.sql cfdm\n",
      "    psql -f bulk_push_from_oracle.sql cfdm\n",
      "    \n",
      "    \n"
     ]
    },
    {
     "cell_type": "heading",
     "level": 2,
     "metadata": {},
     "source": [
      "Data update"
     ]
    },
    {
     "cell_type": "markdown",
     "metadata": {},
     "source": [
      "1. CFDM on FEC's data warehouse machine is updated by a complex set of scripts maintained by FEC and run on the following schedule: ???\n",
      "\n"
     ]
    },
    {
     "cell_type": "heading",
     "level": 3,
     "metadata": {},
     "source": [
      "Notes"
     ]
    },
    {
     "cell_type": "markdown",
     "metadata": {},
     "source": [
      "- As of Dec 2014 data update is not yet being run regularly.  FEC may not be refreshing their side yet in any case.  Ticket https://github.com/18F/openFEC/issues/5 will address this.\n",
      "- When FEC alters their data model, all primary keys (`%_FK`) are discarded and replaced!  This will require a total repeat of our \"Initial data population\" step."
     ]
    },
    {
     "cell_type": "heading",
     "level": 3,
     "metadata": {},
     "source": [
      "Data freshness check"
     ]
    },
    {
     "cell_type": "heading",
     "level": 4,
     "metadata": {},
     "source": [
      "Latest row stored in 18F's database:"
     ]
    },
    {
     "cell_type": "code",
     "collapsed": false,
     "input": [
      "%sql {sqla_conn} SELECT MAX(load_date) FROM dimcmteproperties"
     ],
     "language": "python",
     "metadata": {},
     "outputs": []
    },
    {
     "cell_type": "heading",
     "level": 4,
     "metadata": {},
     "source": [
      "Latest row in FEC's CFDM data warehouse:"
     ]
    },
    {
     "cell_type": "code",
     "collapsed": false,
     "input": [
      "!ssh ec2-user@$BRIDGE_HOST \"ssh -i peered.pem ec2-user@$FDW_HOST \\\" ./ora_latest_row.sh  \\\"\""
     ],
     "language": "python",
     "metadata": {},
     "outputs": []
    },
    {
     "cell_type": "code",
     "collapsed": false,
     "input": [],
     "language": "python",
     "metadata": {},
     "outputs": []
    }
   ],
   "metadata": {}
  }
 ]
}