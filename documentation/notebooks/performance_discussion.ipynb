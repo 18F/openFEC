{
 "metadata": {
  "name": "",
  "signature": "sha256:5b52f7136ee5befb5456d30620ebf49e268aee7ca858bb77dfd7b36c003c1433"
 },
 "nbformat": 3,
 "nbformat_minor": 0,
 "worksheets": [
  {
   "cells": [
    {
     "cell_type": "heading",
     "level": 1,
     "metadata": {},
     "source": [
      "Meta"
     ]
    },
    {
     "cell_type": "code",
     "collapsed": false,
     "input": [
      "This notebook depends on environment variables defined in `set_env_vars.real.sh`.  See [Getting Started with OpenFEC](https://docs.google.com/a/gsa.gov/document/d/1jJ7ZyixdBuQEAX_GwgVZHrX7z-6QH5tjSgoXqjOO8Zg/edit)"
     ],
     "language": "python",
     "metadata": {},
     "outputs": []
    },
    {
     "cell_type": "heading",
     "level": 1,
     "metadata": {},
     "source": [
      "Overall speed"
     ]
    },
    {
     "cell_type": "code",
     "collapsed": false,
     "input": [
      "import requests\n",
      "import os\n",
      "auth = requests.auth.HTTPBasicAuth(os.getenv('NGINX_USERNAME'), os.getenv('NGINX_PASSWORD'))"
     ],
     "language": "python",
     "metadata": {},
     "outputs": []
    },
    {
     "cell_type": "code",
     "collapsed": false,
     "input": [
      "%time result = requests.get(\"https://fec.18f.us\", auth=auth)"
     ],
     "language": "python",
     "metadata": {},
     "outputs": []
    },
    {
     "cell_type": "code",
     "collapsed": false,
     "input": [
      "(result.status_code == 200) and ('official website of the United States Government' in str(result.content))"
     ],
     "language": "python",
     "metadata": {},
     "outputs": []
    },
    {
     "cell_type": "code",
     "collapsed": false,
     "input": [
      "%time result = requests.get(\"https://fec.18f.us/rest/candidate?q=obama\", auth=auth)"
     ],
     "language": "python",
     "metadata": {},
     "outputs": []
    },
    {
     "cell_type": "code",
     "collapsed": false,
     "input": [
      "'BARACK' in result.content.decode('utf8')"
     ],
     "language": "python",
     "metadata": {},
     "outputs": []
    },
    {
     "cell_type": "code",
     "collapsed": false,
     "input": [
      "%time result = requests.get(\"https://fec.18f.us/rest/candidate?year=1988&fields=*\", auth=auth)"
     ],
     "language": "python",
     "metadata": {},
     "outputs": []
    },
    {
     "cell_type": "code",
     "collapsed": false,
     "input": [
      "(result.status_code == 200) and ('Republican Party' in str(result.content))"
     ],
     "language": "python",
     "metadata": {},
     "outputs": []
    },
    {
     "cell_type": "code",
     "collapsed": false,
     "input": [
      "%time result = requests.get(\"https://fec.18f.us/rest/committee?type=P\", auth=auth)"
     ],
     "language": "python",
     "metadata": {},
     "outputs": []
    },
    {
     "cell_type": "code",
     "collapsed": false,
     "input": [
      "'Principal campaign committee' in result.content.decode('utf8')"
     ],
     "language": "python",
     "metadata": {},
     "outputs": []
    },
    {
     "cell_type": "heading",
     "level": 2,
     "metadata": {},
     "source": [
      "Database performance"
     ]
    },
    {
     "cell_type": "code",
     "collapsed": false,
     "input": [],
     "language": "python",
     "metadata": {},
     "outputs": []
    }
   ],
   "metadata": {}
  }
 ]
}