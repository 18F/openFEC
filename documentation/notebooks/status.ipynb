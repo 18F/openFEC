{
 "metadata": {
  "name": "",
  "signature": "sha256:79d96ab41a3ced7c2ded47fc9064f8ac3c7b89f3d478425b9b9272c20a2e09bd"
 },
 "nbformat": 3,
 "nbformat_minor": 0,
 "worksheets": [
  {
   "cells": [
    {
     "cell_type": "heading",
     "level": 1,
     "metadata": {},
     "source": [
      "Meta"
     ]
    },
    {
     "cell_type": "code",
     "collapsed": false,
     "input": [
      "This notebook depends on environment variables defined in `set_env_vars.real.sh`.  See [Getting Started with OpenFEC](https://docs.google.com/a/gsa.gov/document/d/1jJ7ZyixdBuQEAX_GwgVZHrX7z-6QH5tjSgoXqjOO8Zg/edit)"
     ],
     "language": "python",
     "metadata": {},
     "outputs": []
    },
    {
     "cell_type": "heading",
     "level": 1,
     "metadata": {},
     "source": [
      "Status"
     ]
    },
    {
     "cell_type": "markdown",
     "metadata": {},
     "source": [
      "Listed from highest-level to lowest-level; if a higher-level service works, it's safe to assume that the lower-level services are also working."
     ]
    },
    {
     "cell_type": "heading",
     "level": 2,
     "metadata": {},
     "source": [
      "API server"
     ]
    },
    {
     "cell_type": "code",
     "collapsed": false,
     "input": [
      "import requests\n",
      "import os\n",
      "auth = requests.auth.HTTPBasicAuth(os.getenv('NGINX_USERNAME'), os.getenv('NGINX_PASSWORD'))"
     ],
     "language": "python",
     "metadata": {},
     "outputs": []
    },
    {
     "cell_type": "code",
     "collapsed": false,
     "input": [
      "result = requests.get(\"https://fec.18f.us\", auth=auth)"
     ],
     "language": "python",
     "metadata": {},
     "outputs": []
    },
    {
     "cell_type": "code",
     "collapsed": false,
     "input": [
      "(result.status_code == 200) and ('official website of the United States Government' in str(result.content))"
     ],
     "language": "python",
     "metadata": {},
     "outputs": []
    },
    {
     "cell_type": "heading",
     "level": 2,
     "metadata": {},
     "source": [
      "RESTful web service"
     ]
    },
    {
     "cell_type": "code",
     "collapsed": false,
     "input": [
      "import json"
     ],
     "language": "python",
     "metadata": {},
     "outputs": []
    },
    {
     "cell_type": "code",
     "collapsed": false,
     "input": [
      "result = requests.get(\"https://fec.18f.us/rest?candidate=obama\", auth=auth)"
     ],
     "language": "python",
     "metadata": {},
     "outputs": []
    },
    {
     "cell_type": "code",
     "collapsed": false,
     "input": [
      "result.status_code == 200"
     ],
     "language": "python",
     "metadata": {},
     "outputs": []
    },
    {
     "cell_type": "code",
     "collapsed": false,
     "input": [
      "data = json.loads(result.content.decode('utf8'))"
     ],
     "language": "python",
     "metadata": {},
     "outputs": []
    },
    {
     "cell_type": "code",
     "collapsed": false,
     "input": [
      "'endpoints' in data"
     ],
     "language": "python",
     "metadata": {},
     "outputs": []
    },
    {
     "cell_type": "heading",
     "level": 2,
     "metadata": {},
     "source": [
      "HTSQL server"
     ]
    },
    {
     "cell_type": "markdown",
     "metadata": {},
     "source": [
      "(Optional, since it's only intended for internal use)"
     ]
    },
    {
     "cell_type": "code",
     "collapsed": false,
     "input": [
      "result = requests.get(\"https://fec.18f.us/htsql/dimcand.limit(10)/:json\", auth=auth)"
     ],
     "language": "python",
     "metadata": {},
     "outputs": []
    },
    {
     "cell_type": "code",
     "collapsed": false,
     "input": [
      "result.status_code == 200"
     ],
     "language": "python",
     "metadata": {},
     "outputs": []
    },
    {
     "cell_type": "code",
     "collapsed": false,
     "input": [
      "data = json.loads(result.content.decode('utf8'))"
     ],
     "language": "python",
     "metadata": {},
     "outputs": []
    },
    {
     "cell_type": "code",
     "collapsed": false,
     "input": [
      "'dimcand' in data"
     ],
     "language": "python",
     "metadata": {},
     "outputs": []
    },
    {
     "cell_type": "heading",
     "level": 2,
     "metadata": {},
     "source": [
      "Webservices machine"
     ]
    },
    {
     "cell_type": "markdown",
     "metadata": {},
     "source": [
      "AWS instance hosting API server, RESTful web service, and HTSQL service"
     ]
    },
    {
     "cell_type": "code",
     "collapsed": false,
     "input": [
      "!ssh -i ~/.ssh/fec-cfdm.pem ubuntu@$WEBSERVICES_HOST \"sudo cat /etc/os-release\""
     ],
     "language": "python",
     "metadata": {},
     "outputs": []
    },
    {
     "cell_type": "code",
     "collapsed": false,
     "input": [
      "!ssh -i ~/.ssh/fec-cfdm.pem ubuntu@$WEBSERVICES_HOST \"sudo df -h\""
     ],
     "language": "python",
     "metadata": {},
     "outputs": []
    },
    {
     "cell_type": "code",
     "collapsed": false,
     "input": [
      "!ssh -i ~/.ssh/fec-cfdm.pem ubuntu@$WEBSERVICES_HOST \"sudo free -h\""
     ],
     "language": "python",
     "metadata": {},
     "outputs": []
    },
    {
     "cell_type": "code",
     "collapsed": false,
     "input": [
      "!ssh -t -i ~/.ssh/fec-cfdm.pem ubuntu@$WEBSERVICES_HOST \"top -n 1\""
     ],
     "language": "python",
     "metadata": {},
     "outputs": []
    },
    {
     "cell_type": "heading",
     "level": 2,
     "metadata": {},
     "source": [
      "Database (RDS instance)"
     ]
    },
    {
     "cell_type": "code",
     "collapsed": false,
     "input": [
      "%load_ext sql"
     ],
     "language": "python",
     "metadata": {},
     "outputs": []
    },
    {
     "cell_type": "code",
     "collapsed": false,
     "input": [
      "import os; sqla_conn = os.getenv('SQLA_CONN'); print (sqla_conn)"
     ],
     "language": "python",
     "metadata": {},
     "outputs": []
    },
    {
     "cell_type": "code",
     "collapsed": false,
     "input": [
      "%sql {sqla_conn}"
     ],
     "language": "python",
     "metadata": {},
     "outputs": []
    },
    {
     "cell_type": "code",
     "collapsed": false,
     "input": [
      "%sql select * from dimcand limit 1"
     ],
     "language": "python",
     "metadata": {},
     "outputs": []
    },
    {
     "cell_type": "code",
     "collapsed": false,
     "input": [],
     "language": "python",
     "metadata": {},
     "outputs": []
    }
   ],
   "metadata": {}
  }
 ]
}